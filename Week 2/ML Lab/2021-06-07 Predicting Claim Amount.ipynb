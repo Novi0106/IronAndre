{
 "cells": [
  {
   "cell_type": "code",
   "execution_count": 2,
   "id": "97ef7302",
   "metadata": {},
   "outputs": [],
   "source": [
    "import pandas as pd \n",
    "import numpy as np \n",
    "import matplotlib.pyplot as plt\n",
    "import seaborn as sns \n",
    "%matplotlib inline "
   ]
  },
  {
   "cell_type": "code",
   "execution_count": 3,
   "id": "1ce667ca",
   "metadata": {},
   "outputs": [],
   "source": [
    "from sklearn import linear_model\n",
    "from sklearn.metrics import mean_squared_error, r2_score "
   ]
  },
  {
   "cell_type": "code",
   "execution_count": 4,
   "id": "601cb1b2",
   "metadata": {},
   "outputs": [
    {
     "name": "stdout",
     "output_type": "stream",
     "text": [
      "/Users/andrenovikov/Documents/Repos/IronAndre/Week 2/ML Lab\r\n"
     ]
    }
   ],
   "source": [
    "!pwd"
   ]
  },
  {
   "cell_type": "code",
   "execution_count": 5,
   "id": "10d7392e",
   "metadata": {},
   "outputs": [],
   "source": [
    "data=pd.read_csv('clean_marketing.csv')"
   ]
  },
  {
   "cell_type": "code",
   "execution_count": 6,
   "id": "e3fc7be7",
   "metadata": {},
   "outputs": [],
   "source": [
    "data.columns = data.columns.str.replace(' ','_')\n",
    "cols=[]\n",
    "for i in range(len(data.columns)):\n",
    "    cols.append(data.columns[i].lower())\n",
    "data.columns=cols"
   ]
  },
  {
   "cell_type": "code",
   "execution_count": 7,
   "id": "aa2b6607",
   "metadata": {},
   "outputs": [
    {
     "data": {
      "text/html": [
       "<div>\n",
       "<style scoped>\n",
       "    .dataframe tbody tr th:only-of-type {\n",
       "        vertical-align: middle;\n",
       "    }\n",
       "\n",
       "    .dataframe tbody tr th {\n",
       "        vertical-align: top;\n",
       "    }\n",
       "\n",
       "    .dataframe thead th {\n",
       "        text-align: right;\n",
       "    }\n",
       "</style>\n",
       "<table border=\"1\" class=\"dataframe\">\n",
       "  <thead>\n",
       "    <tr style=\"text-align: right;\">\n",
       "      <th></th>\n",
       "      <th>unnamed:_0</th>\n",
       "      <th>customer</th>\n",
       "      <th>state</th>\n",
       "      <th>customer_lifetime_value</th>\n",
       "      <th>response</th>\n",
       "      <th>coverage</th>\n",
       "      <th>education</th>\n",
       "      <th>effective_to_date</th>\n",
       "      <th>employmentstatus</th>\n",
       "      <th>gender</th>\n",
       "      <th>...</th>\n",
       "      <th>number_of_open_complaints</th>\n",
       "      <th>number_of_policies</th>\n",
       "      <th>policy_type</th>\n",
       "      <th>policy</th>\n",
       "      <th>renew_offer_type</th>\n",
       "      <th>sales_channel</th>\n",
       "      <th>total_claim_amount</th>\n",
       "      <th>vehicle_class</th>\n",
       "      <th>vehicle_size</th>\n",
       "      <th>effective_to_date_month</th>\n",
       "    </tr>\n",
       "  </thead>\n",
       "  <tbody>\n",
       "    <tr>\n",
       "      <th>0</th>\n",
       "      <td>0</td>\n",
       "      <td>BU79786</td>\n",
       "      <td>Washington</td>\n",
       "      <td>2763.519279</td>\n",
       "      <td>No</td>\n",
       "      <td>Basic</td>\n",
       "      <td>Bachelor</td>\n",
       "      <td>2011-02-24</td>\n",
       "      <td>Employed</td>\n",
       "      <td>F</td>\n",
       "      <td>...</td>\n",
       "      <td>0</td>\n",
       "      <td>1</td>\n",
       "      <td>Corporate Auto</td>\n",
       "      <td>Corporate L3</td>\n",
       "      <td>Offer1</td>\n",
       "      <td>Agent</td>\n",
       "      <td>384.811147</td>\n",
       "      <td>Two-Door Car</td>\n",
       "      <td>Medsize</td>\n",
       "      <td>2</td>\n",
       "    </tr>\n",
       "    <tr>\n",
       "      <th>1</th>\n",
       "      <td>1</td>\n",
       "      <td>QZ44356</td>\n",
       "      <td>Arizona</td>\n",
       "      <td>6979.535903</td>\n",
       "      <td>No</td>\n",
       "      <td>Extended</td>\n",
       "      <td>Bachelor</td>\n",
       "      <td>2011-01-31</td>\n",
       "      <td>Unemployed</td>\n",
       "      <td>F</td>\n",
       "      <td>...</td>\n",
       "      <td>0</td>\n",
       "      <td>8</td>\n",
       "      <td>Personal Auto</td>\n",
       "      <td>Personal L3</td>\n",
       "      <td>Offer3</td>\n",
       "      <td>Agent</td>\n",
       "      <td>1131.464935</td>\n",
       "      <td>Four-Door Car</td>\n",
       "      <td>Medsize</td>\n",
       "      <td>1</td>\n",
       "    </tr>\n",
       "    <tr>\n",
       "      <th>2</th>\n",
       "      <td>2</td>\n",
       "      <td>AI49188</td>\n",
       "      <td>Nevada</td>\n",
       "      <td>12887.431650</td>\n",
       "      <td>No</td>\n",
       "      <td>Premium</td>\n",
       "      <td>Bachelor</td>\n",
       "      <td>2011-02-19</td>\n",
       "      <td>Employed</td>\n",
       "      <td>F</td>\n",
       "      <td>...</td>\n",
       "      <td>0</td>\n",
       "      <td>2</td>\n",
       "      <td>Personal Auto</td>\n",
       "      <td>Personal L3</td>\n",
       "      <td>Offer1</td>\n",
       "      <td>Agent</td>\n",
       "      <td>566.472247</td>\n",
       "      <td>Two-Door Car</td>\n",
       "      <td>Medsize</td>\n",
       "      <td>2</td>\n",
       "    </tr>\n",
       "    <tr>\n",
       "      <th>3</th>\n",
       "      <td>3</td>\n",
       "      <td>WW63253</td>\n",
       "      <td>California</td>\n",
       "      <td>7645.861827</td>\n",
       "      <td>No</td>\n",
       "      <td>Basic</td>\n",
       "      <td>Bachelor</td>\n",
       "      <td>2011-01-20</td>\n",
       "      <td>Unemployed</td>\n",
       "      <td>M</td>\n",
       "      <td>...</td>\n",
       "      <td>0</td>\n",
       "      <td>7</td>\n",
       "      <td>Corporate Auto</td>\n",
       "      <td>Corporate L2</td>\n",
       "      <td>Offer1</td>\n",
       "      <td>Call Center</td>\n",
       "      <td>529.881344</td>\n",
       "      <td>SUV</td>\n",
       "      <td>Medsize</td>\n",
       "      <td>1</td>\n",
       "    </tr>\n",
       "    <tr>\n",
       "      <th>4</th>\n",
       "      <td>4</td>\n",
       "      <td>HB64268</td>\n",
       "      <td>Washington</td>\n",
       "      <td>2813.692575</td>\n",
       "      <td>No</td>\n",
       "      <td>Basic</td>\n",
       "      <td>Bachelor</td>\n",
       "      <td>2011-02-03</td>\n",
       "      <td>Employed</td>\n",
       "      <td>M</td>\n",
       "      <td>...</td>\n",
       "      <td>0</td>\n",
       "      <td>1</td>\n",
       "      <td>Personal Auto</td>\n",
       "      <td>Personal L1</td>\n",
       "      <td>Offer1</td>\n",
       "      <td>Agent</td>\n",
       "      <td>138.130879</td>\n",
       "      <td>Four-Door Car</td>\n",
       "      <td>Medsize</td>\n",
       "      <td>2</td>\n",
       "    </tr>\n",
       "  </tbody>\n",
       "</table>\n",
       "<p>5 rows × 26 columns</p>\n",
       "</div>"
      ],
      "text/plain": [
       "   unnamed:_0 customer       state  customer_lifetime_value response  \\\n",
       "0           0  BU79786  Washington              2763.519279       No   \n",
       "1           1  QZ44356     Arizona              6979.535903       No   \n",
       "2           2  AI49188      Nevada             12887.431650       No   \n",
       "3           3  WW63253  California              7645.861827       No   \n",
       "4           4  HB64268  Washington              2813.692575       No   \n",
       "\n",
       "   coverage education effective_to_date employmentstatus gender  ...  \\\n",
       "0     Basic  Bachelor        2011-02-24         Employed      F  ...   \n",
       "1  Extended  Bachelor        2011-01-31       Unemployed      F  ...   \n",
       "2   Premium  Bachelor        2011-02-19         Employed      F  ...   \n",
       "3     Basic  Bachelor        2011-01-20       Unemployed      M  ...   \n",
       "4     Basic  Bachelor        2011-02-03         Employed      M  ...   \n",
       "\n",
       "   number_of_open_complaints number_of_policies     policy_type        policy  \\\n",
       "0                          0                  1  Corporate Auto  Corporate L3   \n",
       "1                          0                  8   Personal Auto   Personal L3   \n",
       "2                          0                  2   Personal Auto   Personal L3   \n",
       "3                          0                  7  Corporate Auto  Corporate L2   \n",
       "4                          0                  1   Personal Auto   Personal L1   \n",
       "\n",
       "   renew_offer_type  sales_channel  total_claim_amount  vehicle_class  \\\n",
       "0            Offer1          Agent          384.811147   Two-Door Car   \n",
       "1            Offer3          Agent         1131.464935  Four-Door Car   \n",
       "2            Offer1          Agent          566.472247   Two-Door Car   \n",
       "3            Offer1    Call Center          529.881344            SUV   \n",
       "4            Offer1          Agent          138.130879  Four-Door Car   \n",
       "\n",
       "  vehicle_size effective_to_date_month  \n",
       "0      Medsize                       2  \n",
       "1      Medsize                       1  \n",
       "2      Medsize                       2  \n",
       "3      Medsize                       1  \n",
       "4      Medsize                       2  \n",
       "\n",
       "[5 rows x 26 columns]"
      ]
     },
     "execution_count": 7,
     "metadata": {},
     "output_type": "execute_result"
    }
   ],
   "source": [
    "data.head()"
   ]
  },
  {
   "cell_type": "code",
   "execution_count": 8,
   "id": "4f781156",
   "metadata": {},
   "outputs": [
    {
     "name": "stdout",
     "output_type": "stream",
     "text": [
      "<class 'pandas.core.frame.DataFrame'>\n",
      "RangeIndex: 9134 entries, 0 to 9133\n",
      "Data columns (total 26 columns):\n",
      " #   Column                         Non-Null Count  Dtype  \n",
      "---  ------                         --------------  -----  \n",
      " 0   unnamed:_0                     9134 non-null   int64  \n",
      " 1   customer                       9134 non-null   object \n",
      " 2   state                          9134 non-null   object \n",
      " 3   customer_lifetime_value        9134 non-null   float64\n",
      " 4   response                       9134 non-null   object \n",
      " 5   coverage                       9134 non-null   object \n",
      " 6   education                      9134 non-null   object \n",
      " 7   effective_to_date              9134 non-null   object \n",
      " 8   employmentstatus               9134 non-null   object \n",
      " 9   gender                         9134 non-null   object \n",
      " 10  income                         9134 non-null   int64  \n",
      " 11  location_code                  9134 non-null   object \n",
      " 12  marital_status                 9134 non-null   object \n",
      " 13  monthly_premium_auto           9134 non-null   int64  \n",
      " 14  months_since_last_claim        9134 non-null   int64  \n",
      " 15  months_since_policy_inception  9134 non-null   int64  \n",
      " 16  number_of_open_complaints      9134 non-null   int64  \n",
      " 17  number_of_policies             9134 non-null   int64  \n",
      " 18  policy_type                    9134 non-null   object \n",
      " 19  policy                         9134 non-null   object \n",
      " 20  renew_offer_type               9134 non-null   object \n",
      " 21  sales_channel                  9134 non-null   object \n",
      " 22  total_claim_amount             9134 non-null   float64\n",
      " 23  vehicle_class                  9134 non-null   object \n",
      " 24  vehicle_size                   9134 non-null   object \n",
      " 25  effective_to_date_month        9134 non-null   int64  \n",
      "dtypes: float64(2), int64(8), object(16)\n",
      "memory usage: 1.8+ MB\n"
     ]
    }
   ],
   "source": [
    "data.info()"
   ]
  },
  {
   "cell_type": "code",
   "execution_count": 9,
   "id": "f106014b",
   "metadata": {},
   "outputs": [
    {
     "data": {
      "text/plain": [
       "(9134, 26)"
      ]
     },
     "execution_count": 9,
     "metadata": {},
     "output_type": "execute_result"
    }
   ],
   "source": [
    "data.shape"
   ]
  },
  {
   "cell_type": "code",
   "execution_count": 10,
   "id": "0bc88730",
   "metadata": {},
   "outputs": [
    {
     "data": {
      "text/html": [
       "<div>\n",
       "<style scoped>\n",
       "    .dataframe tbody tr th:only-of-type {\n",
       "        vertical-align: middle;\n",
       "    }\n",
       "\n",
       "    .dataframe tbody tr th {\n",
       "        vertical-align: top;\n",
       "    }\n",
       "\n",
       "    .dataframe thead th {\n",
       "        text-align: right;\n",
       "    }\n",
       "</style>\n",
       "<table border=\"1\" class=\"dataframe\">\n",
       "  <thead>\n",
       "    <tr style=\"text-align: right;\">\n",
       "      <th></th>\n",
       "      <th>unnamed:_0</th>\n",
       "      <th>customer</th>\n",
       "      <th>state</th>\n",
       "      <th>customer_lifetime_value</th>\n",
       "      <th>response</th>\n",
       "      <th>coverage</th>\n",
       "      <th>education</th>\n",
       "      <th>effective_to_date</th>\n",
       "      <th>employmentstatus</th>\n",
       "      <th>gender</th>\n",
       "      <th>...</th>\n",
       "      <th>number_of_open_complaints</th>\n",
       "      <th>number_of_policies</th>\n",
       "      <th>policy_type</th>\n",
       "      <th>policy</th>\n",
       "      <th>renew_offer_type</th>\n",
       "      <th>sales_channel</th>\n",
       "      <th>total_claim_amount</th>\n",
       "      <th>vehicle_class</th>\n",
       "      <th>vehicle_size</th>\n",
       "      <th>effective_to_date_month</th>\n",
       "    </tr>\n",
       "  </thead>\n",
       "  <tbody>\n",
       "    <tr>\n",
       "      <th>0</th>\n",
       "      <td>0</td>\n",
       "      <td>BU79786</td>\n",
       "      <td>Washington</td>\n",
       "      <td>2763.519279</td>\n",
       "      <td>No</td>\n",
       "      <td>Basic</td>\n",
       "      <td>Bachelor</td>\n",
       "      <td>2011-02-24</td>\n",
       "      <td>Employed</td>\n",
       "      <td>F</td>\n",
       "      <td>...</td>\n",
       "      <td>0</td>\n",
       "      <td>1</td>\n",
       "      <td>Corporate Auto</td>\n",
       "      <td>Corporate L3</td>\n",
       "      <td>Offer1</td>\n",
       "      <td>Agent</td>\n",
       "      <td>384.811147</td>\n",
       "      <td>Two-Door Car</td>\n",
       "      <td>Medsize</td>\n",
       "      <td>2</td>\n",
       "    </tr>\n",
       "    <tr>\n",
       "      <th>1</th>\n",
       "      <td>1</td>\n",
       "      <td>QZ44356</td>\n",
       "      <td>Arizona</td>\n",
       "      <td>6979.535903</td>\n",
       "      <td>No</td>\n",
       "      <td>Extended</td>\n",
       "      <td>Bachelor</td>\n",
       "      <td>2011-01-31</td>\n",
       "      <td>Unemployed</td>\n",
       "      <td>F</td>\n",
       "      <td>...</td>\n",
       "      <td>0</td>\n",
       "      <td>8</td>\n",
       "      <td>Personal Auto</td>\n",
       "      <td>Personal L3</td>\n",
       "      <td>Offer3</td>\n",
       "      <td>Agent</td>\n",
       "      <td>1131.464935</td>\n",
       "      <td>Four-Door Car</td>\n",
       "      <td>Medsize</td>\n",
       "      <td>1</td>\n",
       "    </tr>\n",
       "    <tr>\n",
       "      <th>2</th>\n",
       "      <td>2</td>\n",
       "      <td>AI49188</td>\n",
       "      <td>Nevada</td>\n",
       "      <td>12887.431650</td>\n",
       "      <td>No</td>\n",
       "      <td>Premium</td>\n",
       "      <td>Bachelor</td>\n",
       "      <td>2011-02-19</td>\n",
       "      <td>Employed</td>\n",
       "      <td>F</td>\n",
       "      <td>...</td>\n",
       "      <td>0</td>\n",
       "      <td>2</td>\n",
       "      <td>Personal Auto</td>\n",
       "      <td>Personal L3</td>\n",
       "      <td>Offer1</td>\n",
       "      <td>Agent</td>\n",
       "      <td>566.472247</td>\n",
       "      <td>Two-Door Car</td>\n",
       "      <td>Medsize</td>\n",
       "      <td>2</td>\n",
       "    </tr>\n",
       "    <tr>\n",
       "      <th>3</th>\n",
       "      <td>3</td>\n",
       "      <td>WW63253</td>\n",
       "      <td>California</td>\n",
       "      <td>7645.861827</td>\n",
       "      <td>No</td>\n",
       "      <td>Basic</td>\n",
       "      <td>Bachelor</td>\n",
       "      <td>2011-01-20</td>\n",
       "      <td>Unemployed</td>\n",
       "      <td>M</td>\n",
       "      <td>...</td>\n",
       "      <td>0</td>\n",
       "      <td>7</td>\n",
       "      <td>Corporate Auto</td>\n",
       "      <td>Corporate L2</td>\n",
       "      <td>Offer1</td>\n",
       "      <td>Call Center</td>\n",
       "      <td>529.881344</td>\n",
       "      <td>SUV</td>\n",
       "      <td>Medsize</td>\n",
       "      <td>1</td>\n",
       "    </tr>\n",
       "    <tr>\n",
       "      <th>4</th>\n",
       "      <td>4</td>\n",
       "      <td>HB64268</td>\n",
       "      <td>Washington</td>\n",
       "      <td>2813.692575</td>\n",
       "      <td>No</td>\n",
       "      <td>Basic</td>\n",
       "      <td>Bachelor</td>\n",
       "      <td>2011-02-03</td>\n",
       "      <td>Employed</td>\n",
       "      <td>M</td>\n",
       "      <td>...</td>\n",
       "      <td>0</td>\n",
       "      <td>1</td>\n",
       "      <td>Personal Auto</td>\n",
       "      <td>Personal L1</td>\n",
       "      <td>Offer1</td>\n",
       "      <td>Agent</td>\n",
       "      <td>138.130879</td>\n",
       "      <td>Four-Door Car</td>\n",
       "      <td>Medsize</td>\n",
       "      <td>2</td>\n",
       "    </tr>\n",
       "  </tbody>\n",
       "</table>\n",
       "<p>5 rows × 26 columns</p>\n",
       "</div>"
      ],
      "text/plain": [
       "   unnamed:_0 customer       state  customer_lifetime_value response  \\\n",
       "0           0  BU79786  Washington              2763.519279       No   \n",
       "1           1  QZ44356     Arizona              6979.535903       No   \n",
       "2           2  AI49188      Nevada             12887.431650       No   \n",
       "3           3  WW63253  California              7645.861827       No   \n",
       "4           4  HB64268  Washington              2813.692575       No   \n",
       "\n",
       "   coverage education effective_to_date employmentstatus gender  ...  \\\n",
       "0     Basic  Bachelor        2011-02-24         Employed      F  ...   \n",
       "1  Extended  Bachelor        2011-01-31       Unemployed      F  ...   \n",
       "2   Premium  Bachelor        2011-02-19         Employed      F  ...   \n",
       "3     Basic  Bachelor        2011-01-20       Unemployed      M  ...   \n",
       "4     Basic  Bachelor        2011-02-03         Employed      M  ...   \n",
       "\n",
       "   number_of_open_complaints number_of_policies     policy_type        policy  \\\n",
       "0                          0                  1  Corporate Auto  Corporate L3   \n",
       "1                          0                  8   Personal Auto   Personal L3   \n",
       "2                          0                  2   Personal Auto   Personal L3   \n",
       "3                          0                  7  Corporate Auto  Corporate L2   \n",
       "4                          0                  1   Personal Auto   Personal L1   \n",
       "\n",
       "   renew_offer_type  sales_channel  total_claim_amount  vehicle_class  \\\n",
       "0            Offer1          Agent          384.811147   Two-Door Car   \n",
       "1            Offer3          Agent         1131.464935  Four-Door Car   \n",
       "2            Offer1          Agent          566.472247   Two-Door Car   \n",
       "3            Offer1    Call Center          529.881344            SUV   \n",
       "4            Offer1          Agent          138.130879  Four-Door Car   \n",
       "\n",
       "  vehicle_size effective_to_date_month  \n",
       "0      Medsize                       2  \n",
       "1      Medsize                       1  \n",
       "2      Medsize                       2  \n",
       "3      Medsize                       1  \n",
       "4      Medsize                       2  \n",
       "\n",
       "[5 rows x 26 columns]"
      ]
     },
     "execution_count": 10,
     "metadata": {},
     "output_type": "execute_result"
    }
   ],
   "source": [
    "data.head()"
   ]
  },
  {
   "cell_type": "code",
   "execution_count": 11,
   "id": "82a4f2f5",
   "metadata": {},
   "outputs": [],
   "source": [
    "y = data['total_claim_amount']\n",
    "\n",
    "data = data.drop(['total_claim_amount'],axis=1)"
   ]
  },
  {
   "cell_type": "code",
   "execution_count": 12,
   "id": "8c3a8b0f",
   "metadata": {},
   "outputs": [],
   "source": [
    "d_num = data.select_dtypes(include = np.number)"
   ]
  },
  {
   "cell_type": "code",
   "execution_count": 13,
   "id": "ba2db6df",
   "metadata": {},
   "outputs": [],
   "source": [
    "d_cat = data.select_dtypes(include = object)"
   ]
  },
  {
   "cell_type": "code",
   "execution_count": 14,
   "id": "d323eabd",
   "metadata": {},
   "outputs": [],
   "source": [
    "d_num = d_num.drop(['unnamed:_0'],axis=1)"
   ]
  },
  {
   "cell_type": "code",
   "execution_count": 15,
   "id": "4b19afde",
   "metadata": {},
   "outputs": [
    {
     "data": {
      "text/html": [
       "<div>\n",
       "<style scoped>\n",
       "    .dataframe tbody tr th:only-of-type {\n",
       "        vertical-align: middle;\n",
       "    }\n",
       "\n",
       "    .dataframe tbody tr th {\n",
       "        vertical-align: top;\n",
       "    }\n",
       "\n",
       "    .dataframe thead th {\n",
       "        text-align: right;\n",
       "    }\n",
       "</style>\n",
       "<table border=\"1\" class=\"dataframe\">\n",
       "  <thead>\n",
       "    <tr style=\"text-align: right;\">\n",
       "      <th></th>\n",
       "      <th>customer_lifetime_value</th>\n",
       "      <th>income</th>\n",
       "      <th>monthly_premium_auto</th>\n",
       "      <th>months_since_last_claim</th>\n",
       "      <th>months_since_policy_inception</th>\n",
       "      <th>number_of_open_complaints</th>\n",
       "      <th>number_of_policies</th>\n",
       "      <th>effective_to_date_month</th>\n",
       "    </tr>\n",
       "  </thead>\n",
       "  <tbody>\n",
       "    <tr>\n",
       "      <th>0</th>\n",
       "      <td>2763.519279</td>\n",
       "      <td>56274</td>\n",
       "      <td>69</td>\n",
       "      <td>32</td>\n",
       "      <td>5</td>\n",
       "      <td>0</td>\n",
       "      <td>1</td>\n",
       "      <td>2</td>\n",
       "    </tr>\n",
       "    <tr>\n",
       "      <th>1</th>\n",
       "      <td>6979.535903</td>\n",
       "      <td>0</td>\n",
       "      <td>94</td>\n",
       "      <td>13</td>\n",
       "      <td>42</td>\n",
       "      <td>0</td>\n",
       "      <td>8</td>\n",
       "      <td>1</td>\n",
       "    </tr>\n",
       "    <tr>\n",
       "      <th>2</th>\n",
       "      <td>12887.431650</td>\n",
       "      <td>48767</td>\n",
       "      <td>108</td>\n",
       "      <td>18</td>\n",
       "      <td>38</td>\n",
       "      <td>0</td>\n",
       "      <td>2</td>\n",
       "      <td>2</td>\n",
       "    </tr>\n",
       "    <tr>\n",
       "      <th>3</th>\n",
       "      <td>7645.861827</td>\n",
       "      <td>0</td>\n",
       "      <td>106</td>\n",
       "      <td>18</td>\n",
       "      <td>65</td>\n",
       "      <td>0</td>\n",
       "      <td>7</td>\n",
       "      <td>1</td>\n",
       "    </tr>\n",
       "    <tr>\n",
       "      <th>4</th>\n",
       "      <td>2813.692575</td>\n",
       "      <td>43836</td>\n",
       "      <td>73</td>\n",
       "      <td>12</td>\n",
       "      <td>44</td>\n",
       "      <td>0</td>\n",
       "      <td>1</td>\n",
       "      <td>2</td>\n",
       "    </tr>\n",
       "    <tr>\n",
       "      <th>5</th>\n",
       "      <td>8256.297800</td>\n",
       "      <td>62902</td>\n",
       "      <td>69</td>\n",
       "      <td>14</td>\n",
       "      <td>94</td>\n",
       "      <td>0</td>\n",
       "      <td>2</td>\n",
       "      <td>1</td>\n",
       "    </tr>\n",
       "    <tr>\n",
       "      <th>6</th>\n",
       "      <td>5380.898636</td>\n",
       "      <td>55350</td>\n",
       "      <td>67</td>\n",
       "      <td>0</td>\n",
       "      <td>13</td>\n",
       "      <td>0</td>\n",
       "      <td>9</td>\n",
       "      <td>2</td>\n",
       "    </tr>\n",
       "    <tr>\n",
       "      <th>7</th>\n",
       "      <td>7216.100311</td>\n",
       "      <td>0</td>\n",
       "      <td>101</td>\n",
       "      <td>0</td>\n",
       "      <td>68</td>\n",
       "      <td>0</td>\n",
       "      <td>4</td>\n",
       "      <td>1</td>\n",
       "    </tr>\n",
       "    <tr>\n",
       "      <th>8</th>\n",
       "      <td>24127.504020</td>\n",
       "      <td>14072</td>\n",
       "      <td>71</td>\n",
       "      <td>13</td>\n",
       "      <td>3</td>\n",
       "      <td>0</td>\n",
       "      <td>2</td>\n",
       "      <td>1</td>\n",
       "    </tr>\n",
       "    <tr>\n",
       "      <th>9</th>\n",
       "      <td>7388.178085</td>\n",
       "      <td>28812</td>\n",
       "      <td>93</td>\n",
       "      <td>17</td>\n",
       "      <td>7</td>\n",
       "      <td>0</td>\n",
       "      <td>8</td>\n",
       "      <td>2</td>\n",
       "    </tr>\n",
       "    <tr>\n",
       "      <th>10</th>\n",
       "      <td>4738.992022</td>\n",
       "      <td>0</td>\n",
       "      <td>67</td>\n",
       "      <td>23</td>\n",
       "      <td>5</td>\n",
       "      <td>0</td>\n",
       "      <td>3</td>\n",
       "      <td>2</td>\n",
       "    </tr>\n",
       "    <tr>\n",
       "      <th>11</th>\n",
       "      <td>8197.197078</td>\n",
       "      <td>0</td>\n",
       "      <td>110</td>\n",
       "      <td>27</td>\n",
       "      <td>87</td>\n",
       "      <td>0</td>\n",
       "      <td>3</td>\n",
       "      <td>1</td>\n",
       "    </tr>\n",
       "    <tr>\n",
       "      <th>12</th>\n",
       "      <td>8798.797003</td>\n",
       "      <td>77026</td>\n",
       "      <td>110</td>\n",
       "      <td>9</td>\n",
       "      <td>82</td>\n",
       "      <td>2</td>\n",
       "      <td>3</td>\n",
       "      <td>2</td>\n",
       "    </tr>\n",
       "    <tr>\n",
       "      <th>13</th>\n",
       "      <td>8819.018934</td>\n",
       "      <td>99845</td>\n",
       "      <td>110</td>\n",
       "      <td>23</td>\n",
       "      <td>25</td>\n",
       "      <td>1</td>\n",
       "      <td>8</td>\n",
       "      <td>1</td>\n",
       "    </tr>\n",
       "    <tr>\n",
       "      <th>14</th>\n",
       "      <td>5384.431665</td>\n",
       "      <td>83689</td>\n",
       "      <td>70</td>\n",
       "      <td>21</td>\n",
       "      <td>10</td>\n",
       "      <td>2</td>\n",
       "      <td>8</td>\n",
       "      <td>1</td>\n",
       "    </tr>\n",
       "    <tr>\n",
       "      <th>15</th>\n",
       "      <td>7463.139377</td>\n",
       "      <td>24599</td>\n",
       "      <td>64</td>\n",
       "      <td>12</td>\n",
       "      <td>50</td>\n",
       "      <td>1</td>\n",
       "      <td>2</td>\n",
       "      <td>1</td>\n",
       "    </tr>\n",
       "    <tr>\n",
       "      <th>16</th>\n",
       "      <td>2566.867823</td>\n",
       "      <td>25049</td>\n",
       "      <td>67</td>\n",
       "      <td>14</td>\n",
       "      <td>7</td>\n",
       "      <td>0</td>\n",
       "      <td>1</td>\n",
       "      <td>2</td>\n",
       "    </tr>\n",
       "    <tr>\n",
       "      <th>17</th>\n",
       "      <td>3945.241604</td>\n",
       "      <td>28855</td>\n",
       "      <td>101</td>\n",
       "      <td>12</td>\n",
       "      <td>59</td>\n",
       "      <td>0</td>\n",
       "      <td>1</td>\n",
       "      <td>1</td>\n",
       "    </tr>\n",
       "    <tr>\n",
       "      <th>18</th>\n",
       "      <td>5710.333115</td>\n",
       "      <td>51148</td>\n",
       "      <td>72</td>\n",
       "      <td>9</td>\n",
       "      <td>1</td>\n",
       "      <td>0</td>\n",
       "      <td>7</td>\n",
       "      <td>2</td>\n",
       "    </tr>\n",
       "    <tr>\n",
       "      <th>19</th>\n",
       "      <td>8162.617053</td>\n",
       "      <td>66140</td>\n",
       "      <td>101</td>\n",
       "      <td>11</td>\n",
       "      <td>21</td>\n",
       "      <td>0</td>\n",
       "      <td>3</td>\n",
       "      <td>1</td>\n",
       "    </tr>\n",
       "    <tr>\n",
       "      <th>20</th>\n",
       "      <td>2872.051273</td>\n",
       "      <td>57749</td>\n",
       "      <td>74</td>\n",
       "      <td>31</td>\n",
       "      <td>21</td>\n",
       "      <td>0</td>\n",
       "      <td>1</td>\n",
       "      <td>2</td>\n",
       "    </tr>\n",
       "    <tr>\n",
       "      <th>21</th>\n",
       "      <td>3041.791561</td>\n",
       "      <td>13789</td>\n",
       "      <td>79</td>\n",
       "      <td>8</td>\n",
       "      <td>49</td>\n",
       "      <td>0</td>\n",
       "      <td>1</td>\n",
       "      <td>1</td>\n",
       "    </tr>\n",
       "    <tr>\n",
       "      <th>22</th>\n",
       "      <td>24127.504020</td>\n",
       "      <td>14072</td>\n",
       "      <td>71</td>\n",
       "      <td>13</td>\n",
       "      <td>3</td>\n",
       "      <td>0</td>\n",
       "      <td>2</td>\n",
       "      <td>1</td>\n",
       "    </tr>\n",
       "    <tr>\n",
       "      <th>23</th>\n",
       "      <td>2450.190996</td>\n",
       "      <td>0</td>\n",
       "      <td>73</td>\n",
       "      <td>4</td>\n",
       "      <td>44</td>\n",
       "      <td>3</td>\n",
       "      <td>1</td>\n",
       "      <td>2</td>\n",
       "    </tr>\n",
       "    <tr>\n",
       "      <th>24</th>\n",
       "      <td>2392.107890</td>\n",
       "      <td>17870</td>\n",
       "      <td>61</td>\n",
       "      <td>30</td>\n",
       "      <td>91</td>\n",
       "      <td>0</td>\n",
       "      <td>1</td>\n",
       "      <td>2</td>\n",
       "    </tr>\n",
       "    <tr>\n",
       "      <th>25</th>\n",
       "      <td>5802.065978</td>\n",
       "      <td>97541</td>\n",
       "      <td>72</td>\n",
       "      <td>22</td>\n",
       "      <td>1</td>\n",
       "      <td>0</td>\n",
       "      <td>3</td>\n",
       "      <td>1</td>\n",
       "    </tr>\n",
       "    <tr>\n",
       "      <th>26</th>\n",
       "      <td>3946.372085</td>\n",
       "      <td>0</td>\n",
       "      <td>111</td>\n",
       "      <td>15</td>\n",
       "      <td>47</td>\n",
       "      <td>0</td>\n",
       "      <td>1</td>\n",
       "      <td>2</td>\n",
       "    </tr>\n",
       "    <tr>\n",
       "      <th>27</th>\n",
       "      <td>5346.916576</td>\n",
       "      <td>10511</td>\n",
       "      <td>139</td>\n",
       "      <td>33</td>\n",
       "      <td>64</td>\n",
       "      <td>0</td>\n",
       "      <td>1</td>\n",
       "      <td>2</td>\n",
       "    </tr>\n",
       "    <tr>\n",
       "      <th>28</th>\n",
       "      <td>12902.560140</td>\n",
       "      <td>86584</td>\n",
       "      <td>111</td>\n",
       "      <td>33</td>\n",
       "      <td>54</td>\n",
       "      <td>2</td>\n",
       "      <td>2</td>\n",
       "      <td>2</td>\n",
       "    </tr>\n",
       "    <tr>\n",
       "      <th>29</th>\n",
       "      <td>3235.360468</td>\n",
       "      <td>75690</td>\n",
       "      <td>80</td>\n",
       "      <td>17</td>\n",
       "      <td>44</td>\n",
       "      <td>1</td>\n",
       "      <td>1</td>\n",
       "      <td>2</td>\n",
       "    </tr>\n",
       "  </tbody>\n",
       "</table>\n",
       "</div>"
      ],
      "text/plain": [
       "    customer_lifetime_value  income  monthly_premium_auto  \\\n",
       "0               2763.519279   56274                    69   \n",
       "1               6979.535903       0                    94   \n",
       "2              12887.431650   48767                   108   \n",
       "3               7645.861827       0                   106   \n",
       "4               2813.692575   43836                    73   \n",
       "5               8256.297800   62902                    69   \n",
       "6               5380.898636   55350                    67   \n",
       "7               7216.100311       0                   101   \n",
       "8              24127.504020   14072                    71   \n",
       "9               7388.178085   28812                    93   \n",
       "10              4738.992022       0                    67   \n",
       "11              8197.197078       0                   110   \n",
       "12              8798.797003   77026                   110   \n",
       "13              8819.018934   99845                   110   \n",
       "14              5384.431665   83689                    70   \n",
       "15              7463.139377   24599                    64   \n",
       "16              2566.867823   25049                    67   \n",
       "17              3945.241604   28855                   101   \n",
       "18              5710.333115   51148                    72   \n",
       "19              8162.617053   66140                   101   \n",
       "20              2872.051273   57749                    74   \n",
       "21              3041.791561   13789                    79   \n",
       "22             24127.504020   14072                    71   \n",
       "23              2450.190996       0                    73   \n",
       "24              2392.107890   17870                    61   \n",
       "25              5802.065978   97541                    72   \n",
       "26              3946.372085       0                   111   \n",
       "27              5346.916576   10511                   139   \n",
       "28             12902.560140   86584                   111   \n",
       "29              3235.360468   75690                    80   \n",
       "\n",
       "    months_since_last_claim  months_since_policy_inception  \\\n",
       "0                        32                              5   \n",
       "1                        13                             42   \n",
       "2                        18                             38   \n",
       "3                        18                             65   \n",
       "4                        12                             44   \n",
       "5                        14                             94   \n",
       "6                         0                             13   \n",
       "7                         0                             68   \n",
       "8                        13                              3   \n",
       "9                        17                              7   \n",
       "10                       23                              5   \n",
       "11                       27                             87   \n",
       "12                        9                             82   \n",
       "13                       23                             25   \n",
       "14                       21                             10   \n",
       "15                       12                             50   \n",
       "16                       14                              7   \n",
       "17                       12                             59   \n",
       "18                        9                              1   \n",
       "19                       11                             21   \n",
       "20                       31                             21   \n",
       "21                        8                             49   \n",
       "22                       13                              3   \n",
       "23                        4                             44   \n",
       "24                       30                             91   \n",
       "25                       22                              1   \n",
       "26                       15                             47   \n",
       "27                       33                             64   \n",
       "28                       33                             54   \n",
       "29                       17                             44   \n",
       "\n",
       "    number_of_open_complaints  number_of_policies  effective_to_date_month  \n",
       "0                           0                   1                        2  \n",
       "1                           0                   8                        1  \n",
       "2                           0                   2                        2  \n",
       "3                           0                   7                        1  \n",
       "4                           0                   1                        2  \n",
       "5                           0                   2                        1  \n",
       "6                           0                   9                        2  \n",
       "7                           0                   4                        1  \n",
       "8                           0                   2                        1  \n",
       "9                           0                   8                        2  \n",
       "10                          0                   3                        2  \n",
       "11                          0                   3                        1  \n",
       "12                          2                   3                        2  \n",
       "13                          1                   8                        1  \n",
       "14                          2                   8                        1  \n",
       "15                          1                   2                        1  \n",
       "16                          0                   1                        2  \n",
       "17                          0                   1                        1  \n",
       "18                          0                   7                        2  \n",
       "19                          0                   3                        1  \n",
       "20                          0                   1                        2  \n",
       "21                          0                   1                        1  \n",
       "22                          0                   2                        1  \n",
       "23                          3                   1                        2  \n",
       "24                          0                   1                        2  \n",
       "25                          0                   3                        1  \n",
       "26                          0                   1                        2  \n",
       "27                          0                   1                        2  \n",
       "28                          2                   2                        2  \n",
       "29                          1                   1                        2  "
      ]
     },
     "execution_count": 15,
     "metadata": {},
     "output_type": "execute_result"
    }
   ],
   "source": [
    "d_num.head(30)"
   ]
  },
  {
   "cell_type": "code",
   "execution_count": 16,
   "id": "12b8f42d",
   "metadata": {},
   "outputs": [
    {
     "data": {
      "text/plain": [
       "(9134, 8)"
      ]
     },
     "execution_count": 16,
     "metadata": {},
     "output_type": "execute_result"
    }
   ],
   "source": [
    "d_num.shape"
   ]
  },
  {
   "cell_type": "code",
   "execution_count": 17,
   "id": "2fdf1aa3",
   "metadata": {},
   "outputs": [
    {
     "data": {
      "image/png": "[encoded data removed]",
      "text/plain": [
       "<Figure size 1080x720 with 9 Axes>"
      ]
     },
     "metadata": {
      "needs_background": "light"
     },
     "output_type": "display_data"
    }
   ],
   "source": [
    "d_num.hist(bins=15, figsize=(15, 10));"
   ]
  },
  {
   "cell_type": "markdown",
   "id": "889e2686",
   "metadata": {},
   "source": [
    "## Check for multicolliniarity"
   ]
  },
  {
   "cell_type": "markdown",
   "id": "26cb2603",
   "metadata": {},
   "source": [
    "While there is no critical levels of correlation on first sight, we have a few variables that are worth looking closer at.\n",
    "\n",
    "From those that have somewhat higher correlation, we can see that customer_lifetime_value and monthly_premium_auto to have a lot of outliers. This goes in line with the distribution we have seen on the histograms.\n",
    "\n",
    "In the first step it will - thus - make sense to apply a logarithmic scale to those."
   ]
  },
  {
   "cell_type": "code",
   "execution_count": 19,
   "id": "f66f42e6",
   "metadata": {},
   "outputs": [
    {
     "data": {
      "image/png": "[encoded data removed]",
      "text/plain": [
       "<Figure size 720x576 with 2 Axes>"
      ]
     },
     "metadata": {
      "needs_background": "light"
     },
     "output_type": "display_data"
    }
   ],
   "source": [
    "correlations_matrix = data.corr()\n",
    "mask = np.zeros_like(correlations_matrix)\n",
    "mask[np.triu_indices_from(mask)] = True\n",
    "fig,ax = plt.subplots(figsize=(10,8))\n",
    "ax = sns.heatmap(correlations_matrix, mask = mask, annot = True, cmap = 'seismic', center=0)\n",
    "plt.show()"
   ]
  },
  {
   "cell_type": "markdown",
   "id": "69a75d00",
   "metadata": {},
   "source": [
    "...."
   ]
  },
  {
   "cell_type": "code",
   "execution_count": 361,
   "id": "3a0c7f12",
   "metadata": {},
   "outputs": [
    {
     "data": {
      "image/png": "[encoded data removed]",
      "text/plain": [
       "<Figure size 432x288 with 1 Axes>"
      ]
     },
     "metadata": {
      "needs_background": "light"
     },
     "output_type": "display_data"
    }
   ],
   "source": [
    "sns.boxplot(x=d_num['customer_lifetime_value']);"
   ]
  },
  {
   "cell_type": "code",
   "execution_count": 362,
   "id": "d1c45802",
   "metadata": {},
   "outputs": [
    {
     "data": {
      "image/png": "[encoded data removed]",
      "text/plain": [
       "<Figure size 432x288 with 1 Axes>"
      ]
     },
     "metadata": {
      "needs_background": "light"
     },
     "output_type": "display_data"
    }
   ],
   "source": [
    "sns.boxplot(x=d_num['monthly_premium_auto']);"
   ]
  },
  {
   "cell_type": "code",
   "execution_count": 363,
   "id": "3cffe516",
   "metadata": {},
   "outputs": [
    {
     "data": {
      "image/png": "[encoded data removed]",
      "text/plain": [
       "<Figure size 432x288 with 1 Axes>"
      ]
     },
     "metadata": {
      "needs_background": "light"
     },
     "output_type": "display_data"
    }
   ],
   "source": [
    "sns.boxplot(x=d_num['income']);"
   ]
  },
  {
   "cell_type": "code",
   "execution_count": 364,
   "id": "de50ed76",
   "metadata": {},
   "outputs": [
    {
     "data": {
      "image/png": "[encoded data removed]",
      "text/plain": [
       "<Figure size 432x288 with 1 Axes>"
      ]
     },
     "metadata": {
      "needs_background": "light"
     },
     "output_type": "display_data"
    }
   ],
   "source": [
    "sns.boxplot(x=d_num['months_since_policy_inception']);"
   ]
  },
  {
   "cell_type": "markdown",
   "id": "a4da96ad",
   "metadata": {},
   "source": [
    "## Normalising the outlier variables"
   ]
  },
  {
   "cell_type": "markdown",
   "id": "111d19d8",
   "metadata": {},
   "source": [
    "After log transformation customer_life_time_value and monthly_premium_auto show a more intuitive distribution."
   ]
  },
  {
   "cell_type": "code",
   "execution_count": 365,
   "id": "a84ca8df",
   "metadata": {},
   "outputs": [],
   "source": [
    "def log_transform_clean(x):\n",
    "    x=np.log(x)\n",
    "    if np.isfinite(x):\n",
    "        return x\n",
    "    else:\n",
    "        return np.NAN\n"
   ]
  },
  {
   "cell_type": "code",
   "execution_count": 366,
   "id": "437af5fa",
   "metadata": {},
   "outputs": [],
   "source": [
    "d_num['customer_lifetime_value']=list(map(log_transform_clean,d_num['customer_lifetime_value']))\n",
    "d_num['monthly_premium_auto']=list(map(log_transform_clean,d_num['monthly_premium_auto']))"
   ]
  },
  {
   "cell_type": "code",
   "execution_count": 367,
   "id": "10e2b248",
   "metadata": {},
   "outputs": [
    {
     "data": {
      "image/png": "[encoded data removed]",
      "text/plain": [
       "<Figure size 1080x720 with 1 Axes>"
      ]
     },
     "metadata": {
      "needs_background": "light"
     },
     "output_type": "display_data"
    }
   ],
   "source": [
    "d_num['customer_lifetime_value'].hist(figsize = (15,10));"
   ]
  },
  {
   "cell_type": "code",
   "execution_count": 368,
   "id": "0638ae2f",
   "metadata": {},
   "outputs": [
    {
     "data": {
      "image/png": "[encoded data removed]",
      "text/plain": [
       "<Figure size 1080x720 with 1 Axes>"
      ]
     },
     "metadata": {
      "needs_background": "light"
     },
     "output_type": "display_data"
    }
   ],
   "source": [
    "d_num['monthly_premium_auto'].hist(figsize = (15,10));"
   ]
  },
  {
   "cell_type": "code",
   "execution_count": 369,
   "id": "8c9cdf0f",
   "metadata": {},
   "outputs": [],
   "source": [
    "from sklearn.preprocessing import StandardScaler\n",
    "standard = StandardScaler().fit(d_num)\n",
    "d_standard = standard.transform(d_num)"
   ]
  },
  {
   "cell_type": "code",
   "execution_count": 370,
   "id": "dd613d60",
   "metadata": {},
   "outputs": [],
   "source": [
    "scaled = pd.DataFrame(d_standard)"
   ]
  },
  {
   "cell_type": "code",
   "execution_count": 371,
   "id": "d36d6140",
   "metadata": {},
   "outputs": [
    {
     "data": {
      "image/png": "[encoded data removed]",
      "text/plain": [
       "<Figure size 1080x720 with 9 Axes>"
      ]
     },
     "metadata": {
      "needs_background": "light"
     },
     "output_type": "display_data"
    }
   ],
   "source": [
    "scaled.hist(bins=15, figsize=(15, 10));"
   ]
  },
  {
   "cell_type": "code",
   "execution_count": 372,
   "id": "7bc51f4c",
   "metadata": {},
   "outputs": [
    {
     "data": {
      "text/plain": [
       "(9134,)"
      ]
     },
     "execution_count": 372,
     "metadata": {},
     "output_type": "execute_result"
    }
   ],
   "source": [
    "y.shape"
   ]
  },
  {
   "cell_type": "code",
   "execution_count": 373,
   "id": "2956fcf2",
   "metadata": {},
   "outputs": [],
   "source": [
    "d_num = scaled"
   ]
  },
  {
   "cell_type": "code",
   "execution_count": 374,
   "id": "ed63ce38",
   "metadata": {},
   "outputs": [
    {
     "data": {
      "text/plain": [
       "(9134, 8)"
      ]
     },
     "execution_count": 374,
     "metadata": {},
     "output_type": "execute_result"
    }
   ],
   "source": [
    "d_num.shape"
   ]
  },
  {
   "cell_type": "code",
   "execution_count": 375,
   "id": "367099f8",
   "metadata": {},
   "outputs": [
    {
     "data": {
      "text/plain": [
       "(9134, 16)"
      ]
     },
     "execution_count": 375,
     "metadata": {},
     "output_type": "execute_result"
    }
   ],
   "source": [
    "d_cat.shape"
   ]
  },
  {
   "cell_type": "code",
   "execution_count": 376,
   "id": "beebd3ef",
   "metadata": {},
   "outputs": [
    {
     "name": "stdout",
     "output_type": "stream",
     "text": [
      "<class 'pandas.core.frame.DataFrame'>\n",
      "RangeIndex: 9134 entries, 0 to 9133\n",
      "Data columns (total 16 columns):\n",
      " #   Column             Non-Null Count  Dtype \n",
      "---  ------             --------------  ----- \n",
      " 0   customer           9134 non-null   object\n",
      " 1   state              9134 non-null   object\n",
      " 2   response           9134 non-null   object\n",
      " 3   coverage           9134 non-null   object\n",
      " 4   education          9134 non-null   object\n",
      " 5   effective_to_date  9134 non-null   object\n",
      " 6   employmentstatus   9134 non-null   object\n",
      " 7   gender             9134 non-null   object\n",
      " 8   location_code      9134 non-null   object\n",
      " 9   marital_status     9134 non-null   object\n",
      " 10  policy_type        9134 non-null   object\n",
      " 11  policy             9134 non-null   object\n",
      " 12  renew_offer_type   9134 non-null   object\n",
      " 13  sales_channel      9134 non-null   object\n",
      " 14  vehicle_class      9134 non-null   object\n",
      " 15  vehicle_size       9134 non-null   object\n",
      "dtypes: object(16)\n",
      "memory usage: 1.1+ MB\n"
     ]
    }
   ],
   "source": [
    "d_cat.info()"
   ]
  },
  {
   "cell_type": "markdown",
   "id": "50cbda16",
   "metadata": {},
   "source": [
    "## Decision:\n",
    "\n",
    "- Remove customer and effective_to_date columns as the impression is that they would create more noice than value"
   ]
  },
  {
   "cell_type": "code",
   "execution_count": 378,
   "id": "955f02b7",
   "metadata": {},
   "outputs": [],
   "source": [
    "d_cat = d_cat.drop(['customer'],axis = 1)"
   ]
  },
  {
   "cell_type": "code",
   "execution_count": 389,
   "id": "3c2b9c2f",
   "metadata": {},
   "outputs": [],
   "source": [
    "d_cat = d_cat.drop(['effective_to_date'],axis = 1)"
   ]
  },
  {
   "cell_type": "code",
   "execution_count": 390,
   "id": "b391e69b",
   "metadata": {},
   "outputs": [
    {
     "data": {
      "text/plain": [
       "array([[0., 0., 0., ..., 1., 1., 0.],\n",
       "       [0., 0., 0., ..., 0., 1., 0.],\n",
       "       [0., 1., 0., ..., 1., 1., 0.],\n",
       "       ...,\n",
       "       [1., 0., 0., ..., 0., 1., 0.],\n",
       "       [1., 0., 0., ..., 0., 0., 0.],\n",
       "       [1., 0., 0., ..., 1., 1., 0.]])"
      ]
     },
     "execution_count": 390,
     "metadata": {},
     "output_type": "execute_result"
    }
   ],
   "source": [
    "from sklearn.preprocessing import OneHotEncoder\n",
    "encoder = OneHotEncoder(handle_unknown='error', drop='first').fit(d_cat)\n",
    "encoded = encoder.transform(d_cat).toarray()\n",
    "encoded"
   ]
  },
  {
   "cell_type": "code",
   "execution_count": 400,
   "id": "bea02a32",
   "metadata": {},
   "outputs": [
    {
     "data": {
      "text/plain": [
       "(9134, 9234)"
      ]
     },
     "execution_count": 400,
     "metadata": {},
     "output_type": "execute_result"
    }
   ],
   "source": [
    "d_cat_encoded.shape"
   ]
  },
  {
   "cell_type": "code",
   "execution_count": 401,
   "id": "b9a72d33",
   "metadata": {},
   "outputs": [
    {
     "name": "stdout",
     "output_type": "stream",
     "text": [
      "<class 'pandas.core.frame.DataFrame'>\n",
      "RangeIndex: 9134 entries, 0 to 9133\n",
      "Data columns (total 14 columns):\n",
      " #   Column            Non-Null Count  Dtype \n",
      "---  ------            --------------  ----- \n",
      " 0   state             9134 non-null   object\n",
      " 1   response          9134 non-null   object\n",
      " 2   coverage          9134 non-null   object\n",
      " 3   education         9134 non-null   object\n",
      " 4   employmentstatus  9134 non-null   object\n",
      " 5   gender            9134 non-null   object\n",
      " 6   location_code     9134 non-null   object\n",
      " 7   marital_status    9134 non-null   object\n",
      " 8   policy_type       9134 non-null   object\n",
      " 9   policy            9134 non-null   object\n",
      " 10  renew_offer_type  9134 non-null   object\n",
      " 11  sales_channel     9134 non-null   object\n",
      " 12  vehicle_class     9134 non-null   object\n",
      " 13  vehicle_size      9134 non-null   object\n",
      "dtypes: object(14)\n",
      "memory usage: 999.2+ KB\n"
     ]
    }
   ],
   "source": [
    "d_cat.info()"
   ]
  },
  {
   "cell_type": "code",
   "execution_count": 402,
   "id": "89df3c5e",
   "metadata": {},
   "outputs": [],
   "source": [
    "d_complete = np.concatenate((d_num,d_cat_encoded),axis=1)"
   ]
  },
  {
   "cell_type": "code",
   "execution_count": 403,
   "id": "302d4224",
   "metadata": {},
   "outputs": [
    {
     "data": {
      "text/plain": [
       "(9134, 9242)"
      ]
     },
     "execution_count": 403,
     "metadata": {},
     "output_type": "execute_result"
    }
   ],
   "source": [
    "d_complete.shape"
   ]
  },
  {
   "cell_type": "code",
   "execution_count": 404,
   "id": "581ba423",
   "metadata": {},
   "outputs": [
    {
     "data": {
      "text/plain": [
       "(9134,)"
      ]
     },
     "execution_count": 404,
     "metadata": {},
     "output_type": "execute_result"
    }
   ],
   "source": [
    "y.shape"
   ]
  },
  {
   "cell_type": "markdown",
   "id": "5bdfc6dd",
   "metadata": {},
   "source": [
    "## Split the data set\n",
    "\n",
    "With the numeric variables normalized and the categorical variables encoded, we are ready to split the data set."
   ]
  },
  {
   "cell_type": "code",
   "execution_count": 405,
   "id": "f5dc3339",
   "metadata": {},
   "outputs": [],
   "source": [
    "from sklearn.model_selection import train_test_split"
   ]
  },
  {
   "cell_type": "code",
   "execution_count": 413,
   "id": "6c1d88c2",
   "metadata": {},
   "outputs": [],
   "source": [
    "d_train, d_test, y_train, y_test = train_test_split(d_complete,y, test_size=0.2, random_state=10)"
   ]
  },
  {
   "cell_type": "markdown",
   "id": "b61ea1d2",
   "metadata": {},
   "source": [
    "## Apply the model"
   ]
  },
  {
   "cell_type": "markdown",
   "id": "68dfd962",
   "metadata": {},
   "source": [
    "The available varibales are able to explain more than 71% of the variance. As such the model seems to have a strong fit on first impression.\n",
    "\n",
    "We could revisit the model for month to policy inception, but likely would need to find addtional relevant variables to get the R2 higher than 90%."
   ]
  },
  {
   "cell_type": "code",
   "execution_count": 414,
   "id": "104766f5",
   "metadata": {},
   "outputs": [
    {
     "data": {
      "text/plain": [
       "0.7165416473689031"
      ]
     },
     "execution_count": 414,
     "metadata": {},
     "output_type": "execute_result"
    }
   ],
   "source": [
    "lm = linear_model.LinearRegression()\n",
    "model = lm.fit(d_train,y_train) \n",
    "predictions = lm.predict(d_test)\n",
    "r2_score(y_test, predictions)"
   ]
  },
  {
   "cell_type": "code",
   "execution_count": 415,
   "id": "0584b609",
   "metadata": {},
   "outputs": [
    {
     "data": {
      "text/plain": [
       "array([-11.24810228, 602.61993361, 669.47238511, ..., 131.74543669,\n",
       "       642.15076676, 275.17093277])"
      ]
     },
     "execution_count": 415,
     "metadata": {},
     "output_type": "execute_result"
    }
   ],
   "source": [
    "predictions"
   ]
  },
  {
   "cell_type": "code",
   "execution_count": 416,
   "id": "52b84bcb",
   "metadata": {},
   "outputs": [
    {
     "data": {
      "text/plain": [
       "(1827, 9242)"
      ]
     },
     "execution_count": 416,
     "metadata": {},
     "output_type": "execute_result"
    }
   ],
   "source": [
    "d_test.shape"
   ]
  },
  {
   "cell_type": "code",
   "execution_count": 417,
   "id": "577ba297",
   "metadata": {},
   "outputs": [
    {
     "data": {
      "text/plain": [
       "(1827,)"
      ]
     },
     "execution_count": 417,
     "metadata": {},
     "output_type": "execute_result"
    }
   ],
   "source": [
    "y_test.shape"
   ]
  },
  {
   "cell_type": "markdown",
   "id": "2f2593be",
   "metadata": {},
   "source": [
    "The mean_squared_error seems to still be quite high, but still reasonable considering the average amount for total claim."
   ]
  },
  {
   "cell_type": "code",
   "execution_count": 418,
   "id": "8bf51123",
   "metadata": {},
   "outputs": [
    {
     "data": {
      "text/plain": [
       "23567.40824666463"
      ]
     },
     "execution_count": 418,
     "metadata": {},
     "output_type": "execute_result"
    }
   ],
   "source": [
    "mse = mean_squared_error(y_test, predictions)\n",
    "mse"
   ]
  },
  {
   "cell_type": "code",
   "execution_count": null,
   "id": "3d8cef71",
   "metadata": {},
   "outputs": [],
   "source": []
  }
 ],
 "metadata": {
  "kernelspec": {
   "display_name": "Python 3",
   "language": "python",
   "name": "python3"
  },
  "language_info": {
   "codemirror_mode": {
    "name": "ipython",
    "version": 3
   },
   "file_extension": ".py",
   "mimetype": "text/x-python",
   "name": "python",
   "nbconvert_exporter": "python",
   "pygments_lexer": "ipython3",
   "version": "3.8.8"
  }
 },
 "nbformat": 4,
 "nbformat_minor": 5
}
