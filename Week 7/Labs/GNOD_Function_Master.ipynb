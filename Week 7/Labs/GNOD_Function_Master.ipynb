{
 "cells": [
  {
   "cell_type": "code",
   "execution_count": 7,
   "id": "cb271214",
   "metadata": {},
   "outputs": [],
   "source": [
    "def music_scraper():\n",
    "    #import libraries\n",
    "    import requests\n",
    "    from bs4 import BeautifulSoup\n",
    "    import pandas as pd\n",
    "    from tqdm.notebook import tqdm\n",
    "    \n",
    "    #set parameters \n",
    "    url = \"https://www.billboard.com/charts/hot-100\"\n",
    "    response = requests.get(url)\n",
    "    response.status_code\n",
    "    \n",
    "    #create soup\n",
    "    soup = BeautifulSoup(response.content, 'html.parser')\n",
    "    \n",
    "    #populate lists with parsed content\n",
    "    song = []\n",
    "    artist = []\n",
    "    rank = []\n",
    "\n",
    "    len_charts = len(soup.select('span.chart-element__information__song'))\n",
    "    \n",
    "    for i in tqdm(range(len_charts)):\n",
    "        song.append(soup.select(\"span.chart-element__information__song\")[i].text)\n",
    "        artist.append(soup.select(\"span.chart-element__information__artist\")[i].text)\n",
    "        rank.append(soup.select(\"span.chart-element__rank__number\")[i].text)\n",
    "        \n",
    "    billboard100 = pd.DataFrame({\"song\":song, \"artist\":artist, \"rank\":rank})\n",
    "    \n",
    "    return billboard100"
   ]
  },
  {
   "cell_type": "code",
   "execution_count": null,
   "id": "eef13961",
   "metadata": {},
   "outputs": [],
   "source": [
    "def recommendation_engine():\n",
    "    song = input(\"What is the name of your song?\")\n",
    "    \n",
    "    #get the billboard record - if available\n",
    "    check = billboard[billboard['song'].str.lower().str.replace(\" \",\"\").str.contains(song)]\n",
    "    #get the index of the song in the entry\n",
    "    index = check.index.tolist()\n",
    "    \n",
    "    #run the recommendation\n",
    "    if len(check) == 0:\n",
    "        print(\"Not saying you have a bad taste, but it ain't hot.\")\n",
    "    else:\n",
    "        answer = input(\"Do you mean \" + billboard.song[index].values[0] + \" by \" + billboard.artist[index].values[0] + \"?\")\n",
    "    \n",
    "    #make a song suggestion\n",
    "        if answer.lower() == 'yes':\n",
    "            suggestion = billboard.sample().index.tolist()\n",
    "            print(\"Nice! This is a hot song! You might also like \" + billboard['song'][suggestion].item() + \" by \" + billboard['artist'][suggestion].item())\n",
    "        else:\n",
    "            print(\"Well, not so hot after all. We were thinking about different tracks.\")"
   ]
  }
 ],
 "metadata": {
  "kernelspec": {
   "display_name": "Python 3",
   "language": "python",
   "name": "python3"
  },
  "language_info": {
   "codemirror_mode": {
    "name": "ipython",
    "version": 3
   },
   "file_extension": ".py",
   "mimetype": "text/x-python",
   "name": "python",
   "nbconvert_exporter": "python",
   "pygments_lexer": "ipython3",
   "version": "3.8.8"
  }
 },
 "nbformat": 4,
 "nbformat_minor": 5
}
