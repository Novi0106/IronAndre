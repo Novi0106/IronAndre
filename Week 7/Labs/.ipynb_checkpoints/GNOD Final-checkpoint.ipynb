{
 "cells": [
  {
   "cell_type": "code",
   "execution_count": 1,
   "id": "9bf19622",
   "metadata": {},
   "outputs": [],
   "source": [
    "import pandas as pd"
   ]
  },
  {
   "cell_type": "code",
   "execution_count": 41,
   "id": "8ea3c218",
   "metadata": {},
   "outputs": [],
   "source": []
  },
  {
   "cell_type": "code",
   "execution_count": 3,
   "id": "223b31ea",
   "metadata": {},
   "outputs": [],
   "source": [
    "from GNOD_Functions import billboard_scraper\n",
    "from GNOD_Functions import basic_recommendation_engine"
   ]
  },
  {
   "cell_type": "code",
   "execution_count": null,
   "id": "da3f8758",
   "metadata": {},
   "outputs": [],
   "source": [
    "client_id= getpass.getpass()\n",
    "client_secret=getpass.getpass()\n",
    "\n",
    "sp = spotipy.Spotify(auth_manager=SpotifyClientCredentials(client_id=client_id, client_secret=client_secret))"
   ]
  },
  {
   "cell_type": "markdown",
   "id": "0a8064d4",
   "metadata": {},
   "source": [
    "## 1. Basic recommendation engine"
   ]
  },
  {
   "cell_type": "code",
   "execution_count": 154,
   "id": "e2c2b71e",
   "metadata": {},
   "outputs": [],
   "source": [
    "def GNOD_recommender():\n",
    "    \n",
    "    billboard = billboard_scraper()\n",
    "    \n",
    "    song = input(\"What is the name of your song?\").lower().replace(\" \", '')\n",
    "\n",
    "    #get the billboard record - if available\n",
    "    check = billboard[billboard['song'].str.lower().str.replace(\" \",\"\").str.contains(song)]\n",
    "\n",
    "    #get the index of the song in the entry\n",
    "    index = check.index.tolist()\n",
    "\n",
    "    # check if the check has returned a value or not (is the song hot or not?)\n",
    "    if len(check) == 0:\n",
    "        cluster = clustering()\n",
    "        \n",
    "        spotify_recommendation(cluster)\n",
    "        \n",
    "    else:\n",
    "        answer = input(\"Do you mean \" + billboard.song[index].values[0] + \" by \" + billboard.artist[index].values[0] + \"?\")\n",
    "    # provide a suggestion in case the song is the list    \n",
    "        if answer.lower() == 'yes':\n",
    "            suggestion = billboard.sample().index.tolist()\n",
    "            print(\"Nice! This is a hot song! You might also like \" + billboard['song'][suggestion].item() + \" by \" + billboard['artist'][suggestion].item())\n",
    "        else:\n",
    "            print(\"Well, not so hot after all. We were thinking about different tracks.\")"
   ]
  },
  {
   "cell_type": "code",
   "execution_count": 155,
   "id": "1288f9e2",
   "metadata": {},
   "outputs": [
    {
     "data": {
      "application/vnd.jupyter.widget-view+json": {
       "model_id": "59da4ff8c76a457288348869131daadc",
       "version_major": 2,
       "version_minor": 0
      },
      "text/plain": [
       "  0%|          | 0/100 [00:00<?, ?it/s]"
      ]
     },
     "metadata": {},
     "output_type": "display_data"
    },
    {
     "name": "stdout",
     "output_type": "stream",
     "text": [
      "What is the name of your song?Loose Yourself\n",
      " How about trying out Sing About Me, I'm Dying Of Thirst by Kendrick Lamar?\n"
     ]
    }
   ],
   "source": [
    "GNOD_recommender()"
   ]
  },
  {
   "cell_type": "code",
   "execution_count": 143,
   "id": "6a762f0b",
   "metadata": {},
   "outputs": [],
   "source": [
    "def clustering():\n",
    "\n",
    "    import warnings\n",
    "    warnings.filterwarnings(\"ignore\")\n",
    "    from sklearn.cluster import KMeans\n",
    "    import spotipy\n",
    "    from spotipy.oauth2 import SpotifyClientCredentials\n",
    "    import getpass\n",
    "    from sklearn.preprocessing import StandardScaler\n",
    "\n",
    "    tracks = pd.read_csv('tracks.csv')\n",
    "\n",
    "    # load and scale the dataframe with all track details\n",
    "    numeric = tracks.select_dtypes(exclude = 'object')\n",
    "    scaler = StandardScaler().fit(numeric)\n",
    "    scaled = scaler.fit_transform(numeric)\n",
    "    numeric_scaled = pd.DataFrame(scaled)\n",
    "\n",
    "    # construct the K means prediction model and reference df\n",
    "    kmeans = KMeans(n_clusters = 39, random_state=40).fit(numeric_scaled)\n",
    "    clusters = kmeans.predict(numeric_scaled)\n",
    "    track_cluster = pd.DataFrame(tracks)\n",
    "    track_cluster['cluster'] = clusters\n",
    "    \n",
    "    return kmeans, track_cluster"
   ]
  },
  {
   "cell_type": "code",
   "execution_count": 61,
   "id": "caa46f95",
   "metadata": {},
   "outputs": [
    {
     "data": {
      "text/html": [
       "<div>\n",
       "<style scoped>\n",
       "    .dataframe tbody tr th:only-of-type {\n",
       "        vertical-align: middle;\n",
       "    }\n",
       "\n",
       "    .dataframe tbody tr th {\n",
       "        vertical-align: top;\n",
       "    }\n",
       "\n",
       "    .dataframe thead th {\n",
       "        text-align: right;\n",
       "    }\n",
       "</style>\n",
       "<table border=\"1\" class=\"dataframe\">\n",
       "  <thead>\n",
       "    <tr style=\"text-align: right;\">\n",
       "      <th></th>\n",
       "      <th>danceability</th>\n",
       "      <th>energy</th>\n",
       "      <th>key</th>\n",
       "      <th>loudness</th>\n",
       "      <th>mode</th>\n",
       "      <th>speechiness</th>\n",
       "      <th>acousticness</th>\n",
       "      <th>instrumentalness</th>\n",
       "      <th>liveness</th>\n",
       "      <th>valence</th>\n",
       "      <th>tempo</th>\n",
       "      <th>duration_ms</th>\n",
       "    </tr>\n",
       "  </thead>\n",
       "  <tbody>\n",
       "    <tr>\n",
       "      <th>0</th>\n",
       "      <td>0.000</td>\n",
       "      <td>0.385</td>\n",
       "      <td>3</td>\n",
       "      <td>-18.509</td>\n",
       "      <td>0</td>\n",
       "      <td>0.0000</td>\n",
       "      <td>0.23800</td>\n",
       "      <td>0.97800</td>\n",
       "      <td>0.0000</td>\n",
       "      <td>0.000</td>\n",
       "      <td>0.000</td>\n",
       "      <td>6453</td>\n",
       "    </tr>\n",
       "    <tr>\n",
       "      <th>1</th>\n",
       "      <td>0.680</td>\n",
       "      <td>0.767</td>\n",
       "      <td>11</td>\n",
       "      <td>-2.387</td>\n",
       "      <td>0</td>\n",
       "      <td>0.0397</td>\n",
       "      <td>0.00213</td>\n",
       "      <td>0.00000</td>\n",
       "      <td>0.0996</td>\n",
       "      <td>0.344</td>\n",
       "      <td>82.518</td>\n",
       "      <td>179467</td>\n",
       "    </tr>\n",
       "    <tr>\n",
       "      <th>2</th>\n",
       "      <td>0.538</td>\n",
       "      <td>0.675</td>\n",
       "      <td>0</td>\n",
       "      <td>-2.300</td>\n",
       "      <td>1</td>\n",
       "      <td>0.3350</td>\n",
       "      <td>0.24500</td>\n",
       "      <td>0.00000</td>\n",
       "      <td>0.3620</td>\n",
       "      <td>0.519</td>\n",
       "      <td>78.985</td>\n",
       "      <td>288880</td>\n",
       "    </tr>\n",
       "    <tr>\n",
       "      <th>3</th>\n",
       "      <td>0.653</td>\n",
       "      <td>0.826</td>\n",
       "      <td>6</td>\n",
       "      <td>-2.930</td>\n",
       "      <td>0</td>\n",
       "      <td>0.3540</td>\n",
       "      <td>0.01530</td>\n",
       "      <td>0.00146</td>\n",
       "      <td>0.1310</td>\n",
       "      <td>0.416</td>\n",
       "      <td>108.520</td>\n",
       "      <td>256227</td>\n",
       "    </tr>\n",
       "    <tr>\n",
       "      <th>4</th>\n",
       "      <td>0.902</td>\n",
       "      <td>0.720</td>\n",
       "      <td>6</td>\n",
       "      <td>-2.776</td>\n",
       "      <td>0</td>\n",
       "      <td>0.3470</td>\n",
       "      <td>0.26000</td>\n",
       "      <td>0.00000</td>\n",
       "      <td>0.0749</td>\n",
       "      <td>0.805</td>\n",
       "      <td>90.059</td>\n",
       "      <td>193467</td>\n",
       "    </tr>\n",
       "  </tbody>\n",
       "</table>\n",
       "</div>"
      ],
      "text/plain": [
       "   danceability  energy  key  loudness  mode  speechiness  acousticness  \\\n",
       "0         0.000   0.385    3   -18.509     0       0.0000       0.23800   \n",
       "1         0.680   0.767   11    -2.387     0       0.0397       0.00213   \n",
       "2         0.538   0.675    0    -2.300     1       0.3350       0.24500   \n",
       "3         0.653   0.826    6    -2.930     0       0.3540       0.01530   \n",
       "4         0.902   0.720    6    -2.776     0       0.3470       0.26000   \n",
       "\n",
       "   instrumentalness  liveness  valence    tempo  duration_ms  \n",
       "0           0.97800    0.0000    0.000    0.000         6453  \n",
       "1           0.00000    0.0996    0.344   82.518       179467  \n",
       "2           0.00000    0.3620    0.519   78.985       288880  \n",
       "3           0.00146    0.1310    0.416  108.520       256227  \n",
       "4           0.00000    0.0749    0.805   90.059       193467  "
      ]
     },
     "execution_count": 61,
     "metadata": {},
     "output_type": "execute_result"
    }
   ],
   "source": [
    "numeric.head()"
   ]
  },
  {
   "cell_type": "code",
   "execution_count": 149,
   "id": "42b2e84f",
   "metadata": {},
   "outputs": [
    {
     "name": "stdout",
     "output_type": "stream",
     "text": [
      " How about trying out DontGetIt by Lil Wayne?\n"
     ]
    }
   ],
   "source": [
    "suggestion = spotify_recommendation(clustering())"
   ]
  },
  {
   "cell_type": "code",
   "execution_count": 47,
   "id": "1eeb538a",
   "metadata": {},
   "outputs": [],
   "source": [
    "features = pd.DataFrame(sp.audio_features(song_id)).drop(columns = ['type','id','uri','track_href','analysis_url', 'time_signature'])"
   ]
  },
  {
   "cell_type": "code",
   "execution_count": 52,
   "id": "9c81c249",
   "metadata": {},
   "outputs": [
    {
     "data": {
      "text/html": [
       "<div>\n",
       "<style scoped>\n",
       "    .dataframe tbody tr th:only-of-type {\n",
       "        vertical-align: middle;\n",
       "    }\n",
       "\n",
       "    .dataframe tbody tr th {\n",
       "        vertical-align: top;\n",
       "    }\n",
       "\n",
       "    .dataframe thead th {\n",
       "        text-align: right;\n",
       "    }\n",
       "</style>\n",
       "<table border=\"1\" class=\"dataframe\">\n",
       "  <thead>\n",
       "    <tr style=\"text-align: right;\">\n",
       "      <th></th>\n",
       "      <th>danceability</th>\n",
       "      <th>energy</th>\n",
       "      <th>key</th>\n",
       "      <th>loudness</th>\n",
       "      <th>mode</th>\n",
       "      <th>speechiness</th>\n",
       "      <th>acousticness</th>\n",
       "      <th>instrumentalness</th>\n",
       "      <th>liveness</th>\n",
       "      <th>valence</th>\n",
       "      <th>tempo</th>\n",
       "      <th>duration_ms</th>\n",
       "    </tr>\n",
       "  </thead>\n",
       "  <tbody>\n",
       "    <tr>\n",
       "      <th>0</th>\n",
       "      <td>0.759</td>\n",
       "      <td>0.459</td>\n",
       "      <td>8</td>\n",
       "      <td>-5.187</td>\n",
       "      <td>1</td>\n",
       "      <td>0.0948</td>\n",
       "      <td>0.00323</td>\n",
       "      <td>0</td>\n",
       "      <td>0.0906</td>\n",
       "      <td>0.695</td>\n",
       "      <td>109.997</td>\n",
       "      <td>164442</td>\n",
       "    </tr>\n",
       "  </tbody>\n",
       "</table>\n",
       "</div>"
      ],
      "text/plain": [
       "   danceability  energy  key  loudness  mode  speechiness  acousticness  \\\n",
       "0         0.759   0.459    8    -5.187     1       0.0948       0.00323   \n",
       "\n",
       "   instrumentalness  liveness  valence    tempo  duration_ms  \n",
       "0                 0    0.0906    0.695  109.997       164442  "
      ]
     },
     "execution_count": 52,
     "metadata": {},
     "output_type": "execute_result"
    }
   ],
   "source": [
    "features.head()"
   ]
  },
  {
   "cell_type": "code",
   "execution_count": 148,
   "id": "3af92e2b",
   "metadata": {},
   "outputs": [],
   "source": [
    "def spotify_recommendation(clustering):\n",
    "\n",
    "    # compare user input\n",
    "\n",
    "    #song_id = sp.search(q = song, type = 'track', limit=1)['tracks']['items'][0]['uri']\n",
    "    #song_check = sp.search(q = song, type = 'track', limit=1)['tracks']['items'][0]['name']\n",
    "    artist_check = sp.search(q = song, type = 'track', limit=1)['tracks']['items'][0]['artists'][0]['name']\n",
    "\n",
    "    #answer = input(\"Do you mean \" + song_check  + \" by \" + artist_check + \"?\")\n",
    "\n",
    "    #if answer == 'yes':\n",
    "    features = pd.DataFrame(sp.audio_features(song_id)).drop(columns = ['type','id','uri','track_href','analysis_url', 'time_signature'])\n",
    "    prediction = kmeans.predict(features)[0]\n",
    "    suggestion = track_cluster[track_cluster.cluster == prediction].sample(1)\n",
    "    suggestion = suggestion['name'].values[0]\n",
    "    artist = sp.search(q = suggestion, type = 'track', limit=1)['tracks']['items'][0]['artists'][0]['name']\n",
    "    track_cluster.head()\n",
    "    print(\" How about trying out \" + str(suggestion) + \" by \" + str(artist) + \"?\")"
   ]
  },
  {
   "cell_type": "code",
   "execution_count": 138,
   "id": "f50bb81e",
   "metadata": {},
   "outputs": [
    {
     "data": {
      "text/plain": [
       "'Bop Gun (One Nation) - Remastered'"
      ]
     },
     "execution_count": 138,
     "metadata": {},
     "output_type": "execute_result"
    }
   ],
   "source": [
    "suggestion = track_cluster[track_cluster.cluster == prediction].sample(1)\n",
    "suggestion = suggestion['name'].values[0]\n",
    "suggestion"
   ]
  },
  {
   "cell_type": "code",
   "execution_count": 139,
   "id": "466e62f9",
   "metadata": {},
   "outputs": [
    {
     "data": {
      "text/plain": [
       "'Ice Cube'"
      ]
     },
     "execution_count": 139,
     "metadata": {},
     "output_type": "execute_result"
    }
   ],
   "source": [
    "sp.search(q = suggestion, type = 'track', limit=1)['tracks']['items'][0]['artists'][0]['name']"
   ]
  },
  {
   "cell_type": "code",
   "execution_count": null,
   "id": "79caaf30",
   "metadata": {},
   "outputs": [],
   "source": []
  }
 ],
 "metadata": {
  "kernelspec": {
   "display_name": "Python 3",
   "language": "python",
   "name": "python3"
  },
  "language_info": {
   "codemirror_mode": {
    "name": "ipython",
    "version": 3
   },
   "file_extension": ".py",
   "mimetype": "text/x-python",
   "name": "python",
   "nbconvert_exporter": "python",
   "pygments_lexer": "ipython3",
   "version": "3.8.8"
  }
 },
 "nbformat": 4,
 "nbformat_minor": 5
}
