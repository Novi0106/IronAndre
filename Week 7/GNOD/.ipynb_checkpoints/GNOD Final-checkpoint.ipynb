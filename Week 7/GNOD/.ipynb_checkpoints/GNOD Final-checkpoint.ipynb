{
 "cells": [
  {
   "cell_type": "code",
   "execution_count": 1,
   "id": "9bf19622",
   "metadata": {},
   "outputs": [],
   "source": [
    "import pandas as pd\n",
    "import getpass\n",
    "import spotipy\n",
    "from spotipy.oauth2 import SpotifyClientCredentials"
   ]
  },
  {
   "cell_type": "code",
   "execution_count": 2,
   "id": "8ea3c218",
   "metadata": {},
   "outputs": [],
   "source": [
    "from GNOD_Functions import billboard_scraper\n",
    "from GNOD_Functions import clustering\n",
    "from GNOD_Functions import spotify_recommendation\n",
    "from GNOD_Functions import GNOD_recommender"
   ]
  },
  {
   "cell_type": "code",
   "execution_count": 3,
   "id": "d68a2fd6",
   "metadata": {},
   "outputs": [
    {
     "name": "stdout",
     "output_type": "stream",
     "text": [
      "········\n",
      "········\n"
     ]
    }
   ],
   "source": [
    "client_id= getpass.getpass()\n",
    "client_secret=getpass.getpass()\n",
    "\n",
    "sp = spotipy.Spotify(auth_manager=SpotifyClientCredentials(client_id=client_id, client_secret=client_secret))"
   ]
  },
  {
   "cell_type": "code",
   "execution_count": 12,
   "id": "28e7e97a",
   "metadata": {},
   "outputs": [
    {
     "data": {
      "application/vnd.jupyter.widget-view+json": {
       "model_id": "fd8b692a5cee454d9dfc128989489a3d",
       "version_major": 2,
       "version_minor": 0
      },
      "text/plain": [
       "  0%|          | 0/100 [00:00<?, ?it/s]"
      ]
     },
     "metadata": {},
     "output_type": "display_data"
    },
    {
     "name": "stdout",
     "output_type": "stream",
     "text": [
      "What is the name of your song? Answer: Das Urteil\n",
      "Do you mean Das Urteil by Kool Savas? Answer: Yes\n",
      " How about trying out Blunt Blowin by Lil Wayne?\n"
     ]
    }
   ],
   "source": [
    "GNOD_recommender(client_id, client_secret)"
   ]
  },
  {
   "cell_type": "markdown",
   "id": "c20e2d97",
   "metadata": {},
   "source": [
    "## Basic setup of the recommender"
   ]
  },
  {
   "cell_type": "code",
   "execution_count": 154,
   "id": "c906c7bf",
   "metadata": {},
   "outputs": [],
   "source": [
    "def GNOD_recommender(client_id, client_secret):\n",
    "    import spotipy\n",
    "    from spotipy.oauth2 import SpotifyClientCredentials\n",
    "    \n",
    "    sp = spotipy.Spotify(auth_manager=SpotifyClientCredentials(client_id=client_id, client_secret=client_secret))\n",
    "    billboard = billboard_scraper()\n",
    "    \n",
    "    song = input(\"What is the name of your song? Answer: \").lower().replace(\" \", '')\n",
    "\n",
    "    #get the billboard record - if available\n",
    "    check = billboard[billboard['song'].str.lower().str.replace(\" \",\"\").str.contains(song)]\n",
    "\n",
    "    #get the index of the song in the entry\n",
    "    index = check.index.tolist()\n",
    "\n",
    "    # check if the check has returned a value or not (is the song hot or not?)\n",
    "    if len(check) == 0:\n",
    "        song_check = sp.search(q = song, type = 'track', limit=1)['tracks']['items'][0]['name']\n",
    "        artist_check = sp.search(q = song, type = 'track', limit=1)['tracks']['items'][0]['artists'][0]['name']\n",
    "\n",
    "        answer = input(\"Do you mean \" + song_check  + \" by \" + artist_check + \"? Answer: \")\n",
    "        \n",
    "        if answer.lower() == 'yes':\n",
    "            kmeans,track_cluster  = clustering()\n",
    "        \n",
    "            spotify_recommendation(kmeans, track_cluster, sp, song)\n",
    "        else:\n",
    "            print(\"Hmm looks like there are multiple songs with that title, please try with a different song by the same artist!\")\n",
    "        \n",
    "    else:\n",
    "        answer = input(\"Do you mean \" + billboard.song[index].values[0] + \" by \" + billboard.artist[index].values[0] + \"?\")\n",
    "    # provide a suggestion in case the song is the list    \n",
    "        if answer.lower() == 'yes':\n",
    "            suggestion = billboard.sample().index.tolist()\n",
    "            print(\"Nice! This is a hot song! You might also like \" + billboard['song'][suggestion].item() + \" by \" + billboard['artist'][suggestion].item())\n",
    "        else:\n",
    "            print(\"Well, not so hot after all. We were thinking about different tracks.\")"
   ]
  },
  {
   "cell_type": "code",
   "execution_count": null,
   "id": "c8ec98e8",
   "metadata": {},
   "outputs": [],
   "source": [
    "def billboard_scraper():\n",
    "    #import libraries\n",
    "    import requests\n",
    "    from bs4 import BeautifulSoup\n",
    "    import pandas as pd\n",
    "    from tqdm.notebook import tqdm\n",
    "    \n",
    "    #set parameters \n",
    "    url = \"https://www.billboard.com/charts/hot-100\"\n",
    "    response = requests.get(url)\n",
    "    response.status_code\n",
    "    \n",
    "    #create soup\n",
    "    soup = BeautifulSoup(response.content, 'html.parser')\n",
    "    \n",
    "    #populate lists with parsed content\n",
    "    song = []\n",
    "    artist = []\n",
    "    rank = []\n",
    "\n",
    "    len_charts = len(soup.select('span.chart-element__information__song'))\n",
    "    \n",
    "    for i in tqdm(range(len_charts)):\n",
    "        song.append(soup.select(\"span.chart-element__information__song\")[i].text)\n",
    "        artist.append(soup.select(\"span.chart-element__information__artist\")[i].text)\n",
    "        rank.append(soup.select(\"span.chart-element__rank__number\")[i].text)\n",
    "        \n",
    "    billboard100 = pd.DataFrame({\"song\":song, \"artist\":artist})\n",
    "    \n",
    "    return billboard100"
   ]
  },
  {
   "cell_type": "code",
   "execution_count": 143,
   "id": "a9c8e97c",
   "metadata": {},
   "outputs": [],
   "source": [
    "def clustering():\n",
    "\n",
    "    import pandas as pd\n",
    "    import warnings\n",
    "    warnings.filterwarnings(\"ignore\")\n",
    "    from sklearn.cluster import KMeans\n",
    "    from sklearn.preprocessing import StandardScaler\n",
    "\n",
    "    tracks = pd.read_csv('tracks.csv')\n",
    "\n",
    "    # load and scale the dataframe with all track details\n",
    "    numeric = tracks.select_dtypes(exclude = 'object')\n",
    "    scaler = StandardScaler().fit(numeric)\n",
    "    scaled = scaler.fit_transform(numeric)\n",
    "    numeric_scaled = pd.DataFrame(scaled)\n",
    "\n",
    "    # construct the K means prediction model and reference df\n",
    "    kmeans = KMeans(n_clusters = 39, random_state=40).fit(numeric_scaled)\n",
    "    clusters = kmeans.predict(numeric_scaled)\n",
    "    track_cluster = pd.DataFrame(tracks)\n",
    "    track_cluster['cluster'] = clusters\n",
    "    \n",
    "    return kmeans, track_cluster"
   ]
  },
  {
   "cell_type": "code",
   "execution_count": 148,
   "id": "e2748f9e",
   "metadata": {},
   "outputs": [],
   "source": [
    "def spotify_recommendation(kmeans, track_cluster, sp, song):\n",
    "    import pandas as pd\n",
    "    # compare user input\n",
    "\n",
    "    song_id = sp.search(q = song, type = 'track', limit=1)['tracks']['items'][0]['uri']\n",
    "    \n",
    "    features = pd.DataFrame(sp.audio_features(song_id)).drop(columns = ['type','id','uri','track_href','analysis_url', 'time_signature'])\n",
    "    prediction = kmeans.predict(features)[0]\n",
    "    suggestion = track_cluster[track_cluster.cluster == prediction].sample(1)\n",
    "    suggestion = suggestion['name'].values[0]\n",
    "    artist = sp.search(q = suggestion, type = 'track', limit=1)['tracks']['items'][0]['artists'][0]['name']\n",
    "    track_cluster.head()\n",
    "    print(\" How about trying out \" + str(suggestion) + \" by \" + str(artist) + \"?\")"
   ]
  }
 ],
 "metadata": {
  "kernelspec": {
   "display_name": "Python 3",
   "language": "python",
   "name": "python3"
  },
  "language_info": {
   "codemirror_mode": {
    "name": "ipython",
    "version": 3
   },
   "file_extension": ".py",
   "mimetype": "text/x-python",
   "name": "python",
   "nbconvert_exporter": "python",
   "pygments_lexer": "ipython3",
   "version": "3.8.8"
  }
 },
 "nbformat": 4,
 "nbformat_minor": 5
}
