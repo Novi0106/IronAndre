{
 "cells": [
  {
   "cell_type": "code",
   "execution_count": 3,
   "id": "c0dd477c",
   "metadata": {},
   "outputs": [],
   "source": [
    "from GNOD_Functions import billboard_scraper\n",
    "from random import randint"
   ]
  },
  {
   "cell_type": "code",
   "execution_count": 5,
   "id": "a99a9ec6",
   "metadata": {},
   "outputs": [
    {
     "data": {
      "application/vnd.jupyter.widget-view+json": {
       "model_id": "13e1379b68dc412da31fa1efe7961a49",
       "version_major": 2,
       "version_minor": 0
      },
      "text/plain": [
       "  0%|          | 0/100 [00:00<?, ?it/s]"
      ]
     },
     "metadata": {},
     "output_type": "display_data"
    }
   ],
   "source": [
    "billboard = billboard_scraper()"
   ]
  },
  {
   "cell_type": "code",
   "execution_count": 6,
   "id": "ec94c22a",
   "metadata": {},
   "outputs": [
    {
     "data": {
      "text/plain": [
       "(100, 2)"
      ]
     },
     "execution_count": 6,
     "metadata": {},
     "output_type": "execute_result"
    }
   ],
   "source": [
    "billboard.shape"
   ]
  },
  {
   "cell_type": "code",
   "execution_count": 12,
   "id": "2788862e",
   "metadata": {},
   "outputs": [
    {
     "name": "stdout",
     "output_type": "stream",
     "text": [
      "What is the name of your song?Butter\n"
     ]
    }
   ],
   "source": [
    "# ask the user for input\n",
    "song = input(\"What is the name of your song?\").lower().replace(\" \", '')\n",
    "\n",
    "# standardize the input string\n",
    "# billboard.song.str.lower().str.replace(\" \". \"\").str.contains(song)"
   ]
  },
  {
   "cell_type": "code",
   "execution_count": 13,
   "id": "99a59113",
   "metadata": {},
   "outputs": [],
   "source": [
    "# implement a check to find the user input in the dataframe\n",
    "check = billboard[billboard['song'].str.lower().str.replace(\" \",\"\").str.contains(song)]"
   ]
  },
  {
   "cell_type": "code",
   "execution_count": 14,
   "id": "28f99719",
   "metadata": {},
   "outputs": [],
   "source": [
    "# assign the relevant index number to list for later string-operations\n",
    "index = check.index.tolist()"
   ]
  },
  {
   "cell_type": "code",
   "execution_count": 15,
   "id": "ccda5dc4",
   "metadata": {},
   "outputs": [
    {
     "data": {
      "text/plain": [
       "'Butter'"
      ]
     },
     "execution_count": 15,
     "metadata": {},
     "output_type": "execute_result"
    }
   ],
   "source": [
    "billboard.song[index].values[0]"
   ]
  },
  {
   "cell_type": "code",
   "execution_count": 16,
   "id": "178e60a2",
   "metadata": {},
   "outputs": [
    {
     "name": "stdout",
     "output_type": "stream",
     "text": [
      "Do you mean Butter by BTS?Yes\n",
      "Nice! This is a hot song! You might also like Hats Off by Lil Baby, Lil Durk & Travis Scott\n"
     ]
    }
   ],
   "source": [
    "# check if the check has returned a value or not (is the song hot or not?)\n",
    "if len(check) == 0:\n",
    "    print(\"Not saying you have a bad taste, but it ain't hot.\")\n",
    "else:\n",
    "    answer = input(\"Do you mean \" + billboard.song[index].values[0] + \" by \" + billboard.artist[index].values[0] + \"?\")\n",
    "# provide a suggestion in case the song is the list    \n",
    "    if answer.lower() == 'yes':\n",
    "        suggestion = billboard.sample().index.tolist()\n",
    "        print(\"Nice! This is a hot song! You might also like \" + billboard['song'][suggestion].item() + \" by \" + billboard['artist'][suggestion].item())\n",
    "    else:\n",
    "        print(\"Well, not so hot after all. We were thinking about different tracks.\")\n",
    "    \n",
    "    \n",
    "    \n",
    "    \n",
    "    "
   ]
  },
  {
   "cell_type": "code",
   "execution_count": null,
   "id": "621b872b",
   "metadata": {},
   "outputs": [],
   "source": [
    "#compile everything in a function that we can reuse later\n",
    "\n",
    "def recommendation_engine():\n",
    "    song = input(\"What is the name of your song?\")\n",
    "    \n",
    "    #get the billboard record - if available\n",
    "    check = billboard[billboard['song'].str.lower().str.replace(\" \",\"\").str.contains(song)]\n",
    "    #get the index of the song in the entry\n",
    "    index = check.index.tolist()\n",
    "    \n",
    "    #run the recommendation\n",
    "    if len(check) == 0:\n",
    "        print(\"Not saying you have a bad taste, but it ain't hot.\")\n",
    "    else:\n",
    "        answer = input(\"Do you mean \" + billboard.song[index].values[0] + \" by \" + billboard.artist[index].values[0] + \"?\")\n",
    "    #make a song suggestion\n",
    "        if answer.lower() == 'yes':\n",
    "            suggestion = billboard.sample().index.tolist()\n",
    "            print(\"Nice! This is a hot song! You might also like \" + billboard['song'][suggestion].item() + \" by \" + billboard['artist'][suggestion].item())\n",
    "        else:\n",
    "            print(\"Well, not so hot after all. We were thinking about different tracks.\")"
   ]
  }
 ],
 "metadata": {
  "kernelspec": {
   "display_name": "Python 3",
   "language": "python",
   "name": "python3"
  },
  "language_info": {
   "codemirror_mode": {
    "name": "ipython",
    "version": 3
   },
   "file_extension": ".py",
   "mimetype": "text/x-python",
   "name": "python",
   "nbconvert_exporter": "python",
   "pygments_lexer": "ipython3",
   "version": "3.8.8"
  }
 },
 "nbformat": 4,
 "nbformat_minor": 5
}
