{
 "cells": [
  {
   "cell_type": "code",
   "execution_count": 12,
   "id": "cb271214",
   "metadata": {},
   "outputs": [],
   "source": [
    "def billboard_scraper():\n",
    "    #import libraries\n",
    "    import requests\n",
    "    from bs4 import BeautifulSoup\n",
    "    import pandas as pd\n",
    "    from tqdm.notebook import tqdm\n",
    "    \n",
    "    #set parameters \n",
    "    url = \"https://www.billboard.com/charts/hot-100\"\n",
    "    response = requests.get(url)\n",
    "    response.status_code\n",
    "    \n",
    "    #create soup\n",
    "    soup = BeautifulSoup(response.content, 'html.parser')\n",
    "    \n",
    "    #populate lists with parsed content\n",
    "    song = []\n",
    "    artist = []\n",
    "    rank = []\n",
    "\n",
    "    len_charts = len(soup.select('span.chart-element__information__song'))\n",
    "    \n",
    "    for i in tqdm(range(len_charts)):\n",
    "        song.append(soup.select(\"span.chart-element__information__song\")[i].text)\n",
    "        artist.append(soup.select(\"span.chart-element__information__artist\")[i].text)\n",
    "        rank.append(soup.select(\"span.chart-element__rank__number\")[i].text)\n",
    "        \n",
    "    billboard100 = pd.DataFrame({\"song\":song, \"artist\":artist})\n",
    "    \n",
    "    return billboard100"
   ]
  },
  {
   "cell_type": "code",
   "execution_count": 13,
   "id": "eef13961",
   "metadata": {},
   "outputs": [],
   "source": [
    "def basic_recommendation_engine(billboard):\n",
    "    song = input(\"What is the name of your song?\")\n",
    "    \n",
    "    #get the billboard record - if available\n",
    "    check = billboard[billboard['song'].str.lower().str.replace(\" \",\"\").str.contains(song)]\n",
    "    #get the index of the song in the entry\n",
    "    index = check.index.tolist()\n",
    "    \n",
    "    #run the recommendation\n",
    "    if len(check) != 0:\n",
    "        answer = input(\"Do you mean \" + billboard.song[index].values[0] + \" by \" + billboard.artist[index].values[0] + \"?\")\n",
    "        \n",
    "        #make a song suggestion\n",
    "        if answer.lower() == 'yes':\n",
    "            suggestion = billboard.sample().index.tolist()\n",
    "            print(\"Nice! This is a hot song! You might also like \" + billboard['song'][suggestion].item() + \" by \" + billboard['artist'][suggestion].item())\n",
    "        else:\n",
    "            return clustering(), song"
   ]
  },
  {
   "cell_type": "code",
   "execution_count": 14,
   "id": "fc75fac7",
   "metadata": {},
   "outputs": [],
   "source": [
    "def clustering(df):\n",
    "    import warnings\n",
    "    warnings.filterwarnings(\"ignore\")\n",
    "    from sklearn.cluster import KMeans\n",
    "    import spotipy\n",
    "    from spotipy.oauth2 import SpotifyClientCredentials\n",
    "    import getpass\n",
    "    \n",
    "    # load and scale the dataframe with all track details\n",
    "    numeric = df.select_dtypes(exclude = 'object')\n",
    "    scaler = StandardScaler().fit(numeric)\n",
    "    scaled = scaler.fit_transform(numeric)\n",
    "    numeric_scaled = pd.DataFrame(scaled)\n",
    "    \n",
    "    # construct the K means prediction model and reference df\n",
    "    kmeans = KMeans(n_clusters = 39, random_state=40).fit(numeric_scaled)\n",
    "    clusters = kmeans.predict(numeric_scaled)\n",
    "    track_cluster = pd.DataFrame(tracks)\n",
    "    track_cluster['cluster'] = clusters\n",
    "    \n",
    "    return nice_recommendation_engine(song)"
   ]
  },
  {
   "cell_type": "code",
   "execution_count": 8,
   "id": "d4ca96aa",
   "metadata": {},
   "outputs": [],
   "source": [
    "def nice_recommendation_engine(song):\n",
    "     # compare user input\n",
    "    song_id = sp.search(q = song, type = 'track', limit=1)['tracks']['items'][0]['uri']\n",
    "    song_check = sp.search(q = song, type = 'track', limit=1)['tracks']['items'][0]['name']\n",
    "    artist_check = sp.search(q = song, type = 'track', limit=1)['tracks']['items'][0]['artists'][0]['name']\n",
    "\n",
    "    answer = input(\"Do you mean \" + song_check  + \" by \" + artist_check + \"?\")\n",
    "\n",
    "    if answer == 'yes':\n",
    "        features = pd.DataFrame(sp.audio_features(song_id)).drop(columns = ['type','id','uri','track_href','analysis_url', 'time_signature'])\n",
    "        prediction = kmeans.predict(features)[0]\n",
    "        suggestion = tracks[tracks.cluster == prediction].sample(1)\n",
    "        suggestion = suggestion['name'].values[0]\n",
    "        artist = sp.search(q = suggestion, type = 'track', limit=1)['tracks']['items'][0]['artists'][0]['name']\n",
    "        print(\" How about trying out \" + suggestion + \" by \" + artist + \"?\")"
   ]
  },
  {
   "cell_type": "code",
   "execution_count": null,
   "id": "b6ce8525",
   "metadata": {},
   "outputs": [],
   "source": []
  }
 ],
 "metadata": {
  "kernelspec": {
   "display_name": "Python 3",
   "language": "python",
   "name": "python3"
  },
  "language_info": {
   "codemirror_mode": {
    "name": "ipython",
    "version": 3
   },
   "file_extension": ".py",
   "mimetype": "text/x-python",
   "name": "python",
   "nbconvert_exporter": "python",
   "pygments_lexer": "ipython3",
   "version": "3.8.8"
  }
 },
 "nbformat": 4,
 "nbformat_minor": 5
}
