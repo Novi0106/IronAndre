{
 "cells": [
  {
   "cell_type": "markdown",
   "id": "9a35ec86",
   "metadata": {},
   "source": [
    "# 1. object types"
   ]
  },
  {
   "cell_type": "markdown",
   "id": "3fb17710",
   "metadata": {},
   "source": [
    "Python is an **object oriented programming** (OOP) language. What does that mean? Everything is represented by an object:\n",
    "* Data (int's, float's, ...)\n",
    "* Functions\n",
    "* Code\n",
    "* Exceptions\n",
    "\n",
    "Every object in Python has a \n",
    "* id - call it with `id()`\n",
    "* a value\n",
    "* a type\n",
    "\n",
    "Some are\n",
    "* mutable - lists: `[2,5,7,8,10]`\n",
    "* immutable - e.g. tuples: `(2,5)`, but also all numeric datatypes or chars, like `a = 2.4`, `c = \"Hello\"`\n",
    "\n",
    "Why also numerics and chars?\n",
    "\n",
    "Because with\n",
    "\n",
    "```python\n",
    "a = 'ab'\n",
    "a = 'cd'\n",
    "```\n",
    "`a` is not changed in the second line. Instead a new object of value `cd` is created and the variable `a` is then made to point to that object. It doesn't point to `ab` anymore. The Python-\"Garbage collector\" removes this \"non reachable object\" during runtime of the program.\n",
    "\n",
    "### Types and classes\n",
    "\n",
    "every object belongs to a certain type created according to a \"blueprint\", in Python called a **class**\n",
    "You can find out the type with"
   ]
  },
  {
   "cell_type": "code",
   "execution_count": 2,
   "id": "0e563f24",
   "metadata": {},
   "outputs": [
    {
     "data": {
      "text/plain": [
       "139784077649200"
      ]
     },
     "execution_count": 2,
     "metadata": {},
     "output_type": "execute_result"
    }
   ],
   "source": [
    "id(\"Hello World\")"
   ]
  },
  {
   "cell_type": "code",
   "execution_count": 3,
   "id": "80102fc4",
   "metadata": {},
   "outputs": [
    {
     "data": {
      "text/plain": [
       "139784077549936"
      ]
     },
     "execution_count": 3,
     "metadata": {},
     "output_type": "execute_result"
    }
   ],
   "source": [
    "id(\"Hello World\")"
   ]
  },
  {
   "cell_type": "code",
   "execution_count": 4,
   "id": "68881eb8",
   "metadata": {},
   "outputs": [
    {
     "data": {
      "text/plain": [
       "str"
      ]
     },
     "execution_count": 4,
     "metadata": {},
     "output_type": "execute_result"
    }
   ],
   "source": [
    "type(\"Hello World\")"
   ]
  },
  {
   "cell_type": "code",
   "execution_count": 5,
   "id": "db540842",
   "metadata": {},
   "outputs": [
    {
     "data": {
      "text/plain": [
       "'Hello World'"
      ]
     },
     "execution_count": 5,
     "metadata": {},
     "output_type": "execute_result"
    }
   ],
   "source": [
    "\"Hello World\""
   ]
  },
  {
   "cell_type": "code",
   "execution_count": 6,
   "id": "64cc6eff",
   "metadata": {},
   "outputs": [
    {
     "data": {
      "text/plain": [
       "int"
      ]
     },
     "execution_count": 6,
     "metadata": {},
     "output_type": "execute_result"
    }
   ],
   "source": [
    "type(12345)"
   ]
  },
  {
   "cell_type": "code",
   "execution_count": 7,
   "id": "f334a3be",
   "metadata": {},
   "outputs": [
    {
     "data": {
      "text/plain": [
       "float"
      ]
     },
     "execution_count": 7,
     "metadata": {},
     "output_type": "execute_result"
    }
   ],
   "source": [
    "type(123.244)"
   ]
  },
  {
   "cell_type": "code",
   "execution_count": 8,
   "id": "91dda6ad",
   "metadata": {},
   "outputs": [
    {
     "data": {
      "text/plain": [
       "False"
      ]
     },
     "execution_count": 8,
     "metadata": {},
     "output_type": "execute_result"
    }
   ],
   "source": [
    "isinstance(2434.343, str)"
   ]
  },
  {
   "cell_type": "code",
   "execution_count": 9,
   "id": "70aff572",
   "metadata": {},
   "outputs": [
    {
     "data": {
      "text/plain": [
       "True"
      ]
     },
     "execution_count": 9,
     "metadata": {},
     "output_type": "execute_result"
    }
   ],
   "source": [
    "isinstance(\"ddfgf\", str)"
   ]
  },
  {
   "cell_type": "markdown",
   "id": "a164dd60",
   "metadata": {},
   "source": [
    "The class contains all the **attributes** (properties, values) and **methods** (functions). It tells us, what the resulting object **is** and what it **can do**.\n",
    "You can always find this out with...."
   ]
  },
  {
   "cell_type": "code",
   "execution_count": 10,
   "id": "7fe8233a",
   "metadata": {},
   "outputs": [
    {
     "data": {
      "text/plain": [
       "'fdsfdghjh'"
      ]
     },
     "execution_count": 10,
     "metadata": {},
     "output_type": "execute_result"
    }
   ],
   "source": [
    "\"fdsfd\" + \"ghjh\""
   ]
  },
  {
   "cell_type": "code",
   "execution_count": 11,
   "id": "9d32910c",
   "metadata": {},
   "outputs": [
    {
     "data": {
      "text/plain": [
       "['__add__',\n",
       " '__class__',\n",
       " '__contains__',\n",
       " '__delattr__',\n",
       " '__dir__',\n",
       " '__doc__',\n",
       " '__eq__',\n",
       " '__format__',\n",
       " '__ge__',\n",
       " '__getattribute__',\n",
       " '__getitem__',\n",
       " '__getnewargs__',\n",
       " '__gt__',\n",
       " '__hash__',\n",
       " '__init__',\n",
       " '__init_subclass__',\n",
       " '__iter__',\n",
       " '__le__',\n",
       " '__len__',\n",
       " '__lt__',\n",
       " '__mod__',\n",
       " '__mul__',\n",
       " '__ne__',\n",
       " '__new__',\n",
       " '__reduce__',\n",
       " '__reduce_ex__',\n",
       " '__repr__',\n",
       " '__rmod__',\n",
       " '__rmul__',\n",
       " '__setattr__',\n",
       " '__sizeof__',\n",
       " '__str__',\n",
       " '__subclasshook__',\n",
       " 'capitalize',\n",
       " 'casefold',\n",
       " 'center',\n",
       " 'count',\n",
       " 'encode',\n",
       " 'endswith',\n",
       " 'expandtabs',\n",
       " 'find',\n",
       " 'format',\n",
       " 'format_map',\n",
       " 'index',\n",
       " 'isalnum',\n",
       " 'isalpha',\n",
       " 'isascii',\n",
       " 'isdecimal',\n",
       " 'isdigit',\n",
       " 'isidentifier',\n",
       " 'islower',\n",
       " 'isnumeric',\n",
       " 'isprintable',\n",
       " 'isspace',\n",
       " 'istitle',\n",
       " 'isupper',\n",
       " 'join',\n",
       " 'ljust',\n",
       " 'lower',\n",
       " 'lstrip',\n",
       " 'maketrans',\n",
       " 'partition',\n",
       " 'replace',\n",
       " 'rfind',\n",
       " 'rindex',\n",
       " 'rjust',\n",
       " 'rpartition',\n",
       " 'rsplit',\n",
       " 'rstrip',\n",
       " 'split',\n",
       " 'splitlines',\n",
       " 'startswith',\n",
       " 'strip',\n",
       " 'swapcase',\n",
       " 'title',\n",
       " 'translate',\n",
       " 'upper',\n",
       " 'zfill']"
      ]
     },
     "execution_count": 11,
     "metadata": {},
     "output_type": "execute_result"
    }
   ],
   "source": [
    "dir(\"fdsfd\")"
   ]
  },
  {
   "cell_type": "code",
   "execution_count": 12,
   "id": "f22b8cb6",
   "metadata": {},
   "outputs": [
    {
     "data": {
      "text/plain": [
       "'fdsfdghjh'"
      ]
     },
     "execution_count": 12,
     "metadata": {},
     "output_type": "execute_result"
    }
   ],
   "source": [
    "\"fdsfd\" + \"ghjh\""
   ]
  },
  {
   "cell_type": "code",
   "execution_count": 13,
   "id": "f8dd46cb",
   "metadata": {},
   "outputs": [
    {
     "data": {
      "text/plain": [
       "'fdsfdghjh'"
      ]
     },
     "execution_count": 13,
     "metadata": {},
     "output_type": "execute_result"
    }
   ],
   "source": [
    "\"fdsfd\".__add__(\"ghjh\")"
   ]
  },
  {
   "cell_type": "code",
   "execution_count": 15,
   "id": "acee34d8",
   "metadata": {},
   "outputs": [
    {
     "data": {
      "text/plain": [
       "'dfdf---'"
      ]
     },
     "execution_count": 15,
     "metadata": {},
     "output_type": "execute_result"
    }
   ],
   "source": [
    "\"fdfdf---\".lstrip(\"f\")"
   ]
  },
  {
   "cell_type": "markdown",
   "id": "dcfd784a",
   "metadata": {},
   "source": [
    "**The key to successfully working with Python is knowing of what type your object are!**"
   ]
  },
  {
   "cell_type": "code",
   "execution_count": 16,
   "id": "8b355e2c",
   "metadata": {},
   "outputs": [],
   "source": [
    "a = \"Hello World\""
   ]
  },
  {
   "cell_type": "code",
   "execution_count": 17,
   "id": "6db9236c",
   "metadata": {},
   "outputs": [],
   "source": [
    "a = \"Hello Flo\""
   ]
  },
  {
   "cell_type": "markdown",
   "id": "3580f7a4",
   "metadata": {},
   "source": [
    "# 2. String operations"
   ]
  },
  {
   "cell_type": "markdown",
   "id": "703d39d1",
   "metadata": {},
   "source": [
    "### `lower()`, `upper()`"
   ]
  },
  {
   "cell_type": "code",
   "execution_count": 18,
   "id": "a5beb65f",
   "metadata": {},
   "outputs": [],
   "source": [
    "a = \"Hello World\""
   ]
  },
  {
   "cell_type": "code",
   "execution_count": 19,
   "id": "94c6b202",
   "metadata": {},
   "outputs": [
    {
     "data": {
      "text/plain": [
       "'hello world'"
      ]
     },
     "execution_count": 19,
     "metadata": {},
     "output_type": "execute_result"
    }
   ],
   "source": [
    "a.lower()"
   ]
  },
  {
   "cell_type": "code",
   "execution_count": 20,
   "id": "219081d0",
   "metadata": {},
   "outputs": [
    {
     "data": {
      "text/plain": [
       "'HELLO WORLD'"
      ]
     },
     "execution_count": 20,
     "metadata": {},
     "output_type": "execute_result"
    }
   ],
   "source": [
    "a.upper()"
   ]
  },
  {
   "cell_type": "code",
   "execution_count": 25,
   "id": "d47a1220",
   "metadata": {},
   "outputs": [],
   "source": [
    "b = \" how are you?\""
   ]
  },
  {
   "cell_type": "markdown",
   "id": "6513bc75",
   "metadata": {},
   "source": [
    "### `lstrip()`, `rstrip()`, `strip()`"
   ]
  },
  {
   "cell_type": "code",
   "execution_count": 22,
   "id": "a82ccbf8",
   "metadata": {},
   "outputs": [
    {
     "data": {
      "text/plain": [
       "'how are you?'"
      ]
     },
     "execution_count": 22,
     "metadata": {},
     "output_type": "execute_result"
    }
   ],
   "source": [
    "b.strip()"
   ]
  },
  {
   "cell_type": "code",
   "execution_count": 23,
   "id": "3003379d",
   "metadata": {},
   "outputs": [
    {
     "data": {
      "text/plain": [
       "'w are you?'"
      ]
     },
     "execution_count": 23,
     "metadata": {},
     "output_type": "execute_result"
    }
   ],
   "source": [
    "b.strip(\" ho\")"
   ]
  },
  {
   "cell_type": "code",
   "execution_count": 33,
   "id": "d92f5050",
   "metadata": {},
   "outputs": [
    {
     "data": {
      "text/plain": [
       "' how are you?'"
      ]
     },
     "execution_count": 33,
     "metadata": {},
     "output_type": "execute_result"
    }
   ],
   "source": [
    "b.lstrip(\"yo \")"
   ]
  },
  {
   "cell_type": "code",
   "execution_count": 34,
   "id": "133ba394",
   "metadata": {},
   "outputs": [
    {
     "data": {
      "text/plain": [
       "'?'"
      ]
     },
     "execution_count": 34,
     "metadata": {},
     "output_type": "execute_result"
    }
   ],
   "source": [
    "b[-1]"
   ]
  },
  {
   "cell_type": "markdown",
   "id": "fc3e22ea",
   "metadata": {},
   "source": [
    "### `join()`"
   ]
  },
  {
   "cell_type": "code",
   "execution_count": 30,
   "id": "015b82d0",
   "metadata": {},
   "outputs": [],
   "source": [
    "a = ['monday', 'tuesday', 'wednesday']"
   ]
  },
  {
   "cell_type": "code",
   "execution_count": 31,
   "id": "70cc18a9",
   "metadata": {},
   "outputs": [
    {
     "data": {
      "text/plain": [
       "'monday-tuesday-wednesday'"
      ]
     },
     "execution_count": 31,
     "metadata": {},
     "output_type": "execute_result"
    }
   ],
   "source": [
    "\"-\".join(a)"
   ]
  },
  {
   "cell_type": "code",
   "execution_count": 32,
   "id": "8ef0f535",
   "metadata": {},
   "outputs": [
    {
     "data": {
      "text/plain": [
       "'H*e*l*l*o*W*o*r*l*d'"
      ]
     },
     "execution_count": 32,
     "metadata": {},
     "output_type": "execute_result"
    }
   ],
   "source": [
    "c = \"HelloWorld\"\n",
    "\"*\".join(c)"
   ]
  },
  {
   "cell_type": "markdown",
   "id": "4ee1cfdc",
   "metadata": {},
   "source": [
    "### `split()`"
   ]
  },
  {
   "cell_type": "code",
   "execution_count": 35,
   "id": "a5ce15a0",
   "metadata": {},
   "outputs": [],
   "source": [
    "sentence = \"Hello world! How are you?\""
   ]
  },
  {
   "cell_type": "code",
   "execution_count": 36,
   "id": "56b049e0",
   "metadata": {},
   "outputs": [
    {
     "data": {
      "text/plain": [
       "['Hello', 'world!', 'How', 'are', 'you?']"
      ]
     },
     "execution_count": 36,
     "metadata": {},
     "output_type": "execute_result"
    }
   ],
   "source": [
    "sentence.split()"
   ]
  },
  {
   "cell_type": "code",
   "execution_count": 37,
   "id": "0ff8b772",
   "metadata": {},
   "outputs": [
    {
     "data": {
      "text/plain": [
       "['Hello world', ' How are you?']"
      ]
     },
     "execution_count": 37,
     "metadata": {},
     "output_type": "execute_result"
    }
   ],
   "source": [
    "sentence.split(\"!\")"
   ]
  },
  {
   "cell_type": "code",
   "execution_count": 40,
   "id": "8c7e55b6",
   "metadata": {},
   "outputs": [
    {
     "data": {
      "text/plain": [
       "['Hello world! How are you?']"
      ]
     },
     "execution_count": 40,
     "metadata": {},
     "output_type": "execute_result"
    }
   ],
   "source": [
    "sentence.split(\"x\")"
   ]
  },
  {
   "cell_type": "code",
   "execution_count": 44,
   "id": "a4523fd0",
   "metadata": {},
   "outputs": [
    {
     "data": {
      "text/plain": [
       "['Hell', ' w', 'rld! How are you?']"
      ]
     },
     "execution_count": 44,
     "metadata": {},
     "output_type": "execute_result"
    }
   ],
   "source": [
    "sentence.split(\"o\", maxsplit=2)"
   ]
  },
  {
   "cell_type": "code",
   "execution_count": 45,
   "id": "f1e9d3d0",
   "metadata": {},
   "outputs": [
    {
     "data": {
      "text/plain": [
       "['Hello worl', '! How are you?']"
      ]
     },
     "execution_count": 45,
     "metadata": {},
     "output_type": "execute_result"
    }
   ],
   "source": [
    "# split at the 10th letter, return a list\n",
    "[sentence[:10], sentence[11:]]"
   ]
  },
  {
   "cell_type": "code",
   "execution_count": 46,
   "id": "22a44e13",
   "metadata": {},
   "outputs": [
    {
     "data": {
      "text/plain": [
       "['Hello world! H', 'w are y', 'u?']"
      ]
     },
     "execution_count": 46,
     "metadata": {},
     "output_type": "execute_result"
    }
   ],
   "source": [
    "sentence.rsplit(\"o\", maxsplit=2)"
   ]
  },
  {
   "cell_type": "code",
   "execution_count": null,
   "id": "943b7c3f",
   "metadata": {},
   "outputs": [],
   "source": []
  }
 ],
 "metadata": {
  "kernelspec": {
   "display_name": "Python 3",
   "language": "python",
   "name": "python3"
  },
  "language_info": {
   "codemirror_mode": {
    "name": "ipython",
    "version": 3
   },
   "file_extension": ".py",
   "mimetype": "text/x-python",
   "name": "python",
   "nbconvert_exporter": "python",
   "pygments_lexer": "ipython3",
   "version": "3.8.8"
  }
 },
 "nbformat": 4,
 "nbformat_minor": 5
}
