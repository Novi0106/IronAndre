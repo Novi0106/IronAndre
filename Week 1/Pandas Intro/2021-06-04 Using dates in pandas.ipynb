{
 "cells": [
  {
   "cell_type": "code",
   "execution_count": 3,
   "id": "0ccfc7ea",
   "metadata": {},
   "outputs": [],
   "source": [
    "import pandas as pd\n",
    "import numpy as np"
   ]
  },
  {
   "cell_type": "code",
   "execution_count": 4,
   "id": "78b71e9f",
   "metadata": {},
   "outputs": [],
   "source": [
    "#new library\n",
    "\n",
    "import time\n",
    "from datetime import date"
   ]
  },
  {
   "cell_type": "code",
   "execution_count": 6,
   "id": "a4af088b",
   "metadata": {},
   "outputs": [
    {
     "name": "stdout",
     "output_type": "stream",
     "text": [
      "/Users/andrenovikov/Documents/Repos/IronAndre/Week 1/Pandas Intro\r\n"
     ]
    }
   ],
   "source": [
    "#check working directory\n",
    "!pwd"
   ]
  },
  {
   "cell_type": "code",
   "execution_count": 7,
   "id": "43c44dd1",
   "metadata": {},
   "outputs": [],
   "source": [
    "#define data frame as csv file import\n",
    "\n",
    "web_data = pd.read_csv('web_data.csv')"
   ]
  },
  {
   "cell_type": "code",
   "execution_count": 8,
   "id": "8158b18a",
   "metadata": {},
   "outputs": [
    {
     "data": {
      "text/plain": [
       "(343141, 6)"
      ]
     },
     "execution_count": 8,
     "metadata": {},
     "output_type": "execute_result"
    }
   ],
   "source": [
    "web_data.shape"
   ]
  },
  {
   "cell_type": "code",
   "execution_count": 9,
   "id": "d6cde835",
   "metadata": {},
   "outputs": [
    {
     "data": {
      "text/html": [
       "<div>\n",
       "<style scoped>\n",
       "    .dataframe tbody tr th:only-of-type {\n",
       "        vertical-align: middle;\n",
       "    }\n",
       "\n",
       "    .dataframe tbody tr th {\n",
       "        vertical-align: top;\n",
       "    }\n",
       "\n",
       "    .dataframe thead th {\n",
       "        text-align: right;\n",
       "    }\n",
       "</style>\n",
       "<table border=\"1\" class=\"dataframe\">\n",
       "  <thead>\n",
       "    <tr style=\"text-align: right;\">\n",
       "      <th></th>\n",
       "      <th>web_id</th>\n",
       "      <th>client_id</th>\n",
       "      <th>visitor_id</th>\n",
       "      <th>visit_id</th>\n",
       "      <th>process_step</th>\n",
       "      <th>date_time</th>\n",
       "    </tr>\n",
       "  </thead>\n",
       "  <tbody>\n",
       "    <tr>\n",
       "      <th>0</th>\n",
       "      <td>0</td>\n",
       "      <td>9988021</td>\n",
       "      <td>580560515_7732621733</td>\n",
       "      <td>781255054_21935453173_531117</td>\n",
       "      <td>step_3</td>\n",
       "      <td>4/17/17 15:27</td>\n",
       "    </tr>\n",
       "    <tr>\n",
       "      <th>1</th>\n",
       "      <td>1</td>\n",
       "      <td>9988021</td>\n",
       "      <td>580560515_7732621733</td>\n",
       "      <td>781255054_21935453173_531117</td>\n",
       "      <td>step_2</td>\n",
       "      <td>4/17/17 15:26</td>\n",
       "    </tr>\n",
       "    <tr>\n",
       "      <th>2</th>\n",
       "      <td>2</td>\n",
       "      <td>9988021</td>\n",
       "      <td>580560515_7732621733</td>\n",
       "      <td>781255054_21935453173_531117</td>\n",
       "      <td>step_3</td>\n",
       "      <td>4/17/17 15:19</td>\n",
       "    </tr>\n",
       "    <tr>\n",
       "      <th>3</th>\n",
       "      <td>3</td>\n",
       "      <td>9988021</td>\n",
       "      <td>580560515_7732621733</td>\n",
       "      <td>781255054_21935453173_531117</td>\n",
       "      <td>step_2</td>\n",
       "      <td>4/17/17 15:19</td>\n",
       "    </tr>\n",
       "    <tr>\n",
       "      <th>4</th>\n",
       "      <td>4</td>\n",
       "      <td>9988021</td>\n",
       "      <td>580560515_7732621733</td>\n",
       "      <td>781255054_21935453173_531117</td>\n",
       "      <td>step_3</td>\n",
       "      <td>4/17/17 15:18</td>\n",
       "    </tr>\n",
       "  </tbody>\n",
       "</table>\n",
       "</div>"
      ],
      "text/plain": [
       "   web_id  client_id            visitor_id                      visit_id  \\\n",
       "0       0    9988021  580560515_7732621733  781255054_21935453173_531117   \n",
       "1       1    9988021  580560515_7732621733  781255054_21935453173_531117   \n",
       "2       2    9988021  580560515_7732621733  781255054_21935453173_531117   \n",
       "3       3    9988021  580560515_7732621733  781255054_21935453173_531117   \n",
       "4       4    9988021  580560515_7732621733  781255054_21935453173_531117   \n",
       "\n",
       "  process_step      date_time  \n",
       "0       step_3  4/17/17 15:27  \n",
       "1       step_2  4/17/17 15:26  \n",
       "2       step_3  4/17/17 15:19  \n",
       "3       step_2  4/17/17 15:19  \n",
       "4       step_3  4/17/17 15:18  "
      ]
     },
     "execution_count": 9,
     "metadata": {},
     "output_type": "execute_result"
    }
   ],
   "source": [
    "#check data frame structure\n",
    "\n",
    "web_data.head()"
   ]
  },
  {
   "cell_type": "code",
   "execution_count": 10,
   "id": "ace0d04b",
   "metadata": {},
   "outputs": [
    {
     "data": {
      "text/plain": [
       "web_id           int64\n",
       "client_id        int64\n",
       "visitor_id      object\n",
       "visit_id        object\n",
       "process_step    object\n",
       "date_time       object\n",
       "dtype: object"
      ]
     },
     "execution_count": 10,
     "metadata": {},
     "output_type": "execute_result"
    }
   ],
   "source": [
    "#check if date_time has been accepted as datetime\n",
    "\n",
    "web_data.dtypes"
   ]
  },
  {
   "cell_type": "code",
   "execution_count": 11,
   "id": "be8cb393",
   "metadata": {},
   "outputs": [],
   "source": [
    "web_data['date_time'] = pd.to_datetime(web_data['date_time'], errors = 'coerce')"
   ]
  },
  {
   "cell_type": "code",
   "execution_count": 12,
   "id": "124ac517",
   "metadata": {},
   "outputs": [
    {
     "data": {
      "text/plain": [
       "datetime.date(2017, 4, 7)"
      ]
     },
     "execution_count": 12,
     "metadata": {},
     "output_type": "execute_result"
    }
   ],
   "source": [
    "web_data['date_time'][321].date()"
   ]
  },
  {
   "cell_type": "code",
   "execution_count": 72,
   "id": "0847776d",
   "metadata": {},
   "outputs": [
    {
     "data": {
      "text/plain": [
       "'April'"
      ]
     },
     "execution_count": 72,
     "metadata": {},
     "output_type": "execute_result"
    }
   ],
   "source": [
    "#format an index to preferred format\n",
    "\n",
    "web_data['date_time'][321].strftime(format = '%B')"
   ]
  },
  {
   "cell_type": "code",
   "execution_count": 73,
   "id": "23f89bc4",
   "metadata": {},
   "outputs": [],
   "source": [
    "web_data['Month'] = pd.DatetimeIndex(web_data['date_time']).month"
   ]
  },
  {
   "cell_type": "code",
   "execution_count": 78,
   "id": "481051cf",
   "metadata": {},
   "outputs": [],
   "source": [
    "web_data['Day'] = pd.DatetimeIndex(web_data['date_time']).day"
   ]
  },
  {
   "cell_type": "code",
   "execution_count": 81,
   "id": "37ba900d",
   "metadata": {},
   "outputs": [
    {
     "data": {
      "text/html": [
       "<div>\n",
       "<style scoped>\n",
       "    .dataframe tbody tr th:only-of-type {\n",
       "        vertical-align: middle;\n",
       "    }\n",
       "\n",
       "    .dataframe tbody tr th {\n",
       "        vertical-align: top;\n",
       "    }\n",
       "\n",
       "    .dataframe thead th {\n",
       "        text-align: right;\n",
       "    }\n",
       "</style>\n",
       "<table border=\"1\" class=\"dataframe\">\n",
       "  <thead>\n",
       "    <tr style=\"text-align: right;\">\n",
       "      <th></th>\n",
       "      <th>web_id</th>\n",
       "      <th>client_id</th>\n",
       "      <th>visitor_id</th>\n",
       "      <th>visit_id</th>\n",
       "      <th>process_step</th>\n",
       "      <th>date_time</th>\n",
       "      <th>Month</th>\n",
       "      <th>Day</th>\n",
       "    </tr>\n",
       "  </thead>\n",
       "  <tbody>\n",
       "    <tr>\n",
       "      <th>67</th>\n",
       "      <td>67</td>\n",
       "      <td>2519971</td>\n",
       "      <td>121616091_57089151674</td>\n",
       "      <td>428599802_30402877972_724989</td>\n",
       "      <td>confirm</td>\n",
       "      <td>2017-04-10 16:21:00</td>\n",
       "      <td>4</td>\n",
       "      <td>10</td>\n",
       "    </tr>\n",
       "    <tr>\n",
       "      <th>68</th>\n",
       "      <td>68</td>\n",
       "      <td>2519971</td>\n",
       "      <td>121616091_57089151674</td>\n",
       "      <td>428599802_30402877972_724989</td>\n",
       "      <td>confirm</td>\n",
       "      <td>2017-04-10 16:19:00</td>\n",
       "      <td>4</td>\n",
       "      <td>10</td>\n",
       "    </tr>\n",
       "    <tr>\n",
       "      <th>635</th>\n",
       "      <td>635</td>\n",
       "      <td>7276973</td>\n",
       "      <td>627003452_19249388085</td>\n",
       "      <td>117895119_16501051592_422436</td>\n",
       "      <td>step_3</td>\n",
       "      <td>2017-04-10 19:00:00</td>\n",
       "      <td>4</td>\n",
       "      <td>10</td>\n",
       "    </tr>\n",
       "    <tr>\n",
       "      <th>636</th>\n",
       "      <td>636</td>\n",
       "      <td>7276973</td>\n",
       "      <td>627003452_19249388085</td>\n",
       "      <td>117895119_16501051592_422436</td>\n",
       "      <td>step_2</td>\n",
       "      <td>2017-04-10 18:58:00</td>\n",
       "      <td>4</td>\n",
       "      <td>10</td>\n",
       "    </tr>\n",
       "    <tr>\n",
       "      <th>637</th>\n",
       "      <td>637</td>\n",
       "      <td>7276973</td>\n",
       "      <td>627003452_19249388085</td>\n",
       "      <td>117895119_16501051592_422436</td>\n",
       "      <td>step_1</td>\n",
       "      <td>2017-04-10 18:57:00</td>\n",
       "      <td>4</td>\n",
       "      <td>10</td>\n",
       "    </tr>\n",
       "    <tr>\n",
       "      <th>...</th>\n",
       "      <td>...</td>\n",
       "      <td>...</td>\n",
       "      <td>...</td>\n",
       "      <td>...</td>\n",
       "      <td>...</td>\n",
       "      <td>...</td>\n",
       "      <td>...</td>\n",
       "      <td>...</td>\n",
       "    </tr>\n",
       "    <tr>\n",
       "      <th>342699</th>\n",
       "      <td>342699</td>\n",
       "      <td>6218213</td>\n",
       "      <td>46682116_29129401247</td>\n",
       "      <td>109794854_38827776110_737663</td>\n",
       "      <td>step_2</td>\n",
       "      <td>2017-04-10 13:57:00</td>\n",
       "      <td>4</td>\n",
       "      <td>10</td>\n",
       "    </tr>\n",
       "    <tr>\n",
       "      <th>342700</th>\n",
       "      <td>342700</td>\n",
       "      <td>6218213</td>\n",
       "      <td>46682116_29129401247</td>\n",
       "      <td>109794854_38827776110_737663</td>\n",
       "      <td>step_1</td>\n",
       "      <td>2017-04-10 13:57:00</td>\n",
       "      <td>4</td>\n",
       "      <td>10</td>\n",
       "    </tr>\n",
       "    <tr>\n",
       "      <th>342701</th>\n",
       "      <td>342701</td>\n",
       "      <td>6218213</td>\n",
       "      <td>46682116_29129401247</td>\n",
       "      <td>109794854_38827776110_737663</td>\n",
       "      <td>start</td>\n",
       "      <td>2017-04-10 13:57:00</td>\n",
       "      <td>4</td>\n",
       "      <td>10</td>\n",
       "    </tr>\n",
       "    <tr>\n",
       "      <th>342702</th>\n",
       "      <td>342702</td>\n",
       "      <td>5761946</td>\n",
       "      <td>430669178_36342190495</td>\n",
       "      <td>57127250_50441598218_373661</td>\n",
       "      <td>step_1</td>\n",
       "      <td>2017-04-10 13:17:00</td>\n",
       "      <td>4</td>\n",
       "      <td>10</td>\n",
       "    </tr>\n",
       "    <tr>\n",
       "      <th>342703</th>\n",
       "      <td>342703</td>\n",
       "      <td>5761946</td>\n",
       "      <td>430669178_36342190495</td>\n",
       "      <td>57127250_50441598218_373661</td>\n",
       "      <td>start</td>\n",
       "      <td>2017-04-10 13:17:00</td>\n",
       "      <td>4</td>\n",
       "      <td>10</td>\n",
       "    </tr>\n",
       "  </tbody>\n",
       "</table>\n",
       "<p>8676 rows × 8 columns</p>\n",
       "</div>"
      ],
      "text/plain": [
       "        web_id  client_id             visitor_id  \\\n",
       "67          67    2519971  121616091_57089151674   \n",
       "68          68    2519971  121616091_57089151674   \n",
       "635        635    7276973  627003452_19249388085   \n",
       "636        636    7276973  627003452_19249388085   \n",
       "637        637    7276973  627003452_19249388085   \n",
       "...        ...        ...                    ...   \n",
       "342699  342699    6218213   46682116_29129401247   \n",
       "342700  342700    6218213   46682116_29129401247   \n",
       "342701  342701    6218213   46682116_29129401247   \n",
       "342702  342702    5761946  430669178_36342190495   \n",
       "342703  342703    5761946  430669178_36342190495   \n",
       "\n",
       "                            visit_id process_step           date_time  Month  \\\n",
       "67      428599802_30402877972_724989      confirm 2017-04-10 16:21:00      4   \n",
       "68      428599802_30402877972_724989      confirm 2017-04-10 16:19:00      4   \n",
       "635     117895119_16501051592_422436       step_3 2017-04-10 19:00:00      4   \n",
       "636     117895119_16501051592_422436       step_2 2017-04-10 18:58:00      4   \n",
       "637     117895119_16501051592_422436       step_1 2017-04-10 18:57:00      4   \n",
       "...                              ...          ...                 ...    ...   \n",
       "342699  109794854_38827776110_737663       step_2 2017-04-10 13:57:00      4   \n",
       "342700  109794854_38827776110_737663       step_1 2017-04-10 13:57:00      4   \n",
       "342701  109794854_38827776110_737663        start 2017-04-10 13:57:00      4   \n",
       "342702   57127250_50441598218_373661       step_1 2017-04-10 13:17:00      4   \n",
       "342703   57127250_50441598218_373661        start 2017-04-10 13:17:00      4   \n",
       "\n",
       "        Day  \n",
       "67       10  \n",
       "68       10  \n",
       "635      10  \n",
       "636      10  \n",
       "637      10  \n",
       "...     ...  \n",
       "342699   10  \n",
       "342700   10  \n",
       "342701   10  \n",
       "342702   10  \n",
       "342703   10  \n",
       "\n",
       "[8676 rows x 8 columns]"
      ]
     },
     "execution_count": 81,
     "metadata": {},
     "output_type": "execute_result"
    }
   ],
   "source": [
    "#query for certain day of the week\n",
    "\n",
    "web_data.query('Day==10')"
   ]
  },
  {
   "cell_type": "code",
   "execution_count": 84,
   "id": "77500166",
   "metadata": {},
   "outputs": [
    {
     "data": {
      "text/html": [
       "<div>\n",
       "<style scoped>\n",
       "    .dataframe tbody tr th:only-of-type {\n",
       "        vertical-align: middle;\n",
       "    }\n",
       "\n",
       "    .dataframe tbody tr th {\n",
       "        vertical-align: top;\n",
       "    }\n",
       "\n",
       "    .dataframe thead th {\n",
       "        text-align: right;\n",
       "    }\n",
       "</style>\n",
       "<table border=\"1\" class=\"dataframe\">\n",
       "  <thead>\n",
       "    <tr style=\"text-align: right;\">\n",
       "      <th></th>\n",
       "      <th>web_id</th>\n",
       "      <th>client_id</th>\n",
       "      <th>visitor_id</th>\n",
       "      <th>visit_id</th>\n",
       "      <th>process_step</th>\n",
       "      <th>date_time</th>\n",
       "      <th>Month</th>\n",
       "      <th>Day</th>\n",
       "    </tr>\n",
       "  </thead>\n",
       "  <tbody>\n",
       "    <tr>\n",
       "      <th>354</th>\n",
       "      <td>354</td>\n",
       "      <td>2709011</td>\n",
       "      <td>664541274_97144910167</td>\n",
       "      <td>235162568_43115336410_822881</td>\n",
       "      <td>start</td>\n",
       "      <td>2017-04-08 12:33:00</td>\n",
       "      <td>4</td>\n",
       "      <td>8</td>\n",
       "    </tr>\n",
       "    <tr>\n",
       "      <th>355</th>\n",
       "      <td>355</td>\n",
       "      <td>9900469</td>\n",
       "      <td>210215964_20090640456</td>\n",
       "      <td>3461145_4721576513_877614</td>\n",
       "      <td>start</td>\n",
       "      <td>2017-04-01 19:02:00</td>\n",
       "      <td>4</td>\n",
       "      <td>1</td>\n",
       "    </tr>\n",
       "    <tr>\n",
       "      <th>357</th>\n",
       "      <td>357</td>\n",
       "      <td>6229916</td>\n",
       "      <td>483835308_26502657270</td>\n",
       "      <td>230630559_77569449276_549196</td>\n",
       "      <td>confirm</td>\n",
       "      <td>2017-04-01 16:29:00</td>\n",
       "      <td>4</td>\n",
       "      <td>1</td>\n",
       "    </tr>\n",
       "    <tr>\n",
       "      <th>358</th>\n",
       "      <td>358</td>\n",
       "      <td>6229916</td>\n",
       "      <td>483835308_26502657270</td>\n",
       "      <td>230630559_77569449276_549196</td>\n",
       "      <td>confirm</td>\n",
       "      <td>2017-04-01 16:27:00</td>\n",
       "      <td>4</td>\n",
       "      <td>1</td>\n",
       "    </tr>\n",
       "    <tr>\n",
       "      <th>366</th>\n",
       "      <td>366</td>\n",
       "      <td>4773291</td>\n",
       "      <td>587236617_20429853618</td>\n",
       "      <td>504295674_94485333270_228899</td>\n",
       "      <td>start</td>\n",
       "      <td>2017-04-08 04:49:00</td>\n",
       "      <td>4</td>\n",
       "      <td>8</td>\n",
       "    </tr>\n",
       "  </tbody>\n",
       "</table>\n",
       "</div>"
      ],
      "text/plain": [
       "     web_id  client_id             visitor_id                      visit_id  \\\n",
       "354     354    2709011  664541274_97144910167  235162568_43115336410_822881   \n",
       "355     355    9900469  210215964_20090640456     3461145_4721576513_877614   \n",
       "357     357    6229916  483835308_26502657270  230630559_77569449276_549196   \n",
       "358     358    6229916  483835308_26502657270  230630559_77569449276_549196   \n",
       "366     366    4773291  587236617_20429853618  504295674_94485333270_228899   \n",
       "\n",
       "    process_step           date_time  Month  Day  \n",
       "354        start 2017-04-08 12:33:00      4    8  \n",
       "355        start 2017-04-01 19:02:00      4    1  \n",
       "357      confirm 2017-04-01 16:29:00      4    1  \n",
       "358      confirm 2017-04-01 16:27:00      4    1  \n",
       "366        start 2017-04-08 04:49:00      4    8  "
      ]
     },
     "execution_count": 84,
     "metadata": {},
     "output_type": "execute_result"
    }
   ],
   "source": [
    "#query for saturdays only\n",
    "\n",
    "web_saturdays = web_data.loc[web_data['date_time'].dt.weekday == 5]\n",
    "web_saturdays.head()"
   ]
  },
  {
   "cell_type": "code",
   "execution_count": 80,
   "id": "f6f5902e",
   "metadata": {},
   "outputs": [
    {
     "data": {
      "text/html": [
       "<div>\n",
       "<style scoped>\n",
       "    .dataframe tbody tr th:only-of-type {\n",
       "        vertical-align: middle;\n",
       "    }\n",
       "\n",
       "    .dataframe tbody tr th {\n",
       "        vertical-align: top;\n",
       "    }\n",
       "\n",
       "    .dataframe thead th {\n",
       "        text-align: right;\n",
       "    }\n",
       "</style>\n",
       "<table border=\"1\" class=\"dataframe\">\n",
       "  <thead>\n",
       "    <tr style=\"text-align: right;\">\n",
       "      <th></th>\n",
       "      <th>web_id</th>\n",
       "      <th>client_id</th>\n",
       "      <th>visitor_id</th>\n",
       "      <th>visit_id</th>\n",
       "      <th>process_step</th>\n",
       "      <th>date_time</th>\n",
       "      <th>Month</th>\n",
       "      <th>Day</th>\n",
       "    </tr>\n",
       "  </thead>\n",
       "  <tbody>\n",
       "    <tr>\n",
       "      <th>0</th>\n",
       "      <td>0</td>\n",
       "      <td>9988021</td>\n",
       "      <td>580560515_7732621733</td>\n",
       "      <td>781255054_21935453173_531117</td>\n",
       "      <td>step_3</td>\n",
       "      <td>2017-04-17 15:27:00</td>\n",
       "      <td>4</td>\n",
       "      <td>17</td>\n",
       "    </tr>\n",
       "    <tr>\n",
       "      <th>1</th>\n",
       "      <td>1</td>\n",
       "      <td>9988021</td>\n",
       "      <td>580560515_7732621733</td>\n",
       "      <td>781255054_21935453173_531117</td>\n",
       "      <td>step_2</td>\n",
       "      <td>2017-04-17 15:26:00</td>\n",
       "      <td>4</td>\n",
       "      <td>17</td>\n",
       "    </tr>\n",
       "    <tr>\n",
       "      <th>2</th>\n",
       "      <td>2</td>\n",
       "      <td>9988021</td>\n",
       "      <td>580560515_7732621733</td>\n",
       "      <td>781255054_21935453173_531117</td>\n",
       "      <td>step_3</td>\n",
       "      <td>2017-04-17 15:19:00</td>\n",
       "      <td>4</td>\n",
       "      <td>17</td>\n",
       "    </tr>\n",
       "    <tr>\n",
       "      <th>3</th>\n",
       "      <td>3</td>\n",
       "      <td>9988021</td>\n",
       "      <td>580560515_7732621733</td>\n",
       "      <td>781255054_21935453173_531117</td>\n",
       "      <td>step_2</td>\n",
       "      <td>2017-04-17 15:19:00</td>\n",
       "      <td>4</td>\n",
       "      <td>17</td>\n",
       "    </tr>\n",
       "    <tr>\n",
       "      <th>4</th>\n",
       "      <td>4</td>\n",
       "      <td>9988021</td>\n",
       "      <td>580560515_7732621733</td>\n",
       "      <td>781255054_21935453173_531117</td>\n",
       "      <td>step_3</td>\n",
       "      <td>2017-04-17 15:18:00</td>\n",
       "      <td>4</td>\n",
       "      <td>17</td>\n",
       "    </tr>\n",
       "  </tbody>\n",
       "</table>\n",
       "</div>"
      ],
      "text/plain": [
       "   web_id  client_id            visitor_id                      visit_id  \\\n",
       "0       0    9988021  580560515_7732621733  781255054_21935453173_531117   \n",
       "1       1    9988021  580560515_7732621733  781255054_21935453173_531117   \n",
       "2       2    9988021  580560515_7732621733  781255054_21935453173_531117   \n",
       "3       3    9988021  580560515_7732621733  781255054_21935453173_531117   \n",
       "4       4    9988021  580560515_7732621733  781255054_21935453173_531117   \n",
       "\n",
       "  process_step           date_time  Month  Day  \n",
       "0       step_3 2017-04-17 15:27:00      4   17  \n",
       "1       step_2 2017-04-17 15:26:00      4   17  \n",
       "2       step_3 2017-04-17 15:19:00      4   17  \n",
       "3       step_2 2017-04-17 15:19:00      4   17  \n",
       "4       step_3 2017-04-17 15:18:00      4   17  "
      ]
     },
     "execution_count": 80,
     "metadata": {},
     "output_type": "execute_result"
    }
   ],
   "source": [
    "web_data.head()"
   ]
  },
  {
   "cell_type": "code",
   "execution_count": 86,
   "id": "216746f1",
   "metadata": {},
   "outputs": [
    {
     "data": {
      "text/plain": [
       "datetime.date(2021, 6, 4)"
      ]
     },
     "execution_count": 86,
     "metadata": {},
     "output_type": "execute_result"
    }
   ],
   "source": [
    "date.today()"
   ]
  },
  {
   "cell_type": "code",
   "execution_count": 87,
   "id": "ba131994",
   "metadata": {},
   "outputs": [
    {
     "data": {
      "text/plain": [
       "time.struct_time(tm_year=2021, tm_mon=6, tm_mday=4, tm_hour=12, tm_min=1, tm_sec=39, tm_wday=4, tm_yday=155, tm_isdst=1)"
      ]
     },
     "execution_count": 87,
     "metadata": {},
     "output_type": "execute_result"
    }
   ],
   "source": [
    "time.localtime(time.time())"
   ]
  },
  {
   "cell_type": "code",
   "execution_count": null,
   "id": "304f8447",
   "metadata": {},
   "outputs": [],
   "source": []
  }
 ],
 "metadata": {
  "kernelspec": {
   "display_name": "Python 3",
   "language": "python",
   "name": "python3"
  },
  "language_info": {
   "codemirror_mode": {
    "name": "ipython",
    "version": 3
   },
   "file_extension": ".py",
   "mimetype": "text/x-python",
   "name": "python",
   "nbconvert_exporter": "python",
   "pygments_lexer": "ipython3",
   "version": "3.8.8"
  }
 },
 "nbformat": 4,
 "nbformat_minor": 5
}
