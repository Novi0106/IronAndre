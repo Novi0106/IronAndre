{
 "cells": [
  {
   "cell_type": "markdown",
   "id": "343fc5f1",
   "metadata": {},
   "source": [
    "this is an outline notebook- sections are suggested steps, but more or less steps can be followed to reach your end goal"
   ]
  },
  {
   "cell_type": "markdown",
   "id": "extensive-candy",
   "metadata": {},
   "source": [
    "# Classification problem - predicting the take up of a credit card offer \n",
    "\n",
    "The bank wants to better understand the demographics and other characteristics of its customers that accept a credit card offer and that do not accept a credit card. You have been challenged to predict whether a customer will or wont accept the offer using a machine learning model. \n",
    "\n",
    "**Our main question is: <br/>**\n",
    "*Will the customer accept the credit card offer? Y/N*\n",
    "\n",
    "\n",
    "The **definition of the features** is the following:\n",
    "- **Customer Number:** A sequential number assigned to the customers (this column is hidden and excluded – this unique identifier will not be used directly).\n",
    "- **Offer Accepted:** Did the customer accept (Yes) or reject (No) the offer. Reward: The type of reward program offered for the card.\n",
    "- **Reward Type:** air miles, cash back or points... what type of credit card rewards the customer takes\n",
    "- **Mailer Type:** Letter or postcard.\n",
    "- **Income Level:** Low, Medium or High.\n",
    "- **#Bank Accounts Open:** How many non-credit-card accounts are held by the customer.\n",
    "- **Overdraft Protection:** Does the customer have overdraft protection on their checking account(s) (Yes or No).\n",
    "- **Credit Rating:** Low, Medium or High.\n",
    "- **#Credit Cards Held:** The number of credit cards held at the bank.\n",
    "- **#Homes Owned:** The number of homes owned by the customer.\n",
    "- **Household Size:** Number of individuals in the family.\n",
    "- **Own Your Home:** Does the customer own their home? (Yes or No).\n",
    "- **Average Balance:** Average account balance (across all accounts over time). Q1, Q2, Q3 and Q4\n",
    "- **Balance:** Average balance for each quarter in the last year\n",
    "\n",
    "\n",
    "Be careful- the data is imbalanced towards customers who say No to the offer. This imbalance would have to be managed with sampling methods. "
   ]
  },
  {
   "cell_type": "markdown",
   "id": "354aebff",
   "metadata": {},
   "source": [
    "## Import Libraries"
   ]
  },
  {
   "cell_type": "code",
   "execution_count": 1,
   "id": "36fa61a4",
   "metadata": {},
   "outputs": [],
   "source": [
    "import pandas as pd \n",
    "import numpy as np \n",
    "import seaborn as sns \n",
    "import matplotlib.pyplot as plt "
   ]
  },
  {
   "cell_type": "markdown",
   "id": "3dbb7a59",
   "metadata": {},
   "source": [
    "## Read data as a pandas data frame, preview top 10 rows"
   ]
  },
  {
   "cell_type": "code",
   "execution_count": 2,
   "id": "e9aafc3d",
   "metadata": {},
   "outputs": [],
   "source": [
    "df=pd.read_csv('creditcardmarketing.csv')"
   ]
  },
  {
   "cell_type": "code",
   "execution_count": 3,
   "id": "06f1d297",
   "metadata": {},
   "outputs": [
    {
     "data": {
      "text/html": [
       "<div>\n",
       "<style scoped>\n",
       "    .dataframe tbody tr th:only-of-type {\n",
       "        vertical-align: middle;\n",
       "    }\n",
       "\n",
       "    .dataframe tbody tr th {\n",
       "        vertical-align: top;\n",
       "    }\n",
       "\n",
       "    .dataframe thead th {\n",
       "        text-align: right;\n",
       "    }\n",
       "</style>\n",
       "<table border=\"1\" class=\"dataframe\">\n",
       "  <thead>\n",
       "    <tr style=\"text-align: right;\">\n",
       "      <th></th>\n",
       "      <th>Customer_number</th>\n",
       "      <th>Offer_Accepted</th>\n",
       "      <th>Reward_Type</th>\n",
       "      <th>Mailer_Type</th>\n",
       "      <th>Income</th>\n",
       "      <th>No_open_bank_accounts</th>\n",
       "      <th>Overdraft_protection</th>\n",
       "      <th>Credit_rating</th>\n",
       "      <th>No_credit_cards</th>\n",
       "      <th>Homes_owned</th>\n",
       "      <th>Household_size</th>\n",
       "      <th>Own_your_home?</th>\n",
       "      <th>Average_Balance</th>\n",
       "      <th>Q1_balance</th>\n",
       "      <th>Q2_balance</th>\n",
       "      <th>Q3_balance</th>\n",
       "      <th>Q4_balance</th>\n",
       "    </tr>\n",
       "  </thead>\n",
       "  <tbody>\n",
       "    <tr>\n",
       "      <th>0</th>\n",
       "      <td>1</td>\n",
       "      <td>No</td>\n",
       "      <td>Air Miles</td>\n",
       "      <td>Letter</td>\n",
       "      <td>High</td>\n",
       "      <td>1</td>\n",
       "      <td>No</td>\n",
       "      <td>High</td>\n",
       "      <td>2</td>\n",
       "      <td>1</td>\n",
       "      <td>4</td>\n",
       "      <td>No</td>\n",
       "      <td>1160.75</td>\n",
       "      <td>1669.0</td>\n",
       "      <td>877.0</td>\n",
       "      <td>1095.0</td>\n",
       "      <td>1002.0</td>\n",
       "    </tr>\n",
       "    <tr>\n",
       "      <th>1</th>\n",
       "      <td>2</td>\n",
       "      <td>No</td>\n",
       "      <td>Air Miles</td>\n",
       "      <td>Letter</td>\n",
       "      <td>Medium</td>\n",
       "      <td>1</td>\n",
       "      <td>No</td>\n",
       "      <td>Medium</td>\n",
       "      <td>2</td>\n",
       "      <td>2</td>\n",
       "      <td>5</td>\n",
       "      <td>Yes</td>\n",
       "      <td>147.25</td>\n",
       "      <td>39.0</td>\n",
       "      <td>106.0</td>\n",
       "      <td>78.0</td>\n",
       "      <td>366.0</td>\n",
       "    </tr>\n",
       "    <tr>\n",
       "      <th>2</th>\n",
       "      <td>3</td>\n",
       "      <td>No</td>\n",
       "      <td>Air Miles</td>\n",
       "      <td>Postcard</td>\n",
       "      <td>High</td>\n",
       "      <td>2</td>\n",
       "      <td>No</td>\n",
       "      <td>Medium</td>\n",
       "      <td>2</td>\n",
       "      <td>1</td>\n",
       "      <td>2</td>\n",
       "      <td>Yes</td>\n",
       "      <td>276.50</td>\n",
       "      <td>367.0</td>\n",
       "      <td>352.0</td>\n",
       "      <td>145.0</td>\n",
       "      <td>242.0</td>\n",
       "    </tr>\n",
       "    <tr>\n",
       "      <th>3</th>\n",
       "      <td>4</td>\n",
       "      <td>No</td>\n",
       "      <td>Air Miles</td>\n",
       "      <td>Letter</td>\n",
       "      <td>Medium</td>\n",
       "      <td>2</td>\n",
       "      <td>No</td>\n",
       "      <td>High</td>\n",
       "      <td>1</td>\n",
       "      <td>1</td>\n",
       "      <td>4</td>\n",
       "      <td>No</td>\n",
       "      <td>1219.00</td>\n",
       "      <td>1578.0</td>\n",
       "      <td>1760.0</td>\n",
       "      <td>1119.0</td>\n",
       "      <td>419.0</td>\n",
       "    </tr>\n",
       "    <tr>\n",
       "      <th>4</th>\n",
       "      <td>5</td>\n",
       "      <td>No</td>\n",
       "      <td>Air Miles</td>\n",
       "      <td>Letter</td>\n",
       "      <td>Medium</td>\n",
       "      <td>1</td>\n",
       "      <td>No</td>\n",
       "      <td>Medium</td>\n",
       "      <td>2</td>\n",
       "      <td>1</td>\n",
       "      <td>6</td>\n",
       "      <td>Yes</td>\n",
       "      <td>1211.00</td>\n",
       "      <td>2140.0</td>\n",
       "      <td>1357.0</td>\n",
       "      <td>982.0</td>\n",
       "      <td>365.0</td>\n",
       "    </tr>\n",
       "    <tr>\n",
       "      <th>5</th>\n",
       "      <td>6</td>\n",
       "      <td>No</td>\n",
       "      <td>Air Miles</td>\n",
       "      <td>Letter</td>\n",
       "      <td>Medium</td>\n",
       "      <td>1</td>\n",
       "      <td>No</td>\n",
       "      <td>High</td>\n",
       "      <td>3</td>\n",
       "      <td>1</td>\n",
       "      <td>4</td>\n",
       "      <td>No</td>\n",
       "      <td>1114.75</td>\n",
       "      <td>1847.0</td>\n",
       "      <td>1365.0</td>\n",
       "      <td>750.0</td>\n",
       "      <td>497.0</td>\n",
       "    </tr>\n",
       "    <tr>\n",
       "      <th>6</th>\n",
       "      <td>7</td>\n",
       "      <td>No</td>\n",
       "      <td>Air Miles</td>\n",
       "      <td>Letter</td>\n",
       "      <td>Medium</td>\n",
       "      <td>1</td>\n",
       "      <td>No</td>\n",
       "      <td>Medium</td>\n",
       "      <td>2</td>\n",
       "      <td>1</td>\n",
       "      <td>3</td>\n",
       "      <td>No</td>\n",
       "      <td>283.75</td>\n",
       "      <td>468.0</td>\n",
       "      <td>188.0</td>\n",
       "      <td>347.0</td>\n",
       "      <td>132.0</td>\n",
       "    </tr>\n",
       "    <tr>\n",
       "      <th>7</th>\n",
       "      <td>8</td>\n",
       "      <td>No</td>\n",
       "      <td>Cash Back</td>\n",
       "      <td>Postcard</td>\n",
       "      <td>Low</td>\n",
       "      <td>1</td>\n",
       "      <td>No</td>\n",
       "      <td>Medium</td>\n",
       "      <td>4</td>\n",
       "      <td>1</td>\n",
       "      <td>4</td>\n",
       "      <td>Yes</td>\n",
       "      <td>278.50</td>\n",
       "      <td>132.0</td>\n",
       "      <td>391.0</td>\n",
       "      <td>285.0</td>\n",
       "      <td>306.0</td>\n",
       "    </tr>\n",
       "    <tr>\n",
       "      <th>8</th>\n",
       "      <td>9</td>\n",
       "      <td>No</td>\n",
       "      <td>Air Miles</td>\n",
       "      <td>Postcard</td>\n",
       "      <td>Medium</td>\n",
       "      <td>1</td>\n",
       "      <td>No</td>\n",
       "      <td>Low</td>\n",
       "      <td>2</td>\n",
       "      <td>1</td>\n",
       "      <td>4</td>\n",
       "      <td>Yes</td>\n",
       "      <td>1005.00</td>\n",
       "      <td>894.0</td>\n",
       "      <td>891.0</td>\n",
       "      <td>882.0</td>\n",
       "      <td>1353.0</td>\n",
       "    </tr>\n",
       "    <tr>\n",
       "      <th>9</th>\n",
       "      <td>10</td>\n",
       "      <td>No</td>\n",
       "      <td>Air Miles</td>\n",
       "      <td>Letter</td>\n",
       "      <td>High</td>\n",
       "      <td>2</td>\n",
       "      <td>No</td>\n",
       "      <td>Low</td>\n",
       "      <td>3</td>\n",
       "      <td>2</td>\n",
       "      <td>4</td>\n",
       "      <td>Yes</td>\n",
       "      <td>974.25</td>\n",
       "      <td>1814.0</td>\n",
       "      <td>1454.0</td>\n",
       "      <td>514.0</td>\n",
       "      <td>115.0</td>\n",
       "    </tr>\n",
       "  </tbody>\n",
       "</table>\n",
       "</div>"
      ],
      "text/plain": [
       "   Customer_number Offer_Accepted Reward_Type Mailer_Type  Income  \\\n",
       "0                1             No   Air Miles      Letter    High   \n",
       "1                2             No   Air Miles      Letter  Medium   \n",
       "2                3             No   Air Miles    Postcard    High   \n",
       "3                4             No   Air Miles      Letter  Medium   \n",
       "4                5             No   Air Miles      Letter  Medium   \n",
       "5                6             No   Air Miles      Letter  Medium   \n",
       "6                7             No   Air Miles      Letter  Medium   \n",
       "7                8             No   Cash Back    Postcard     Low   \n",
       "8                9             No   Air Miles    Postcard  Medium   \n",
       "9               10             No   Air Miles      Letter    High   \n",
       "\n",
       "   No_open_bank_accounts Overdraft_protection Credit_rating  No_credit_cards  \\\n",
       "0                      1                   No          High                2   \n",
       "1                      1                   No        Medium                2   \n",
       "2                      2                   No        Medium                2   \n",
       "3                      2                   No          High                1   \n",
       "4                      1                   No        Medium                2   \n",
       "5                      1                   No          High                3   \n",
       "6                      1                   No        Medium                2   \n",
       "7                      1                   No        Medium                4   \n",
       "8                      1                   No           Low                2   \n",
       "9                      2                   No           Low                3   \n",
       "\n",
       "   Homes_owned  Household_size Own_your_home?  Average_Balance  Q1_balance  \\\n",
       "0            1               4             No          1160.75      1669.0   \n",
       "1            2               5            Yes           147.25        39.0   \n",
       "2            1               2            Yes           276.50       367.0   \n",
       "3            1               4             No          1219.00      1578.0   \n",
       "4            1               6            Yes          1211.00      2140.0   \n",
       "5            1               4             No          1114.75      1847.0   \n",
       "6            1               3             No           283.75       468.0   \n",
       "7            1               4            Yes           278.50       132.0   \n",
       "8            1               4            Yes          1005.00       894.0   \n",
       "9            2               4            Yes           974.25      1814.0   \n",
       "\n",
       "   Q2_balance  Q3_balance  Q4_balance  \n",
       "0       877.0      1095.0      1002.0  \n",
       "1       106.0        78.0       366.0  \n",
       "2       352.0       145.0       242.0  \n",
       "3      1760.0      1119.0       419.0  \n",
       "4      1357.0       982.0       365.0  \n",
       "5      1365.0       750.0       497.0  \n",
       "6       188.0       347.0       132.0  \n",
       "7       391.0       285.0       306.0  \n",
       "8       891.0       882.0      1353.0  \n",
       "9      1454.0       514.0       115.0  "
      ]
     },
     "execution_count": 3,
     "metadata": {},
     "output_type": "execute_result"
    }
   ],
   "source": [
    "df.head(10)"
   ]
  },
  {
   "cell_type": "code",
   "execution_count": 4,
   "id": "d138725d",
   "metadata": {},
   "outputs": [
    {
     "data": {
      "text/plain": [
       "No     16977\n",
       "Yes     1023\n",
       "Name: Offer_Accepted, dtype: int64"
      ]
     },
     "execution_count": 4,
     "metadata": {},
     "output_type": "execute_result"
    }
   ],
   "source": [
    "df['Offer_Accepted'].value_counts()"
   ]
  },
  {
   "cell_type": "code",
   "execution_count": 5,
   "id": "aaa3093e",
   "metadata": {},
   "outputs": [],
   "source": [
    "# sampling technique- random oversamlpling, smote, tomeklinks - better balance \n"
   ]
  },
  {
   "cell_type": "code",
   "execution_count": null,
   "id": "c88e329b",
   "metadata": {},
   "outputs": [],
   "source": []
  },
  {
   "cell_type": "code",
   "execution_count": null,
   "id": "2374cbe1",
   "metadata": {},
   "outputs": [],
   "source": []
  },
  {
   "cell_type": "markdown",
   "id": "suffering-clarity",
   "metadata": {},
   "source": [
    "# Exploratory Data Analysis"
   ]
  },
  {
   "cell_type": "markdown",
   "id": "english-mediterranean",
   "metadata": {},
   "source": [
    "In this part we want to familirize ourselves with the data set. We are going to look at the following steps:\n",
    "- assess dataframe \n",
    "- shape, dtypes, summary statistics\n",
    "- null values, white spaces, duplicates, (amount)unique values per col /unique(written same), mislabeled classes (male ≠ Male), typos/inconsistent capitalisation, irrelevant columns\n",
    "- missing data\n",
    "- outliers "
   ]
  },
  {
   "cell_type": "code",
   "execution_count": 6,
   "id": "35f0c674",
   "metadata": {},
   "outputs": [
    {
     "name": "stdout",
     "output_type": "stream",
     "text": [
      "<class 'pandas.core.frame.DataFrame'>\n",
      "RangeIndex: 18000 entries, 0 to 17999\n",
      "Data columns (total 17 columns):\n",
      " #   Column                 Non-Null Count  Dtype  \n",
      "---  ------                 --------------  -----  \n",
      " 0   Customer_number        18000 non-null  int64  \n",
      " 1   Offer_Accepted         18000 non-null  object \n",
      " 2   Reward_Type            18000 non-null  object \n",
      " 3   Mailer_Type            18000 non-null  object \n",
      " 4   Income                 18000 non-null  object \n",
      " 5   No_open_bank_accounts  18000 non-null  int64  \n",
      " 6   Overdraft_protection   18000 non-null  object \n",
      " 7   Credit_rating          18000 non-null  object \n",
      " 8   No_credit_cards        18000 non-null  int64  \n",
      " 9   Homes_owned            18000 non-null  int64  \n",
      " 10  Household_size         18000 non-null  int64  \n",
      " 11  Own_your_home?         18000 non-null  object \n",
      " 12  Average_Balance        17976 non-null  float64\n",
      " 13  Q1_balance             17976 non-null  float64\n",
      " 14  Q2_balance             17976 non-null  float64\n",
      " 15  Q3_balance             17976 non-null  float64\n",
      " 16  Q4_balance             17976 non-null  float64\n",
      "dtypes: float64(5), int64(5), object(7)\n",
      "memory usage: 2.3+ MB\n"
     ]
    }
   ],
   "source": [
    "df.info()"
   ]
  },
  {
   "cell_type": "code",
   "execution_count": 7,
   "id": "5de830d2",
   "metadata": {},
   "outputs": [],
   "source": [
    "# nulls - 0 balance assumption or remove rows ? \n",
    "# or check if the nulls create a problem for the chosen model \n"
   ]
  },
  {
   "cell_type": "code",
   "execution_count": 8,
   "id": "e19d1224",
   "metadata": {},
   "outputs": [],
   "source": [
    "df=df.dropna()"
   ]
  },
  {
   "cell_type": "code",
   "execution_count": 9,
   "id": "fe4a8bf9",
   "metadata": {},
   "outputs": [
    {
     "name": "stdout",
     "output_type": "stream",
     "text": [
      "<class 'pandas.core.frame.DataFrame'>\n",
      "Int64Index: 17976 entries, 0 to 17999\n",
      "Data columns (total 17 columns):\n",
      " #   Column                 Non-Null Count  Dtype  \n",
      "---  ------                 --------------  -----  \n",
      " 0   Customer_number        17976 non-null  int64  \n",
      " 1   Offer_Accepted         17976 non-null  object \n",
      " 2   Reward_Type            17976 non-null  object \n",
      " 3   Mailer_Type            17976 non-null  object \n",
      " 4   Income                 17976 non-null  object \n",
      " 5   No_open_bank_accounts  17976 non-null  int64  \n",
      " 6   Overdraft_protection   17976 non-null  object \n",
      " 7   Credit_rating          17976 non-null  object \n",
      " 8   No_credit_cards        17976 non-null  int64  \n",
      " 9   Homes_owned            17976 non-null  int64  \n",
      " 10  Household_size         17976 non-null  int64  \n",
      " 11  Own_your_home?         17976 non-null  object \n",
      " 12  Average_Balance        17976 non-null  float64\n",
      " 13  Q1_balance             17976 non-null  float64\n",
      " 14  Q2_balance             17976 non-null  float64\n",
      " 15  Q3_balance             17976 non-null  float64\n",
      " 16  Q4_balance             17976 non-null  float64\n",
      "dtypes: float64(5), int64(5), object(7)\n",
      "memory usage: 2.5+ MB\n"
     ]
    }
   ],
   "source": [
    "df.info()"
   ]
  },
  {
   "cell_type": "code",
   "execution_count": null,
   "id": "aaec8360",
   "metadata": {},
   "outputs": [],
   "source": []
  },
  {
   "cell_type": "code",
   "execution_count": null,
   "id": "c7396872",
   "metadata": {},
   "outputs": [],
   "source": []
  },
  {
   "cell_type": "markdown",
   "id": "popular-diploma",
   "metadata": {},
   "source": [
    "## Visualisations"
   ]
  },
  {
   "cell_type": "markdown",
   "id": "united-protest",
   "metadata": {},
   "source": [
    "We want to visualise the relationships between between the different features in the data."
   ]
  },
  {
   "cell_type": "code",
   "execution_count": 10,
   "id": "sapphire-worse",
   "metadata": {},
   "outputs": [],
   "source": [
    "# how many accepted the offer vs who didn't\n"
   ]
  },
  {
   "cell_type": "code",
   "execution_count": 11,
   "id": "digital-garlic",
   "metadata": {},
   "outputs": [],
   "source": [
    "# what's the avg balance of customers who accepted the offer vs who didn't\n"
   ]
  },
  {
   "cell_type": "code",
   "execution_count": 12,
   "id": "threaded-weapon",
   "metadata": {},
   "outputs": [],
   "source": [
    "# how do the different income levels of who accepted the offer compare with those who didn't\n"
   ]
  },
  {
   "cell_type": "code",
   "execution_count": 13,
   "id": "written-classics",
   "metadata": {},
   "outputs": [],
   "source": [
    "# how does yes/no look with the number of homes owned\n"
   ]
  },
  {
   "cell_type": "markdown",
   "id": "broad-rwanda",
   "metadata": {},
   "source": [
    "Let's see the relationship between the quarters and offer accepted."
   ]
  },
  {
   "cell_type": "code",
   "execution_count": 14,
   "id": "agreed-spoke",
   "metadata": {},
   "outputs": [],
   "source": [
    "# what's the q1 balance of customers who accepted the offer vs who didn't\n"
   ]
  },
  {
   "cell_type": "code",
   "execution_count": 15,
   "id": "christian-convention",
   "metadata": {},
   "outputs": [],
   "source": [
    "# what's the q2 balance of customers who accepted the offer vs who didn't\n"
   ]
  },
  {
   "cell_type": "code",
   "execution_count": 16,
   "id": "automatic-bones",
   "metadata": {},
   "outputs": [],
   "source": [
    "# what's the q3 balance of customers who accepted the offer vs who didn't\n"
   ]
  },
  {
   "cell_type": "code",
   "execution_count": 17,
   "id": "golden-decade",
   "metadata": {},
   "outputs": [],
   "source": [
    "# what's the q4 balance of customers who accepted the offer vs who didn't\n"
   ]
  },
  {
   "cell_type": "markdown",
   "id": "destroyed-corrections",
   "metadata": {},
   "source": [
    "\n",
    "# Cleaning & Wrangling"
   ]
  },
  {
   "cell_type": "markdown",
   "id": "registered-romantic",
   "metadata": {},
   "source": [
    "**Tasks**\n",
    "- drop 'customer_number' column\n",
    "- drop null values\n",
    "- convert float columns to int"
   ]
  },
  {
   "cell_type": "code",
   "execution_count": 18,
   "id": "induced-wealth",
   "metadata": {},
   "outputs": [],
   "source": [
    "# before cleaning, create a copy of the dataframe\n"
   ]
  },
  {
   "cell_type": "code",
   "execution_count": 19,
   "id": "turkish-bailey",
   "metadata": {},
   "outputs": [],
   "source": [
    "# drop customer_number column\n"
   ]
  },
  {
   "cell_type": "code",
   "execution_count": 20,
   "id": "young-sarah",
   "metadata": {},
   "outputs": [],
   "source": [
    "# drop rows with missing values\n"
   ]
  },
  {
   "cell_type": "code",
   "execution_count": 21,
   "id": "detected-label",
   "metadata": {},
   "outputs": [],
   "source": [
    "# converting columns from float to int\n"
   ]
  },
  {
   "cell_type": "code",
   "execution_count": 22,
   "id": "5036989e",
   "metadata": {},
   "outputs": [],
   "source": [
    "# test using info()"
   ]
  },
  {
   "cell_type": "markdown",
   "id": "informal-necessity",
   "metadata": {},
   "source": [
    "\n",
    "# Preprocessing"
   ]
  },
  {
   "cell_type": "markdown",
   "id": "sharing-binding",
   "metadata": {},
   "source": [
    "**Tasks:**\n",
    "- num vs cat data (split)\n",
    "- multicollinearity\n",
    "- imbalance\n",
    "- distribution plots (normalising, scaling, outlier detection)\n",
    "- normalizer\n",
    "- encoding into dummies"
   ]
  },
  {
   "cell_type": "code",
   "execution_count": 23,
   "id": "israeli-reception",
   "metadata": {},
   "outputs": [],
   "source": [
    "# split numerical and categorical data into two dataframes\n",
    "\n",
    "data_num=df.select_dtypes(include=['number'])"
   ]
  },
  {
   "cell_type": "code",
   "execution_count": 24,
   "id": "molecular-camera",
   "metadata": {},
   "outputs": [],
   "source": [
    "data_cat=df.select_dtypes(include=['object'])"
   ]
  },
  {
   "cell_type": "code",
   "execution_count": 25,
   "id": "induced-orchestra",
   "metadata": {},
   "outputs": [],
   "source": [
    "#correlation matrix for numerical columns -any highly correlated pairs we should drop ? \n"
   ]
  },
  {
   "cell_type": "code",
   "execution_count": 26,
   "id": "chief-biodiversity",
   "metadata": {},
   "outputs": [],
   "source": [
    "#scaling numerical columns with normalizer if needed \n"
   ]
  },
  {
   "cell_type": "code",
   "execution_count": null,
   "id": "98889c7e",
   "metadata": {},
   "outputs": [],
   "source": []
  },
  {
   "cell_type": "code",
   "execution_count": null,
   "id": "cf214a87",
   "metadata": {},
   "outputs": [],
   "source": []
  },
  {
   "cell_type": "code",
   "execution_count": 27,
   "id": "interim-credits",
   "metadata": {},
   "outputs": [
    {
     "data": {
      "text/html": [
       "<div>\n",
       "<style scoped>\n",
       "    .dataframe tbody tr th:only-of-type {\n",
       "        vertical-align: middle;\n",
       "    }\n",
       "\n",
       "    .dataframe tbody tr th {\n",
       "        vertical-align: top;\n",
       "    }\n",
       "\n",
       "    .dataframe thead th {\n",
       "        text-align: right;\n",
       "    }\n",
       "</style>\n",
       "<table border=\"1\" class=\"dataframe\">\n",
       "  <thead>\n",
       "    <tr style=\"text-align: right;\">\n",
       "      <th></th>\n",
       "      <th>Offer_Accepted</th>\n",
       "      <th>Reward_Type</th>\n",
       "      <th>Mailer_Type</th>\n",
       "      <th>Income</th>\n",
       "      <th>Overdraft_protection</th>\n",
       "      <th>Credit_rating</th>\n",
       "      <th>Own_your_home?</th>\n",
       "    </tr>\n",
       "  </thead>\n",
       "  <tbody>\n",
       "    <tr>\n",
       "      <th>0</th>\n",
       "      <td>No</td>\n",
       "      <td>Air Miles</td>\n",
       "      <td>Letter</td>\n",
       "      <td>High</td>\n",
       "      <td>No</td>\n",
       "      <td>High</td>\n",
       "      <td>No</td>\n",
       "    </tr>\n",
       "    <tr>\n",
       "      <th>1</th>\n",
       "      <td>No</td>\n",
       "      <td>Air Miles</td>\n",
       "      <td>Letter</td>\n",
       "      <td>Medium</td>\n",
       "      <td>No</td>\n",
       "      <td>Medium</td>\n",
       "      <td>Yes</td>\n",
       "    </tr>\n",
       "    <tr>\n",
       "      <th>2</th>\n",
       "      <td>No</td>\n",
       "      <td>Air Miles</td>\n",
       "      <td>Postcard</td>\n",
       "      <td>High</td>\n",
       "      <td>No</td>\n",
       "      <td>Medium</td>\n",
       "      <td>Yes</td>\n",
       "    </tr>\n",
       "    <tr>\n",
       "      <th>3</th>\n",
       "      <td>No</td>\n",
       "      <td>Air Miles</td>\n",
       "      <td>Letter</td>\n",
       "      <td>Medium</td>\n",
       "      <td>No</td>\n",
       "      <td>High</td>\n",
       "      <td>No</td>\n",
       "    </tr>\n",
       "    <tr>\n",
       "      <th>4</th>\n",
       "      <td>No</td>\n",
       "      <td>Air Miles</td>\n",
       "      <td>Letter</td>\n",
       "      <td>Medium</td>\n",
       "      <td>No</td>\n",
       "      <td>Medium</td>\n",
       "      <td>Yes</td>\n",
       "    </tr>\n",
       "  </tbody>\n",
       "</table>\n",
       "</div>"
      ],
      "text/plain": [
       "  Offer_Accepted Reward_Type Mailer_Type  Income Overdraft_protection  \\\n",
       "0             No   Air Miles      Letter    High                   No   \n",
       "1             No   Air Miles      Letter  Medium                   No   \n",
       "2             No   Air Miles    Postcard    High                   No   \n",
       "3             No   Air Miles      Letter  Medium                   No   \n",
       "4             No   Air Miles      Letter  Medium                   No   \n",
       "\n",
       "  Credit_rating Own_your_home?  \n",
       "0          High             No  \n",
       "1        Medium            Yes  \n",
       "2        Medium            Yes  \n",
       "3          High             No  \n",
       "4        Medium            Yes  "
      ]
     },
     "execution_count": 27,
     "metadata": {},
     "output_type": "execute_result"
    }
   ],
   "source": [
    "#encoding categorical features if needed \n",
    "data_cat.head()"
   ]
  },
  {
   "cell_type": "code",
   "execution_count": 28,
   "id": "7e387c7c",
   "metadata": {},
   "outputs": [],
   "source": [
    "X_cat=pd.get_dummies(data_cat, drop_first=True)"
   ]
  },
  {
   "cell_type": "code",
   "execution_count": 29,
   "id": "bfb2ce03",
   "metadata": {},
   "outputs": [
    {
     "data": {
      "text/html": [
       "<div>\n",
       "<style scoped>\n",
       "    .dataframe tbody tr th:only-of-type {\n",
       "        vertical-align: middle;\n",
       "    }\n",
       "\n",
       "    .dataframe tbody tr th {\n",
       "        vertical-align: top;\n",
       "    }\n",
       "\n",
       "    .dataframe thead th {\n",
       "        text-align: right;\n",
       "    }\n",
       "</style>\n",
       "<table border=\"1\" class=\"dataframe\">\n",
       "  <thead>\n",
       "    <tr style=\"text-align: right;\">\n",
       "      <th></th>\n",
       "      <th>Offer_Accepted_Yes</th>\n",
       "      <th>Reward_Type_Cash Back</th>\n",
       "      <th>Reward_Type_Points</th>\n",
       "      <th>Mailer_Type_Postcard</th>\n",
       "      <th>Income_Low</th>\n",
       "      <th>Income_Medium</th>\n",
       "      <th>Overdraft_protection_Yes</th>\n",
       "      <th>Credit_rating_Low</th>\n",
       "      <th>Credit_rating_Medium</th>\n",
       "      <th>Own_your_home?_Yes</th>\n",
       "    </tr>\n",
       "  </thead>\n",
       "  <tbody>\n",
       "    <tr>\n",
       "      <th>0</th>\n",
       "      <td>0</td>\n",
       "      <td>0</td>\n",
       "      <td>0</td>\n",
       "      <td>0</td>\n",
       "      <td>0</td>\n",
       "      <td>0</td>\n",
       "      <td>0</td>\n",
       "      <td>0</td>\n",
       "      <td>0</td>\n",
       "      <td>0</td>\n",
       "    </tr>\n",
       "    <tr>\n",
       "      <th>1</th>\n",
       "      <td>0</td>\n",
       "      <td>0</td>\n",
       "      <td>0</td>\n",
       "      <td>0</td>\n",
       "      <td>0</td>\n",
       "      <td>1</td>\n",
       "      <td>0</td>\n",
       "      <td>0</td>\n",
       "      <td>1</td>\n",
       "      <td>1</td>\n",
       "    </tr>\n",
       "    <tr>\n",
       "      <th>2</th>\n",
       "      <td>0</td>\n",
       "      <td>0</td>\n",
       "      <td>0</td>\n",
       "      <td>1</td>\n",
       "      <td>0</td>\n",
       "      <td>0</td>\n",
       "      <td>0</td>\n",
       "      <td>0</td>\n",
       "      <td>1</td>\n",
       "      <td>1</td>\n",
       "    </tr>\n",
       "    <tr>\n",
       "      <th>3</th>\n",
       "      <td>0</td>\n",
       "      <td>0</td>\n",
       "      <td>0</td>\n",
       "      <td>0</td>\n",
       "      <td>0</td>\n",
       "      <td>1</td>\n",
       "      <td>0</td>\n",
       "      <td>0</td>\n",
       "      <td>0</td>\n",
       "      <td>0</td>\n",
       "    </tr>\n",
       "    <tr>\n",
       "      <th>4</th>\n",
       "      <td>0</td>\n",
       "      <td>0</td>\n",
       "      <td>0</td>\n",
       "      <td>0</td>\n",
       "      <td>0</td>\n",
       "      <td>1</td>\n",
       "      <td>0</td>\n",
       "      <td>0</td>\n",
       "      <td>1</td>\n",
       "      <td>1</td>\n",
       "    </tr>\n",
       "  </tbody>\n",
       "</table>\n",
       "</div>"
      ],
      "text/plain": [
       "   Offer_Accepted_Yes  Reward_Type_Cash Back  Reward_Type_Points  \\\n",
       "0                   0                      0                   0   \n",
       "1                   0                      0                   0   \n",
       "2                   0                      0                   0   \n",
       "3                   0                      0                   0   \n",
       "4                   0                      0                   0   \n",
       "\n",
       "   Mailer_Type_Postcard  Income_Low  Income_Medium  Overdraft_protection_Yes  \\\n",
       "0                     0           0              0                         0   \n",
       "1                     0           0              1                         0   \n",
       "2                     1           0              0                         0   \n",
       "3                     0           0              1                         0   \n",
       "4                     0           0              1                         0   \n",
       "\n",
       "   Credit_rating_Low  Credit_rating_Medium  Own_your_home?_Yes  \n",
       "0                  0                     0                   0  \n",
       "1                  0                     1                   1  \n",
       "2                  0                     1                   1  \n",
       "3                  0                     0                   0  \n",
       "4                  0                     1                   1  "
      ]
     },
     "execution_count": 29,
     "metadata": {},
     "output_type": "execute_result"
    }
   ],
   "source": [
    "X_cat.head()"
   ]
  },
  {
   "cell_type": "code",
   "execution_count": 30,
   "id": "d541ba9a",
   "metadata": {},
   "outputs": [
    {
     "data": {
      "text/html": [
       "<div>\n",
       "<style scoped>\n",
       "    .dataframe tbody tr th:only-of-type {\n",
       "        vertical-align: middle;\n",
       "    }\n",
       "\n",
       "    .dataframe tbody tr th {\n",
       "        vertical-align: top;\n",
       "    }\n",
       "\n",
       "    .dataframe thead th {\n",
       "        text-align: right;\n",
       "    }\n",
       "</style>\n",
       "<table border=\"1\" class=\"dataframe\">\n",
       "  <thead>\n",
       "    <tr style=\"text-align: right;\">\n",
       "      <th></th>\n",
       "      <th>Customer_number</th>\n",
       "      <th>No_open_bank_accounts</th>\n",
       "      <th>No_credit_cards</th>\n",
       "      <th>Homes_owned</th>\n",
       "      <th>Household_size</th>\n",
       "      <th>Average_Balance</th>\n",
       "      <th>Q1_balance</th>\n",
       "      <th>Q2_balance</th>\n",
       "      <th>Q3_balance</th>\n",
       "      <th>Q4_balance</th>\n",
       "    </tr>\n",
       "  </thead>\n",
       "  <tbody>\n",
       "    <tr>\n",
       "      <th>0</th>\n",
       "      <td>1</td>\n",
       "      <td>1</td>\n",
       "      <td>2</td>\n",
       "      <td>1</td>\n",
       "      <td>4</td>\n",
       "      <td>1160.75</td>\n",
       "      <td>1669.0</td>\n",
       "      <td>877.0</td>\n",
       "      <td>1095.0</td>\n",
       "      <td>1002.0</td>\n",
       "    </tr>\n",
       "    <tr>\n",
       "      <th>1</th>\n",
       "      <td>2</td>\n",
       "      <td>1</td>\n",
       "      <td>2</td>\n",
       "      <td>2</td>\n",
       "      <td>5</td>\n",
       "      <td>147.25</td>\n",
       "      <td>39.0</td>\n",
       "      <td>106.0</td>\n",
       "      <td>78.0</td>\n",
       "      <td>366.0</td>\n",
       "    </tr>\n",
       "    <tr>\n",
       "      <th>2</th>\n",
       "      <td>3</td>\n",
       "      <td>2</td>\n",
       "      <td>2</td>\n",
       "      <td>1</td>\n",
       "      <td>2</td>\n",
       "      <td>276.50</td>\n",
       "      <td>367.0</td>\n",
       "      <td>352.0</td>\n",
       "      <td>145.0</td>\n",
       "      <td>242.0</td>\n",
       "    </tr>\n",
       "    <tr>\n",
       "      <th>3</th>\n",
       "      <td>4</td>\n",
       "      <td>2</td>\n",
       "      <td>1</td>\n",
       "      <td>1</td>\n",
       "      <td>4</td>\n",
       "      <td>1219.00</td>\n",
       "      <td>1578.0</td>\n",
       "      <td>1760.0</td>\n",
       "      <td>1119.0</td>\n",
       "      <td>419.0</td>\n",
       "    </tr>\n",
       "    <tr>\n",
       "      <th>4</th>\n",
       "      <td>5</td>\n",
       "      <td>1</td>\n",
       "      <td>2</td>\n",
       "      <td>1</td>\n",
       "      <td>6</td>\n",
       "      <td>1211.00</td>\n",
       "      <td>2140.0</td>\n",
       "      <td>1357.0</td>\n",
       "      <td>982.0</td>\n",
       "      <td>365.0</td>\n",
       "    </tr>\n",
       "    <tr>\n",
       "      <th>...</th>\n",
       "      <td>...</td>\n",
       "      <td>...</td>\n",
       "      <td>...</td>\n",
       "      <td>...</td>\n",
       "      <td>...</td>\n",
       "      <td>...</td>\n",
       "      <td>...</td>\n",
       "      <td>...</td>\n",
       "      <td>...</td>\n",
       "      <td>...</td>\n",
       "    </tr>\n",
       "    <tr>\n",
       "      <th>17995</th>\n",
       "      <td>17996</td>\n",
       "      <td>1</td>\n",
       "      <td>1</td>\n",
       "      <td>1</td>\n",
       "      <td>5</td>\n",
       "      <td>167.50</td>\n",
       "      <td>136.0</td>\n",
       "      <td>65.0</td>\n",
       "      <td>71.0</td>\n",
       "      <td>398.0</td>\n",
       "    </tr>\n",
       "    <tr>\n",
       "      <th>17996</th>\n",
       "      <td>17997</td>\n",
       "      <td>1</td>\n",
       "      <td>3</td>\n",
       "      <td>1</td>\n",
       "      <td>3</td>\n",
       "      <td>850.50</td>\n",
       "      <td>984.0</td>\n",
       "      <td>940.0</td>\n",
       "      <td>943.0</td>\n",
       "      <td>535.0</td>\n",
       "    </tr>\n",
       "    <tr>\n",
       "      <th>17997</th>\n",
       "      <td>17998</td>\n",
       "      <td>1</td>\n",
       "      <td>2</td>\n",
       "      <td>1</td>\n",
       "      <td>4</td>\n",
       "      <td>1087.25</td>\n",
       "      <td>918.0</td>\n",
       "      <td>767.0</td>\n",
       "      <td>1170.0</td>\n",
       "      <td>1494.0</td>\n",
       "    </tr>\n",
       "    <tr>\n",
       "      <th>17998</th>\n",
       "      <td>17999</td>\n",
       "      <td>1</td>\n",
       "      <td>4</td>\n",
       "      <td>2</td>\n",
       "      <td>2</td>\n",
       "      <td>1022.25</td>\n",
       "      <td>626.0</td>\n",
       "      <td>983.0</td>\n",
       "      <td>865.0</td>\n",
       "      <td>1615.0</td>\n",
       "    </tr>\n",
       "    <tr>\n",
       "      <th>17999</th>\n",
       "      <td>18000</td>\n",
       "      <td>2</td>\n",
       "      <td>2</td>\n",
       "      <td>1</td>\n",
       "      <td>3</td>\n",
       "      <td>1056.00</td>\n",
       "      <td>265.0</td>\n",
       "      <td>1378.0</td>\n",
       "      <td>1978.0</td>\n",
       "      <td>603.0</td>\n",
       "    </tr>\n",
       "  </tbody>\n",
       "</table>\n",
       "<p>17976 rows × 10 columns</p>\n",
       "</div>"
      ],
      "text/plain": [
       "       Customer_number  No_open_bank_accounts  No_credit_cards  Homes_owned  \\\n",
       "0                    1                      1                2            1   \n",
       "1                    2                      1                2            2   \n",
       "2                    3                      2                2            1   \n",
       "3                    4                      2                1            1   \n",
       "4                    5                      1                2            1   \n",
       "...                ...                    ...              ...          ...   \n",
       "17995            17996                      1                1            1   \n",
       "17996            17997                      1                3            1   \n",
       "17997            17998                      1                2            1   \n",
       "17998            17999                      1                4            2   \n",
       "17999            18000                      2                2            1   \n",
       "\n",
       "       Household_size  Average_Balance  Q1_balance  Q2_balance  Q3_balance  \\\n",
       "0                   4          1160.75      1669.0       877.0      1095.0   \n",
       "1                   5           147.25        39.0       106.0        78.0   \n",
       "2                   2           276.50       367.0       352.0       145.0   \n",
       "3                   4          1219.00      1578.0      1760.0      1119.0   \n",
       "4                   6          1211.00      2140.0      1357.0       982.0   \n",
       "...               ...              ...         ...         ...         ...   \n",
       "17995               5           167.50       136.0        65.0        71.0   \n",
       "17996               3           850.50       984.0       940.0       943.0   \n",
       "17997               4          1087.25       918.0       767.0      1170.0   \n",
       "17998               2          1022.25       626.0       983.0       865.0   \n",
       "17999               3          1056.00       265.0      1378.0      1978.0   \n",
       "\n",
       "       Q4_balance  \n",
       "0          1002.0  \n",
       "1           366.0  \n",
       "2           242.0  \n",
       "3           419.0  \n",
       "4           365.0  \n",
       "...           ...  \n",
       "17995       398.0  \n",
       "17996       535.0  \n",
       "17997      1494.0  \n",
       "17998      1615.0  \n",
       "17999       603.0  \n",
       "\n",
       "[17976 rows x 10 columns]"
      ]
     },
     "execution_count": 30,
     "metadata": {},
     "output_type": "execute_result"
    }
   ],
   "source": [
    "data_num"
   ]
  },
  {
   "cell_type": "code",
   "execution_count": 31,
   "id": "eb393ec8",
   "metadata": {},
   "outputs": [
    {
     "data": {
      "text/plain": [
       "(17976, 10)"
      ]
     },
     "execution_count": 31,
     "metadata": {},
     "output_type": "execute_result"
    }
   ],
   "source": [
    "data_num.shape"
   ]
  },
  {
   "cell_type": "code",
   "execution_count": 32,
   "id": "b9fe4c35",
   "metadata": {},
   "outputs": [
    {
     "data": {
      "text/plain": [
       "(17976, 10)"
      ]
     },
     "execution_count": 32,
     "metadata": {},
     "output_type": "execute_result"
    }
   ],
   "source": [
    "X_cat.shape"
   ]
  },
  {
   "cell_type": "code",
   "execution_count": 33,
   "id": "0996e36b",
   "metadata": {},
   "outputs": [],
   "source": [
    "# bring numbers and cat back together into one frame \n",
    "\n",
    "df=pd.concat((data_num, X_cat),axis=1)"
   ]
  },
  {
   "cell_type": "code",
   "execution_count": 35,
   "id": "67f42f80",
   "metadata": {},
   "outputs": [
    {
     "data": {
      "text/plain": [
       "(17976, 10)"
      ]
     },
     "execution_count": 35,
     "metadata": {},
     "output_type": "execute_result"
    }
   ],
   "source": [
    "X_cat.shape"
   ]
  },
  {
   "cell_type": "markdown",
   "id": "f2acdd27",
   "metadata": {},
   "source": [
    "# split off the dependant class (label)\n"
   ]
  },
  {
   "cell_type": "code",
   "execution_count": 36,
   "id": "e95063ff",
   "metadata": {},
   "outputs": [],
   "source": [
    "# drop target class from X \n",
    "\n",
    "X=df.drop(columns=['Offer_Accepted_Yes'])"
   ]
  },
  {
   "cell_type": "code",
   "execution_count": 37,
   "id": "9dfe7fe3",
   "metadata": {},
   "outputs": [
    {
     "data": {
      "text/html": [
       "<div>\n",
       "<style scoped>\n",
       "    .dataframe tbody tr th:only-of-type {\n",
       "        vertical-align: middle;\n",
       "    }\n",
       "\n",
       "    .dataframe tbody tr th {\n",
       "        vertical-align: top;\n",
       "    }\n",
       "\n",
       "    .dataframe thead th {\n",
       "        text-align: right;\n",
       "    }\n",
       "</style>\n",
       "<table border=\"1\" class=\"dataframe\">\n",
       "  <thead>\n",
       "    <tr style=\"text-align: right;\">\n",
       "      <th></th>\n",
       "      <th>Customer_number</th>\n",
       "      <th>No_open_bank_accounts</th>\n",
       "      <th>No_credit_cards</th>\n",
       "      <th>Homes_owned</th>\n",
       "      <th>Household_size</th>\n",
       "      <th>Average_Balance</th>\n",
       "      <th>Q1_balance</th>\n",
       "      <th>Q2_balance</th>\n",
       "      <th>Q3_balance</th>\n",
       "      <th>Q4_balance</th>\n",
       "      <th>Reward_Type_Cash Back</th>\n",
       "      <th>Reward_Type_Points</th>\n",
       "      <th>Mailer_Type_Postcard</th>\n",
       "      <th>Income_Low</th>\n",
       "      <th>Income_Medium</th>\n",
       "      <th>Overdraft_protection_Yes</th>\n",
       "      <th>Credit_rating_Low</th>\n",
       "      <th>Credit_rating_Medium</th>\n",
       "      <th>Own_your_home?_Yes</th>\n",
       "    </tr>\n",
       "  </thead>\n",
       "  <tbody>\n",
       "    <tr>\n",
       "      <th>0</th>\n",
       "      <td>1</td>\n",
       "      <td>1</td>\n",
       "      <td>2</td>\n",
       "      <td>1</td>\n",
       "      <td>4</td>\n",
       "      <td>1160.75</td>\n",
       "      <td>1669.0</td>\n",
       "      <td>877.0</td>\n",
       "      <td>1095.0</td>\n",
       "      <td>1002.0</td>\n",
       "      <td>0</td>\n",
       "      <td>0</td>\n",
       "      <td>0</td>\n",
       "      <td>0</td>\n",
       "      <td>0</td>\n",
       "      <td>0</td>\n",
       "      <td>0</td>\n",
       "      <td>0</td>\n",
       "      <td>0</td>\n",
       "    </tr>\n",
       "    <tr>\n",
       "      <th>1</th>\n",
       "      <td>2</td>\n",
       "      <td>1</td>\n",
       "      <td>2</td>\n",
       "      <td>2</td>\n",
       "      <td>5</td>\n",
       "      <td>147.25</td>\n",
       "      <td>39.0</td>\n",
       "      <td>106.0</td>\n",
       "      <td>78.0</td>\n",
       "      <td>366.0</td>\n",
       "      <td>0</td>\n",
       "      <td>0</td>\n",
       "      <td>0</td>\n",
       "      <td>0</td>\n",
       "      <td>1</td>\n",
       "      <td>0</td>\n",
       "      <td>0</td>\n",
       "      <td>1</td>\n",
       "      <td>1</td>\n",
       "    </tr>\n",
       "    <tr>\n",
       "      <th>2</th>\n",
       "      <td>3</td>\n",
       "      <td>2</td>\n",
       "      <td>2</td>\n",
       "      <td>1</td>\n",
       "      <td>2</td>\n",
       "      <td>276.50</td>\n",
       "      <td>367.0</td>\n",
       "      <td>352.0</td>\n",
       "      <td>145.0</td>\n",
       "      <td>242.0</td>\n",
       "      <td>0</td>\n",
       "      <td>0</td>\n",
       "      <td>1</td>\n",
       "      <td>0</td>\n",
       "      <td>0</td>\n",
       "      <td>0</td>\n",
       "      <td>0</td>\n",
       "      <td>1</td>\n",
       "      <td>1</td>\n",
       "    </tr>\n",
       "    <tr>\n",
       "      <th>3</th>\n",
       "      <td>4</td>\n",
       "      <td>2</td>\n",
       "      <td>1</td>\n",
       "      <td>1</td>\n",
       "      <td>4</td>\n",
       "      <td>1219.00</td>\n",
       "      <td>1578.0</td>\n",
       "      <td>1760.0</td>\n",
       "      <td>1119.0</td>\n",
       "      <td>419.0</td>\n",
       "      <td>0</td>\n",
       "      <td>0</td>\n",
       "      <td>0</td>\n",
       "      <td>0</td>\n",
       "      <td>1</td>\n",
       "      <td>0</td>\n",
       "      <td>0</td>\n",
       "      <td>0</td>\n",
       "      <td>0</td>\n",
       "    </tr>\n",
       "    <tr>\n",
       "      <th>4</th>\n",
       "      <td>5</td>\n",
       "      <td>1</td>\n",
       "      <td>2</td>\n",
       "      <td>1</td>\n",
       "      <td>6</td>\n",
       "      <td>1211.00</td>\n",
       "      <td>2140.0</td>\n",
       "      <td>1357.0</td>\n",
       "      <td>982.0</td>\n",
       "      <td>365.0</td>\n",
       "      <td>0</td>\n",
       "      <td>0</td>\n",
       "      <td>0</td>\n",
       "      <td>0</td>\n",
       "      <td>1</td>\n",
       "      <td>0</td>\n",
       "      <td>0</td>\n",
       "      <td>1</td>\n",
       "      <td>1</td>\n",
       "    </tr>\n",
       "  </tbody>\n",
       "</table>\n",
       "</div>"
      ],
      "text/plain": [
       "   Customer_number  No_open_bank_accounts  No_credit_cards  Homes_owned  \\\n",
       "0                1                      1                2            1   \n",
       "1                2                      1                2            2   \n",
       "2                3                      2                2            1   \n",
       "3                4                      2                1            1   \n",
       "4                5                      1                2            1   \n",
       "\n",
       "   Household_size  Average_Balance  Q1_balance  Q2_balance  Q3_balance  \\\n",
       "0               4          1160.75      1669.0       877.0      1095.0   \n",
       "1               5           147.25        39.0       106.0        78.0   \n",
       "2               2           276.50       367.0       352.0       145.0   \n",
       "3               4          1219.00      1578.0      1760.0      1119.0   \n",
       "4               6          1211.00      2140.0      1357.0       982.0   \n",
       "\n",
       "   Q4_balance  Reward_Type_Cash Back  Reward_Type_Points  \\\n",
       "0      1002.0                      0                   0   \n",
       "1       366.0                      0                   0   \n",
       "2       242.0                      0                   0   \n",
       "3       419.0                      0                   0   \n",
       "4       365.0                      0                   0   \n",
       "\n",
       "   Mailer_Type_Postcard  Income_Low  Income_Medium  Overdraft_protection_Yes  \\\n",
       "0                     0           0              0                         0   \n",
       "1                     0           0              1                         0   \n",
       "2                     1           0              0                         0   \n",
       "3                     0           0              1                         0   \n",
       "4                     0           0              1                         0   \n",
       "\n",
       "   Credit_rating_Low  Credit_rating_Medium  Own_your_home?_Yes  \n",
       "0                  0                     0                   0  \n",
       "1                  0                     1                   1  \n",
       "2                  0                     1                   1  \n",
       "3                  0                     0                   0  \n",
       "4                  0                     1                   1  "
      ]
     },
     "execution_count": 37,
     "metadata": {},
     "output_type": "execute_result"
    }
   ],
   "source": [
    "X.head()"
   ]
  },
  {
   "cell_type": "code",
   "execution_count": 38,
   "id": "amateur-colors",
   "metadata": {},
   "outputs": [],
   "source": [
    "# define the target y\n",
    "y=df['Offer_Accepted_Yes']"
   ]
  },
  {
   "cell_type": "code",
   "execution_count": 39,
   "id": "worse-confidentiality",
   "metadata": {},
   "outputs": [],
   "source": [
    "#checking the len of x_normalized & cat_clean before merging back together in X\n"
   ]
  },
  {
   "cell_type": "code",
   "execution_count": null,
   "id": "bizarre-astrology",
   "metadata": {},
   "outputs": [],
   "source": [
    "# bring the numerical data (scaled)in with the categorical using concat\n"
   ]
  },
  {
   "cell_type": "markdown",
   "id": "touched-courtesy",
   "metadata": {},
   "source": [
    "\n",
    "# Modelling"
   ]
  },
  {
   "cell_type": "markdown",
   "id": "classified-circumstances",
   "metadata": {},
   "source": [
    "**- iteration 1 (X)**\n",
    "\n",
    "In our first iteration we only used preprocessing and encoding, we use this as a benchmark for the next iterations to compare to.\n",
    "\n",
    "**- iteration 2 (X_i2)**\n",
    "\n",
    "SMOTE sampling to improve the imbalance of the target\n",
    "drop some selected columns \n",
    "\n",
    "**- iteration 3 (X_i3)**\n",
    "\n",
    "example - dropping quarterly balance columns to reduce noise, encode numerical features to categories as appropriate \n",
    "implementing KNN or decision tree\n",
    "\n"
   ]
  },
  {
   "cell_type": "markdown",
   "id": "boring-mission",
   "metadata": {},
   "source": [
    "## Modeling (X)"
   ]
  },
  {
   "cell_type": "code",
   "execution_count": 40,
   "id": "muslim-collection",
   "metadata": {},
   "outputs": [],
   "source": [
    "#import model\n",
    "\n",
    "from sklearn.neighbors import KNeighborsClassifier"
   ]
  },
  {
   "cell_type": "markdown",
   "id": "shaped-fight",
   "metadata": {},
   "source": [
    "### Test & Train"
   ]
  },
  {
   "cell_type": "code",
   "execution_count": 41,
   "id": "light-qualification",
   "metadata": {},
   "outputs": [],
   "source": [
    "#train test split - splitting X and y each into 2 data sets(train data and test data)\n",
    "from sklearn.model_selection import train_test_split\n",
    "X_train, X_test, y_train, y_test = train_test_split(X,y,test_size=0.3, random_state=40)"
   ]
  },
  {
   "cell_type": "code",
   "execution_count": 42,
   "id": "waiting-adult",
   "metadata": {},
   "outputs": [
    {
     "data": {
      "text/plain": [
       "KNeighborsClassifier()"
      ]
     },
     "execution_count": 42,
     "metadata": {},
     "output_type": "execute_result"
    }
   ],
   "source": [
    "#model development\n",
    "#create a Logistic Regression classifier (classification) object using LogisticRegression() function\n",
    "#fit model on the train set using fit()\n",
    "\n",
    "neigh = KNeighborsClassifier(n_neighbors=5)\n",
    "\n",
    "neigh.fit(X_train, y_train)\n",
    "\n",
    "# knn requires everything to be numerical , no nulls "
   ]
  },
  {
   "cell_type": "code",
   "execution_count": 46,
   "id": "abroad-healing",
   "metadata": {},
   "outputs": [],
   "source": [
    "#perform prediction on the test set using predict()\n",
    "y_pred = neigh.predict(X_test)"
   ]
  },
  {
   "cell_type": "code",
   "execution_count": 47,
   "id": "surprising-continuity",
   "metadata": {},
   "outputs": [
    {
     "data": {
      "text/plain": [
       "array([0, 0, 0, ..., 0, 0, 0], dtype=uint8)"
      ]
     },
     "execution_count": 47,
     "metadata": {},
     "output_type": "execute_result"
    }
   ],
   "source": [
    "#check the predictions array\n",
    "y_pred"
   ]
  },
  {
   "cell_type": "markdown",
   "id": "understood-davis",
   "metadata": {},
   "source": [
    "### Accuracy metrics and visuals"
   ]
  },
  {
   "cell_type": "code",
   "execution_count": 44,
   "id": "parallel-vitamin",
   "metadata": {},
   "outputs": [],
   "source": [
    "#calculating the accuracy score\n",
    "from sklearn.metrics import accuracy_score\n",
    "    "
   ]
  },
  {
   "cell_type": "code",
   "execution_count": 48,
   "id": "384840e8",
   "metadata": {},
   "outputs": [
    {
     "data": {
      "text/plain": [
       "0.9404783979232338"
      ]
     },
     "execution_count": 48,
     "metadata": {},
     "output_type": "execute_result"
    }
   ],
   "source": [
    "accuracy_score(y_test,y_pred)"
   ]
  },
  {
   "cell_type": "code",
   "execution_count": 50,
   "id": "56b64dd9",
   "metadata": {},
   "outputs": [],
   "source": [
    "from sklearn.metrics import classification_report"
   ]
  },
  {
   "cell_type": "code",
   "execution_count": 51,
   "id": "6fe4107b",
   "metadata": {},
   "outputs": [
    {
     "name": "stdout",
     "output_type": "stream",
     "text": [
      "              precision    recall  f1-score   support\n",
      "\n",
      "           0       0.94      1.00      0.97      5078\n",
      "           1       0.12      0.00      0.01       315\n",
      "\n",
      "    accuracy                           0.94      5393\n",
      "   macro avg       0.53      0.50      0.49      5393\n",
      "weighted avg       0.89      0.94      0.91      5393\n",
      "\n"
     ]
    }
   ],
   "source": [
    "print(classification_report(y_test,y_pred))"
   ]
  },
  {
   "cell_type": "markdown",
   "id": "collectible-delaware",
   "metadata": {},
   "source": [
    "#### Confusion matrix"
   ]
  },
  {
   "cell_type": "code",
   "execution_count": 52,
   "id": "decent-chile",
   "metadata": {},
   "outputs": [],
   "source": [
    "from sklearn.metrics import confusion_matrix\n",
    "from sklearn.metrics import plot_confusion_matrix"
   ]
  },
  {
   "cell_type": "code",
   "execution_count": 54,
   "id": "8c53d2d2",
   "metadata": {},
   "outputs": [
    {
     "data": {
      "text/plain": [
       "array([[5071,    7],\n",
       "       [ 314,    1]])"
      ]
     },
     "execution_count": 54,
     "metadata": {},
     "output_type": "execute_result"
    }
   ],
   "source": [
    "cnf_matrix_it1 = confusion_matrix(y_test,y_pred)\n",
    "cnf_matrix_it1"
   ]
  },
  {
   "cell_type": "code",
   "execution_count": 57,
   "id": "ab830fbc",
   "metadata": {},
   "outputs": [
    {
     "data": {
      "image/png": "[encoded data removed]",
      "text/plain": [
       "<Figure size 432x288 with 2 Axes>"
      ]
     },
     "metadata": {
      "needs_background": "light"
     },
     "output_type": "display_data"
    }
   ],
   "source": [
    "plot_confusion_matrix(neigh,X_test,y_test);"
   ]
  },
  {
   "cell_type": "code",
   "execution_count": 58,
   "id": "68f3ba06",
   "metadata": {},
   "outputs": [
    {
     "data": {
      "image/png": "[encoded data removed]",
      "text/plain": [
       "<Figure size 432x288 with 2 Axes>"
      ]
     },
     "metadata": {
      "needs_background": "light"
     },
     "output_type": "display_data"
    }
   ],
   "source": [
    "plot_confusion_matrix(neigh,X_train,y_train);"
   ]
  },
  {
   "cell_type": "markdown",
   "id": "atomic-smooth",
   "metadata": {},
   "source": [
    "#### ROC/AUC"
   ]
  },
  {
   "cell_type": "code",
   "execution_count": null,
   "id": "subsequent-identification",
   "metadata": {
    "scrolled": true
   },
   "outputs": [],
   "source": []
  },
  {
   "cell_type": "code",
   "execution_count": null,
   "id": "a65fe69b",
   "metadata": {},
   "outputs": [],
   "source": []
  },
  {
   "cell_type": "markdown",
   "id": "suspended-cathedral",
   "metadata": {},
   "source": [
    "**ROC Curve**\n",
    "Receiver Operating Characteristic(ROC) curve is a plot of the true positive rate against the false positive rate. It shows the tradeoff between sensitivity and specificity.\n",
    "\n",
    "- the closer to left hand corner the better\n",
    "- should not be below 0.5 (random) 'red' line\n",
    "\n",
    "**AUC** - area under the curve the bigger the area under the curve the better the model\n",
    "1 represents perfect classifier, and 0.5 represents a worthless classifier.<br/>\n",
    "\n"
   ]
  },
  {
   "cell_type": "markdown",
   "id": "750d29d7",
   "metadata": {},
   "source": [
    "### Are we using the correct K value for our data?"
   ]
  },
  {
   "cell_type": "code",
   "execution_count": 62,
   "id": "2b535356",
   "metadata": {},
   "outputs": [
    {
     "data": {
      "text/plain": [
       "[0.06137585759317634,\n",
       " 0.06675319859076581,\n",
       " 0.05896532542184313,\n",
       " 0.05952160207676618,\n",
       " 0.058779899870202115,\n",
       " 0.05915075097348415,\n",
       " 0.058594474318561095,\n",
       " 0.058594474318561095,\n",
       " 0.058594474318561095,\n",
       " 0.058594474318561095,\n",
       " 0.05840904876692008,\n",
       " 0.05840904876692008,\n",
       " 0.05840904876692008,\n",
       " 0.05840904876692008,\n",
       " 0.05840904876692008,\n",
       " 0.05840904876692008]"
      ]
     },
     "execution_count": 62,
     "metadata": {},
     "output_type": "execute_result"
    }
   ],
   "source": [
    "# run through k = 2,3,4,5....18\n",
    "# for loop to do this\n",
    "# collect the errors for each k attempt\n",
    "# plot the errors on a chart\n",
    "\n",
    "error = []\n",
    "for i in range(2,18):\n",
    "    knn = KNeighborsClassifier(n_neighbors = i)\n",
    "    knn.fit(X_train,y_train)\n",
    "    pred_i = knn.predict(X_test)\n",
    "    error.append(np.mean(pred_i != y_test))\n",
    "error"
   ]
  },
  {
   "cell_type": "code",
   "execution_count": 67,
   "id": "04d64351",
   "metadata": {},
   "outputs": [
    {
     "data": {
      "image/png": "[encoded data removed]",
      "text/plain": [
       "<Figure size 576x432 with 1 Axes>"
      ]
     },
     "metadata": {
      "needs_background": "light"
     },
     "output_type": "display_data"
    }
   ],
   "source": [
    "plt.figure(figsize = (8,6))\n",
    "plt.plot(range(2,18), error, color = 'red', marker = 'o');"
   ]
  },
  {
   "cell_type": "code",
   "execution_count": null,
   "id": "7c487546",
   "metadata": {},
   "outputs": [],
   "source": []
  },
  {
   "cell_type": "markdown",
   "id": "signal-million",
   "metadata": {},
   "source": [
    "## Modeling (X_i2)"
   ]
  },
  {
   "cell_type": "code",
   "execution_count": null,
   "id": "280dd2be",
   "metadata": {},
   "outputs": [],
   "source": [
    "#drop selected columns \n",
    "\n"
   ]
  },
  {
   "cell_type": "code",
   "execution_count": null,
   "id": "ceramic-sewing",
   "metadata": {},
   "outputs": [],
   "source": [
    "# import needed libraries\n"
   ]
  },
  {
   "cell_type": "code",
   "execution_count": null,
   "id": "necessary-dragon",
   "metadata": {},
   "outputs": [],
   "source": [
    "#define smote variable\n"
   ]
  },
  {
   "cell_type": "code",
   "execution_count": null,
   "id": "designing-library",
   "metadata": {},
   "outputs": [],
   "source": [
    "#recreate X and y applying smote\n"
   ]
  },
  {
   "cell_type": "markdown",
   "id": "latter-petite",
   "metadata": {},
   "source": [
    "### Test & Train"
   ]
  },
  {
   "cell_type": "code",
   "execution_count": null,
   "id": "amended-manual",
   "metadata": {},
   "outputs": [],
   "source": [
    "#redo train test split it2\n"
   ]
  },
  {
   "cell_type": "code",
   "execution_count": null,
   "id": "instrumental-player",
   "metadata": {},
   "outputs": [],
   "source": [
    "#apply model it2 \n"
   ]
  },
  {
   "cell_type": "markdown",
   "id": "informative-harrison",
   "metadata": {},
   "source": [
    "### Accuracy metrics and visuals"
   ]
  },
  {
   "cell_type": "code",
   "execution_count": null,
   "id": "a039a6b9",
   "metadata": {},
   "outputs": [],
   "source": []
  },
  {
   "cell_type": "code",
   "execution_count": null,
   "id": "3c7249b8",
   "metadata": {},
   "outputs": [],
   "source": []
  },
  {
   "cell_type": "markdown",
   "id": "sorted-ghost",
   "metadata": {},
   "source": [
    "#### Confusion matrix"
   ]
  },
  {
   "cell_type": "code",
   "execution_count": null,
   "id": "2d0f5e64",
   "metadata": {},
   "outputs": [],
   "source": []
  },
  {
   "cell_type": "code",
   "execution_count": null,
   "id": "e054d21f",
   "metadata": {},
   "outputs": [],
   "source": []
  },
  {
   "cell_type": "code",
   "execution_count": null,
   "id": "b1f6b805",
   "metadata": {},
   "outputs": [],
   "source": []
  },
  {
   "cell_type": "markdown",
   "id": "cross-imaging",
   "metadata": {},
   "source": [
    "#### ROC"
   ]
  },
  {
   "cell_type": "code",
   "execution_count": null,
   "id": "c8fd5e60",
   "metadata": {},
   "outputs": [],
   "source": []
  },
  {
   "cell_type": "code",
   "execution_count": null,
   "id": "0bacddf7",
   "metadata": {},
   "outputs": [],
   "source": []
  },
  {
   "cell_type": "code",
   "execution_count": null,
   "id": "fb72d7c3",
   "metadata": {},
   "outputs": [],
   "source": []
  },
  {
   "cell_type": "markdown",
   "id": "brave-terminology",
   "metadata": {},
   "source": [
    "**Comparision accuracy and recall it1 and it2**\n",
    "\n",
    "accuracy it1 = \n",
    "accuracy it2 = \n",
    "\n"
   ]
  },
  {
   "cell_type": "markdown",
   "id": "recorded-specific",
   "metadata": {},
   "source": [
    "## Modeling (X_i3)"
   ]
  },
  {
   "cell_type": "code",
   "execution_count": null,
   "id": "growing-calcium",
   "metadata": {},
   "outputs": [],
   "source": []
  },
  {
   "cell_type": "code",
   "execution_count": null,
   "id": "confidential-habitat",
   "metadata": {},
   "outputs": [],
   "source": []
  },
  {
   "cell_type": "code",
   "execution_count": null,
   "id": "ca5cbde8",
   "metadata": {},
   "outputs": [],
   "source": []
  },
  {
   "cell_type": "code",
   "execution_count": null,
   "id": "3b82f076",
   "metadata": {},
   "outputs": [],
   "source": []
  },
  {
   "cell_type": "code",
   "execution_count": null,
   "id": "bb10a85d",
   "metadata": {},
   "outputs": [],
   "source": []
  },
  {
   "cell_type": "markdown",
   "id": "625bbd55",
   "metadata": {},
   "source": [
    "### Test and Train "
   ]
  },
  {
   "cell_type": "code",
   "execution_count": null,
   "id": "different-sodium",
   "metadata": {},
   "outputs": [],
   "source": []
  },
  {
   "cell_type": "code",
   "execution_count": null,
   "id": "3f80a857",
   "metadata": {},
   "outputs": [],
   "source": []
  },
  {
   "cell_type": "code",
   "execution_count": null,
   "id": "6e3f81dd",
   "metadata": {},
   "outputs": [],
   "source": []
  },
  {
   "cell_type": "markdown",
   "id": "pressing-premiere",
   "metadata": {},
   "source": [
    "### Accuracy metrics and visuals"
   ]
  },
  {
   "cell_type": "code",
   "execution_count": null,
   "id": "a0a37deb",
   "metadata": {},
   "outputs": [],
   "source": []
  },
  {
   "cell_type": "code",
   "execution_count": null,
   "id": "acba67af",
   "metadata": {},
   "outputs": [],
   "source": []
  },
  {
   "cell_type": "code",
   "execution_count": null,
   "id": "b96687f2",
   "metadata": {},
   "outputs": [],
   "source": []
  },
  {
   "cell_type": "markdown",
   "id": "pursuant-lecture",
   "metadata": {},
   "source": [
    "#### Confusion matrix"
   ]
  },
  {
   "cell_type": "code",
   "execution_count": null,
   "id": "paperback-contract",
   "metadata": {},
   "outputs": [],
   "source": []
  },
  {
   "cell_type": "code",
   "execution_count": null,
   "id": "significant-excellence",
   "metadata": {},
   "outputs": [],
   "source": []
  },
  {
   "cell_type": "markdown",
   "id": "suburban-difference",
   "metadata": {},
   "source": [
    "**Comparision confusion matrix it1, it2, it3\n",
    "\n",
    "\n"
   ]
  },
  {
   "cell_type": "markdown",
   "id": "random-bacon",
   "metadata": {},
   "source": [
    "#### ROC"
   ]
  },
  {
   "cell_type": "code",
   "execution_count": null,
   "id": "employed-rouge",
   "metadata": {},
   "outputs": [],
   "source": []
  },
  {
   "cell_type": "markdown",
   "id": "pointed-internship",
   "metadata": {},
   "source": [
    "**Comparision ROC & AUC it1, it2 and it3 \n",
    "\n"
   ]
  },
  {
   "cell_type": "markdown",
   "id": "collect-sessions",
   "metadata": {},
   "source": [
    "# Findings and Conclusion\n",
    "\n",
    "\n"
   ]
  },
  {
   "cell_type": "code",
   "execution_count": null,
   "id": "bearing-direction",
   "metadata": {},
   "outputs": [],
   "source": [
    "\n",
    "\n",
    "\n"
   ]
  }
 ],
 "metadata": {
  "kernelspec": {
   "display_name": "Python 3",
   "language": "python",
   "name": "python3"
  },
  "language_info": {
   "codemirror_mode": {
    "name": "ipython",
    "version": 3
   },
   "file_extension": ".py",
   "mimetype": "text/x-python",
   "name": "python",
   "nbconvert_exporter": "python",
   "pygments_lexer": "ipython3",
   "version": "3.8.8"
  },
  "toc": {
   "base_numbering": 1,
   "nav_menu": {},
   "number_sections": true,
   "sideBar": true,
   "skip_h1_title": false,
   "title_cell": "Table of Contents",
   "title_sidebar": "Contents",
   "toc_cell": false,
   "toc_position": {},
   "toc_section_display": true,
   "toc_window_display": false
  },
  "varInspector": {
   "cols": {
    "lenName": 16,
    "lenType": 16,
    "lenVar": 40
   },
   "kernels_config": {
    "python": {
     "delete_cmd_postfix": "",
     "delete_cmd_prefix": "del ",
     "library": "var_list.py",
     "varRefreshCmd": "print(var_dic_list())"
    },
    "r": {
     "delete_cmd_postfix": ") ",
     "delete_cmd_prefix": "rm(",
     "library": "var_list.r",
     "varRefreshCmd": "cat(var_dic_list()) "
    }
   },
   "types_to_exclude": [
    "module",
    "function",
    "builtin_function_or_method",
    "instance",
    "_Feature"
   ],
   "window_display": false
  }
 },
 "nbformat": 4,
 "nbformat_minor": 5
}
