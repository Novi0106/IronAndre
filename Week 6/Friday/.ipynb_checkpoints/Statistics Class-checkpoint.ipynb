{
 "cells": [
  {
   "cell_type": "code",
   "execution_count": 2,
   "id": "22893dbb",
   "metadata": {},
   "outputs": [],
   "source": [
    "# import the toolset\n",
    "\n",
    "from scipy.stats import ttest_1samp"
   ]
  },
  {
   "cell_type": "code",
   "execution_count": 3,
   "id": "b2ffc8ad",
   "metadata": {},
   "outputs": [],
   "source": [
    "from scipy.stats import norm # z distribution"
   ]
  },
  {
   "cell_type": "code",
   "execution_count": 4,
   "id": "88bc3a01",
   "metadata": {},
   "outputs": [],
   "source": [
    "import math"
   ]
  },
  {
   "cell_type": "markdown",
   "id": "f76c54f5",
   "metadata": {},
   "source": [
    "### summarize statistical test\n",
    "\n",
    "- comparing sample to a known population (can use z-distribution)\n",
    "\n",
    "- population mean = 85\n",
    "- sample mean = 80.84\n",
    "- collected 25 weights in the sample (25 boys)\n",
    "- st dev of sample = 11.6\n",
    "\n",
    "- one tailed t-test since we are only looking for underfed children (lower than 85)\n",
    "\n",
    "+ H0 - No difference between the boys sample and population\n",
    "+ HA - Weight distribution is significantly lower than for children at their age"
   ]
  },
  {
   "cell_type": "code",
   "execution_count": 5,
   "id": "aa54b623",
   "metadata": {},
   "outputs": [],
   "source": [
    "# define all the variables\n",
    "\n",
    "sample_mean = 80.94\n",
    "pop_mean = 85\n",
    "sample_std = 11.6\n",
    "n = 25"
   ]
  },
  {
   "cell_type": "code",
   "execution_count": 11,
   "id": "197a83c8",
   "metadata": {},
   "outputs": [
    {
     "data": {
      "text/plain": [
       "-1.7146428199482255"
      ]
     },
     "execution_count": 11,
     "metadata": {},
     "output_type": "execute_result"
    }
   ],
   "source": [
    "# calculate the t statistic\n",
    "\n",
    "# (sample_mean - pop_mean) / (sample_std/sqrt(n-1))\n",
    "\n",
    "t_score = (sample_mean - pop_mean) / (sample_std/(math.sqrt(n-1)))\n",
    "\n",
    "t_score"
   ]
  },
  {
   "cell_type": "code",
   "execution_count": 12,
   "id": "fb467e4a",
   "metadata": {},
   "outputs": [
    {
     "data": {
      "text/plain": [
       "-1.6448536269514729"
      ]
     },
     "execution_count": 12,
     "metadata": {},
     "output_type": "execute_result"
    }
   ],
   "source": [
    "# 0.05 conventional threshold -> critical value\n",
    "\n",
    "critical_value = norm.ppf(0.05)\n",
    "critical_value"
   ]
  },
  {
   "cell_type": "code",
   "execution_count": 15,
   "id": "21936cee",
   "metadata": {},
   "outputs": [
    {
     "data": {
      "text/plain": [
       "0.04320536648684992"
      ]
     },
     "execution_count": 15,
     "metadata": {},
     "output_type": "execute_result"
    }
   ],
   "source": [
    "# on the one tailed t test we have evidence of a statistically significant\n",
    "# difference in the means - suggests that we should reject H0\n",
    "\n",
    "# p value is it less than 0.05?\n",
    "\n",
    "p_value = norm.cdf(t_score)\n",
    "p_value"
   ]
  },
  {
   "cell_type": "markdown",
   "id": "59b0e839",
   "metadata": {},
   "source": [
    "### Summary\n",
    "\n",
    "From our two tests - t test and p value we accept Ha"
   ]
  },
  {
   "cell_type": "code",
   "execution_count": 17,
   "id": "3ae1f995",
   "metadata": {},
   "outputs": [],
   "source": [
    "import pandas as pd\n"
   ]
  },
  {
   "cell_type": "code",
   "execution_count": 18,
   "id": "2209dfde",
   "metadata": {},
   "outputs": [],
   "source": [
    "data = pd.read_excel('anova_class_example_data.xlsx', sheet_name = 'data_collected')"
   ]
  },
  {
   "cell_type": "code",
   "execution_count": 19,
   "id": "12a81353",
   "metadata": {},
   "outputs": [
    {
     "data": {
      "text/html": [
       "<div>\n",
       "<style scoped>\n",
       "    .dataframe tbody tr th:only-of-type {\n",
       "        vertical-align: middle;\n",
       "    }\n",
       "\n",
       "    .dataframe tbody tr th {\n",
       "        vertical-align: top;\n",
       "    }\n",
       "\n",
       "    .dataframe thead th {\n",
       "        text-align: right;\n",
       "    }\n",
       "</style>\n",
       "<table border=\"1\" class=\"dataframe\">\n",
       "  <thead>\n",
       "    <tr style=\"text-align: right;\">\n",
       "      <th></th>\n",
       "      <th>Display_design</th>\n",
       "      <th>Percent_increase_in_sales</th>\n",
       "    </tr>\n",
       "  </thead>\n",
       "  <tbody>\n",
       "    <tr>\n",
       "      <th>0</th>\n",
       "      <td>1</td>\n",
       "      <td>575</td>\n",
       "    </tr>\n",
       "    <tr>\n",
       "      <th>1</th>\n",
       "      <td>2</td>\n",
       "      <td>565</td>\n",
       "    </tr>\n",
       "    <tr>\n",
       "      <th>2</th>\n",
       "      <td>3</td>\n",
       "      <td>600</td>\n",
       "    </tr>\n",
       "    <tr>\n",
       "      <th>3</th>\n",
       "      <td>4</td>\n",
       "      <td>725</td>\n",
       "    </tr>\n",
       "    <tr>\n",
       "      <th>4</th>\n",
       "      <td>1</td>\n",
       "      <td>542</td>\n",
       "    </tr>\n",
       "  </tbody>\n",
       "</table>\n",
       "</div>"
      ],
      "text/plain": [
       "   Display_design  Percent_increase_in_sales\n",
       "0               1                        575\n",
       "1               2                        565\n",
       "2               3                        600\n",
       "3               4                        725\n",
       "4               1                        542"
      ]
     },
     "execution_count": 19,
     "metadata": {},
     "output_type": "execute_result"
    }
   ],
   "source": [
    "data.head()"
   ]
  },
  {
   "cell_type": "code",
   "execution_count": 20,
   "id": "ea0a063e",
   "metadata": {},
   "outputs": [],
   "source": [
    "import statsmodels.api as sm"
   ]
  },
  {
   "cell_type": "code",
   "execution_count": 21,
   "id": "26ef2e11",
   "metadata": {},
   "outputs": [],
   "source": [
    "from statsmodels.formula.api import ols"
   ]
  },
  {
   "cell_type": "code",
   "execution_count": 23,
   "id": "c24c7f29",
   "metadata": {},
   "outputs": [],
   "source": [
    "# ~C(Display_design) compare initial column to this one\n",
    "\n",
    "\n",
    "model = ols('Percent_increase_in_sales ~C(Display_design)', data = data).fit()"
   ]
  },
  {
   "cell_type": "code",
   "execution_count": 24,
   "id": "6cb0e48d",
   "metadata": {},
   "outputs": [],
   "source": [
    "results_table = sm.stats.anova_lm(model)"
   ]
  },
  {
   "cell_type": "code",
   "execution_count": 25,
   "id": "6daf4167",
   "metadata": {},
   "outputs": [
    {
     "data": {
      "text/html": [
       "<div>\n",
       "<style scoped>\n",
       "    .dataframe tbody tr th:only-of-type {\n",
       "        vertical-align: middle;\n",
       "    }\n",
       "\n",
       "    .dataframe tbody tr th {\n",
       "        vertical-align: top;\n",
       "    }\n",
       "\n",
       "    .dataframe thead th {\n",
       "        text-align: right;\n",
       "    }\n",
       "</style>\n",
       "<table border=\"1\" class=\"dataframe\">\n",
       "  <thead>\n",
       "    <tr style=\"text-align: right;\">\n",
       "      <th></th>\n",
       "      <th>df</th>\n",
       "      <th>sum_sq</th>\n",
       "      <th>mean_sq</th>\n",
       "      <th>F</th>\n",
       "      <th>PR(&gt;F)</th>\n",
       "    </tr>\n",
       "  </thead>\n",
       "  <tbody>\n",
       "    <tr>\n",
       "      <th>C(Display_design)</th>\n",
       "      <td>3.0</td>\n",
       "      <td>66870.55</td>\n",
       "      <td>22290.183333</td>\n",
       "      <td>66.797073</td>\n",
       "      <td>2.882866e-09</td>\n",
       "    </tr>\n",
       "    <tr>\n",
       "      <th>Residual</th>\n",
       "      <td>16.0</td>\n",
       "      <td>5339.20</td>\n",
       "      <td>333.700000</td>\n",
       "      <td>NaN</td>\n",
       "      <td>NaN</td>\n",
       "    </tr>\n",
       "  </tbody>\n",
       "</table>\n",
       "</div>"
      ],
      "text/plain": [
       "                     df    sum_sq       mean_sq          F        PR(>F)\n",
       "C(Display_design)   3.0  66870.55  22290.183333  66.797073  2.882866e-09\n",
       "Residual           16.0   5339.20    333.700000        NaN           NaN"
      ]
     },
     "execution_count": 25,
     "metadata": {},
     "output_type": "execute_result"
    }
   ],
   "source": [
    "results_table"
   ]
  }
 ],
 "metadata": {
  "kernelspec": {
   "display_name": "Python 3",
   "language": "python",
   "name": "python3"
  },
  "language_info": {
   "codemirror_mode": {
    "name": "ipython",
    "version": 3
   },
   "file_extension": ".py",
   "mimetype": "text/x-python",
   "name": "python",
   "nbconvert_exporter": "python",
   "pygments_lexer": "ipython3",
   "version": "3.8.8"
  }
 },
 "nbformat": 4,
 "nbformat_minor": 5
}
