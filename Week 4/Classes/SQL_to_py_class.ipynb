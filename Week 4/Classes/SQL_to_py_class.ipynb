{
 "cells": [
  {
   "cell_type": "code",
   "execution_count": 16,
   "id": "b1a49d08",
   "metadata": {},
   "outputs": [],
   "source": [
    "import pymysql\n",
    "from sqlalchemy import create_engine\n",
    "import pandas as pd\n",
    "import matplotlib.pyplot as plt\n",
    "import seaborn as sns"
   ]
  },
  {
   "cell_type": "code",
   "execution_count": 4,
   "id": "9d211e56",
   "metadata": {},
   "outputs": [
    {
     "name": "stdout",
     "output_type": "stream",
     "text": [
      "········\n"
     ]
    }
   ],
   "source": [
    "import getpass # to get the password without it being visible\n",
    "password = getpass.getpass()"
   ]
  },
  {
   "cell_type": "code",
   "execution_count": 5,
   "id": "cda2030d",
   "metadata": {},
   "outputs": [],
   "source": [
    "# define a connection string\n",
    "# dialect + driver: \n",
    "\n",
    "connection_string = 'mysql+pymysql://root:' + password + '@localhost/bank'\n",
    "engine = create_engine(connection_string)"
   ]
  },
  {
   "cell_type": "code",
   "execution_count": 12,
   "id": "913bef77",
   "metadata": {},
   "outputs": [],
   "source": [
    "dloans = pd.read_sql_query('''select d.A2 as district_name, d.A3 as region,\n",
    "sum(l.amount) as total_borrowed,count(l.loan_id) as nrofloanstaken,\n",
    "round(avg(l.amount)) as avg_loanvvalue \n",
    "from loan l\n",
    "join account a using(account_id)\n",
    "join district d on d.A1 = a.district_id\n",
    "group by district_name, region\n",
    "order by sum(l.amount) desc\n",
    "limit 30''', engine)"
   ]
  },
  {
   "cell_type": "code",
   "execution_count": 13,
   "id": "de0551bc",
   "metadata": {},
   "outputs": [
    {
     "name": "stdout",
     "output_type": "stream",
     "text": [
      "<class 'pandas.core.frame.DataFrame'>\n",
      "RangeIndex: 30 entries, 0 to 29\n",
      "Data columns (total 5 columns):\n",
      " #   Column          Non-Null Count  Dtype  \n",
      "---  ------          --------------  -----  \n",
      " 0   district_name   30 non-null     object \n",
      " 1   region          30 non-null     object \n",
      " 2   total_borrowed  30 non-null     float64\n",
      " 3   nrofloanstaken  30 non-null     int64  \n",
      " 4   avg_loanvvalue  30 non-null     float64\n",
      "dtypes: float64(2), int64(1), object(2)\n",
      "memory usage: 1.3+ KB\n"
     ]
    }
   ],
   "source": [
    "dloans.info()"
   ]
  },
  {
   "cell_type": "code",
   "execution_count": 14,
   "id": "cae7c5d5",
   "metadata": {},
   "outputs": [
    {
     "data": {
      "text/html": [
       "<div>\n",
       "<style scoped>\n",
       "    .dataframe tbody tr th:only-of-type {\n",
       "        vertical-align: middle;\n",
       "    }\n",
       "\n",
       "    .dataframe tbody tr th {\n",
       "        vertical-align: top;\n",
       "    }\n",
       "\n",
       "    .dataframe thead th {\n",
       "        text-align: right;\n",
       "    }\n",
       "</style>\n",
       "<table border=\"1\" class=\"dataframe\">\n",
       "  <thead>\n",
       "    <tr style=\"text-align: right;\">\n",
       "      <th></th>\n",
       "      <th>district_name</th>\n",
       "      <th>region</th>\n",
       "      <th>total_borrowed</th>\n",
       "      <th>nrofloanstaken</th>\n",
       "      <th>avg_loanvvalue</th>\n",
       "    </tr>\n",
       "  </thead>\n",
       "  <tbody>\n",
       "    <tr>\n",
       "      <th>0</th>\n",
       "      <td>Hl.m. Praha</td>\n",
       "      <td>Prague</td>\n",
       "      <td>12932412.0</td>\n",
       "      <td>84</td>\n",
       "      <td>153957.0</td>\n",
       "    </tr>\n",
       "    <tr>\n",
       "      <th>1</th>\n",
       "      <td>Brno - mesto</td>\n",
       "      <td>south Moravia</td>\n",
       "      <td>4049400.0</td>\n",
       "      <td>24</td>\n",
       "      <td>168725.0</td>\n",
       "    </tr>\n",
       "    <tr>\n",
       "      <th>2</th>\n",
       "      <td>Ostrava - mesto</td>\n",
       "      <td>north Moravia</td>\n",
       "      <td>3260220.0</td>\n",
       "      <td>20</td>\n",
       "      <td>163011.0</td>\n",
       "    </tr>\n",
       "    <tr>\n",
       "      <th>3</th>\n",
       "      <td>Karvina</td>\n",
       "      <td>north Moravia</td>\n",
       "      <td>3059820.0</td>\n",
       "      <td>24</td>\n",
       "      <td>127493.0</td>\n",
       "    </tr>\n",
       "    <tr>\n",
       "      <th>4</th>\n",
       "      <td>Zlin</td>\n",
       "      <td>south Moravia</td>\n",
       "      <td>3012768.0</td>\n",
       "      <td>17</td>\n",
       "      <td>177222.0</td>\n",
       "    </tr>\n",
       "  </tbody>\n",
       "</table>\n",
       "</div>"
      ],
      "text/plain": [
       "     district_name         region  total_borrowed  nrofloanstaken  \\\n",
       "0      Hl.m. Praha         Prague      12932412.0              84   \n",
       "1     Brno - mesto  south Moravia       4049400.0              24   \n",
       "2  Ostrava - mesto  north Moravia       3260220.0              20   \n",
       "3          Karvina  north Moravia       3059820.0              24   \n",
       "4             Zlin  south Moravia       3012768.0              17   \n",
       "\n",
       "   avg_loanvvalue  \n",
       "0        153957.0  \n",
       "1        168725.0  \n",
       "2        163011.0  \n",
       "3        127493.0  \n",
       "4        177222.0  "
      ]
     },
     "execution_count": 14,
     "metadata": {},
     "output_type": "execute_result"
    }
   ],
   "source": [
    "dloans.head()"
   ]
  },
  {
   "cell_type": "code",
   "execution_count": null,
   "id": "5a664e9f",
   "metadata": {},
   "outputs": [],
   "source": []
  }
 ],
 "metadata": {
  "kernelspec": {
   "display_name": "Python 3",
   "language": "python",
   "name": "python3"
  },
  "language_info": {
   "codemirror_mode": {
    "name": "ipython",
    "version": 3
   },
   "file_extension": ".py",
   "mimetype": "text/x-python",
   "name": "python",
   "nbconvert_exporter": "python",
   "pygments_lexer": "ipython3",
   "version": "3.8.8"
  }
 },
 "nbformat": 4,
 "nbformat_minor": 5
}
